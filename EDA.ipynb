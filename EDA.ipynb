{
 "cells": [
  {
   "cell_type": "markdown",
   "id": "3MbyzpOQZ5Or",
   "metadata": {
    "id": "3MbyzpOQZ5Or"
   },
   "source": [
    "## Data Dictionary\n",
    "\n",
    "\n",
    "There are five tables in the dataset, and you'll need to use all of them for data preprocessing and exploratory data analysis. Below is a data dictionary that lists the columns of each table and describes the data they contain.\n",
    "\n",
    "- `instacart_orders.csv`: Each row corresponds to an order in the Instacart app.\n",
    "\n",
    "'order_id': Unique ID number that identifies each order.\n",
    "\n",
    "'user_id': Unique ID number that identifies each customer's account.\n",
    "\n",
    "'order_number': The number of times this customer has placed an order.\n",
    "\n",
    "'order_dow': The day of the week the order was placed (0 if Sunday).\n",
    "\n",
    "'order_hour_of_day': The time of day the order was placed.\n",
    "\n",
    "'days_since_prior_order': The number of days since the customer made their previous order.\n",
    "\n",
    "- `products.csv`: Each row corresponds to a unique product that customers can buy.\n",
    "\n",
    "'product_id': Unique ID number that identifies each product.\n",
    "\n",
    "'product_name': Name of the product.\n",
    "\n",
    "'aisle_id': Unique ID number that identifies each grocery aisle category.\n",
    "\n",
    "'department_id': Unique ID number that identifies each grocery department.\n",
    "\n",
    "- `order_products.csv`: Each row corresponds to an item ordered in an order.\n",
    "\n",
    "'order_id': Unique ID number that identifies each order.\n",
    "\n",
    "'product_id': Unique ID number that identifies each product.\n",
    "\n",
    "'add_to_cart_order': The sequential order in which each item was added to the cart.\n",
    "\n",
    "'reordered': 0 if the customer has never ordered this product before, 1 if they have ordered it.\n",
    "\n",
    "- `aisles.csv`:\n",
    "\n",
    "'aisle_id': Unique ID number that identifies each grocery aisle category.\n",
    "\n",
    "'aisle': Name of the aisle.\n",
    "\n",
    "- `departments.csv`:\n",
    "\n",
    "'department_id': Unique ID number that identifies each grocery department.\n",
    "\n",
    "'department': Name of the department."
   ]
  },
  {
   "cell_type": "markdown",
   "id": "n3Ha_cNSZ8lK",
   "metadata": {
    "id": "n3Ha_cNSZ8lK"
   },
   "source": [
    "# Paso 1. Import libraries and datasets. \n"
   ]
  },
  {
   "cell_type": "code",
   "execution_count": 2,
   "id": "fbf1adab",
   "metadata": {
    "id": "fbf1adab"
   },
   "outputs": [],
   "source": [
    "import pandas as pd\n",
    "from matplotlib import pyplot as plt"
   ]
  },
  {
   "cell_type": "code",
   "execution_count": 3,
   "id": "ad36396d",
   "metadata": {
    "id": "ad36396d"
   },
   "outputs": [],
   "source": [
    "instacart_orders= pd.read_csv('/Users/pauli/Documents/Data/instacart_project/instacart_orders.csv', sep=';')\n",
    "products= pd.read_csv('/Users/pauli/Documents/Data/instacart_project/products.csv', sep=';')\n",
    "aisles= pd.read_csv('/Users/pauli/Documents/Data/instacart_project/aisles.csv', sep=';')\n",
    "departments= pd.read_csv('/Users/pauli/Documents/Data/instacart_project/departments.csv', sep=';')\n",
    "order_products= pd.read_csv('/Users/pauli/Documents/Data/instacart_project/order_products.csv', sep=';')"
   ]
  },
  {
   "cell_type": "code",
   "execution_count": 4,
   "id": "ad6a1efa",
   "metadata": {
    "id": "ad6a1efa"
   },
   "outputs": [
    {
     "name": "stdout",
     "output_type": "stream",
     "text": [
      "<class 'pandas.core.frame.DataFrame'>\n",
      "RangeIndex: 478967 entries, 0 to 478966\n",
      "Data columns (total 6 columns):\n",
      " #   Column                  Non-Null Count   Dtype  \n",
      "---  ------                  --------------   -----  \n",
      " 0   order_id                478967 non-null  int64  \n",
      " 1   user_id                 478967 non-null  int64  \n",
      " 2   order_number            478967 non-null  int64  \n",
      " 3   order_dow               478967 non-null  int64  \n",
      " 4   order_hour_of_day       478967 non-null  int64  \n",
      " 5   days_since_prior_order  450148 non-null  float64\n",
      "dtypes: float64(1), int64(5)\n",
      "memory usage: 21.9 MB\n"
     ]
    }
   ],
   "source": [
    "instacart_orders.info()"
   ]
  },
  {
   "cell_type": "code",
   "execution_count": 5,
   "id": "5130e05e",
   "metadata": {
    "id": "5130e05e"
   },
   "outputs": [
    {
     "name": "stdout",
     "output_type": "stream",
     "text": [
      "<class 'pandas.core.frame.DataFrame'>\n",
      "RangeIndex: 49694 entries, 0 to 49693\n",
      "Data columns (total 4 columns):\n",
      " #   Column         Non-Null Count  Dtype \n",
      "---  ------         --------------  ----- \n",
      " 0   product_id     49694 non-null  int64 \n",
      " 1   product_name   48436 non-null  object\n",
      " 2   aisle_id       49694 non-null  int64 \n",
      " 3   department_id  49694 non-null  int64 \n",
      "dtypes: int64(3), object(1)\n",
      "memory usage: 1.5+ MB\n"
     ]
    }
   ],
   "source": [
    "products.info()"
   ]
  },
  {
   "cell_type": "code",
   "execution_count": 6,
   "id": "d8370c05",
   "metadata": {
    "id": "d8370c05"
   },
   "outputs": [
    {
     "name": "stdout",
     "output_type": "stream",
     "text": [
      "<class 'pandas.core.frame.DataFrame'>\n",
      "RangeIndex: 134 entries, 0 to 133\n",
      "Data columns (total 2 columns):\n",
      " #   Column    Non-Null Count  Dtype \n",
      "---  ------    --------------  ----- \n",
      " 0   aisle_id  134 non-null    int64 \n",
      " 1   aisle     134 non-null    object\n",
      "dtypes: int64(1), object(1)\n",
      "memory usage: 2.2+ KB\n"
     ]
    }
   ],
   "source": [
    "aisles.info()"
   ]
  },
  {
   "cell_type": "code",
   "execution_count": 7,
   "id": "59e2090f",
   "metadata": {
    "id": "59e2090f"
   },
   "outputs": [
    {
     "name": "stdout",
     "output_type": "stream",
     "text": [
      "<class 'pandas.core.frame.DataFrame'>\n",
      "RangeIndex: 21 entries, 0 to 20\n",
      "Data columns (total 2 columns):\n",
      " #   Column         Non-Null Count  Dtype \n",
      "---  ------         --------------  ----- \n",
      " 0   department_id  21 non-null     int64 \n",
      " 1   department     21 non-null     object\n",
      "dtypes: int64(1), object(1)\n",
      "memory usage: 468.0+ bytes\n"
     ]
    }
   ],
   "source": [
    "departments.info()"
   ]
  },
  {
   "cell_type": "code",
   "execution_count": 8,
   "id": "6fc81694",
   "metadata": {
    "id": "6fc81694"
   },
   "outputs": [
    {
     "name": "stdout",
     "output_type": "stream",
     "text": [
      "<class 'pandas.core.frame.DataFrame'>\n",
      "RangeIndex: 4545007 entries, 0 to 4545006\n",
      "Data columns (total 4 columns):\n",
      " #   Column             Dtype  \n",
      "---  ------             -----  \n",
      " 0   order_id           int64  \n",
      " 1   product_id         int64  \n",
      " 2   add_to_cart_order  float64\n",
      " 3   reordered          int64  \n",
      "dtypes: float64(1), int64(3)\n",
      "memory usage: 138.7 MB\n"
     ]
    }
   ],
   "source": [
    "order_products.info()"
   ]
  },
  {
   "cell_type": "markdown",
   "id": "t75BD19oaR5f",
   "metadata": {
    "id": "t75BD19oaR5f"
   },
   "source": [
    "After observing the data, it is concluded that the data delimiter is ;. It can also be deduced that there are missing values, which we will address later. The data types are integers and strings."
   ]
  },
  {
   "cell_type": "markdown",
   "id": "8RJHqxVmaVsF",
   "metadata": {
    "id": "8RJHqxVmaVsF"
   },
   "source": [
    "# Step 2. Data Preprocessing\n",
    "\n",
    "Preprocess the data as follows:\n",
    "\n",
    "-Verify and correct data types (for example, ensure that ID columns are integers).\n",
    "\n",
    "-Identify and fill missing values.\n",
    "\n",
    "-Identify and remove duplicate values."
   ]
  },
  {
   "cell_type": "markdown",
   "id": "07357848-dc64-4156-9cc3-01ff4365226d",
   "metadata": {
    "id": "07357848-dc64-4156-9cc3-01ff4365226d"
   },
   "source": [
    "## Find and Remove Duplicate Values"
   ]
  },
  {
   "cell_type": "markdown",
   "id": "f179f0a9",
   "metadata": {
    "id": "f179f0a9"
   },
   "source": [
    "### `instacart_orders` data frame"
   ]
  },
  {
   "cell_type": "code",
   "execution_count": 52,
   "id": "b99297a5-405a-463d-8535-9adc3da4ad74",
   "metadata": {
    "id": "b99297a5-405a-463d-8535-9adc3da4ad74"
   },
   "outputs": [
    {
     "name": "stdout",
     "output_type": "stream",
     "text": [
      "Empty DataFrame\n",
      "Columns: [order_id, user_id, order_number, order_dow, order_hour_of_day, days_since_prior_order]\n",
      "Index: []\n",
      "0\n"
     ]
    }
   ],
   "source": [
    "print(instacart_orders[instacart_orders.duplicated()])\n",
    "print (instacart_orders.duplicated().sum())\n"
   ]
  },
  {
   "cell_type": "markdown",
   "id": "PEkwUX_gvt5A",
   "metadata": {
    "id": "PEkwUX_gvt5A"
   },
   "source": [
    "We have 15 duplicate rows in this DataFrame, and they share the same day of the week and time of day when the order was placed."
   ]
  },
  {
   "cell_type": "markdown",
   "id": "0d8e430c",
   "metadata": {},
   "source": [
    "Based on the findings, we will check all orders made on Wednesday at 2:00 AM."
   ]
  },
  {
   "cell_type": "code",
   "execution_count": 53,
   "id": "0d44de5d",
   "metadata": {
    "id": "0d44de5d"
   },
   "outputs": [
    {
     "data": {
      "text/html": [
       "<div>\n",
       "<style scoped>\n",
       "    .dataframe tbody tr th:only-of-type {\n",
       "        vertical-align: middle;\n",
       "    }\n",
       "\n",
       "    .dataframe tbody tr th {\n",
       "        vertical-align: top;\n",
       "    }\n",
       "\n",
       "    .dataframe thead th {\n",
       "        text-align: right;\n",
       "    }\n",
       "</style>\n",
       "<table border=\"1\" class=\"dataframe\">\n",
       "  <thead>\n",
       "    <tr style=\"text-align: right;\">\n",
       "      <th></th>\n",
       "      <th>order_id</th>\n",
       "      <th>user_id</th>\n",
       "      <th>order_number</th>\n",
       "      <th>order_dow</th>\n",
       "      <th>order_hour_of_day</th>\n",
       "      <th>days_since_prior_order</th>\n",
       "    </tr>\n",
       "  </thead>\n",
       "  <tbody>\n",
       "    <tr>\n",
       "      <th>4838</th>\n",
       "      <td>2766110</td>\n",
       "      <td>162084</td>\n",
       "      <td>41</td>\n",
       "      <td>3</td>\n",
       "      <td>2</td>\n",
       "      <td>16.0</td>\n",
       "    </tr>\n",
       "    <tr>\n",
       "      <th>5156</th>\n",
       "      <td>2190225</td>\n",
       "      <td>138285</td>\n",
       "      <td>18</td>\n",
       "      <td>3</td>\n",
       "      <td>2</td>\n",
       "      <td>11.0</td>\n",
       "    </tr>\n",
       "    <tr>\n",
       "      <th>15506</th>\n",
       "      <td>553049</td>\n",
       "      <td>58599</td>\n",
       "      <td>13</td>\n",
       "      <td>3</td>\n",
       "      <td>2</td>\n",
       "      <td>7.0</td>\n",
       "    </tr>\n",
       "    <tr>\n",
       "      <th>18420</th>\n",
       "      <td>382357</td>\n",
       "      <td>120200</td>\n",
       "      <td>19</td>\n",
       "      <td>3</td>\n",
       "      <td>2</td>\n",
       "      <td>11.0</td>\n",
       "    </tr>\n",
       "    <tr>\n",
       "      <th>24691</th>\n",
       "      <td>690242</td>\n",
       "      <td>77357</td>\n",
       "      <td>2</td>\n",
       "      <td>3</td>\n",
       "      <td>2</td>\n",
       "      <td>9.0</td>\n",
       "    </tr>\n",
       "    <tr>\n",
       "      <th>...</th>\n",
       "      <td>...</td>\n",
       "      <td>...</td>\n",
       "      <td>...</td>\n",
       "      <td>...</td>\n",
       "      <td>...</td>\n",
       "      <td>...</td>\n",
       "    </tr>\n",
       "    <tr>\n",
       "      <th>457013</th>\n",
       "      <td>3384021</td>\n",
       "      <td>14881</td>\n",
       "      <td>6</td>\n",
       "      <td>3</td>\n",
       "      <td>2</td>\n",
       "      <td>30.0</td>\n",
       "    </tr>\n",
       "    <tr>\n",
       "      <th>458816</th>\n",
       "      <td>910166</td>\n",
       "      <td>164782</td>\n",
       "      <td>18</td>\n",
       "      <td>3</td>\n",
       "      <td>2</td>\n",
       "      <td>4.0</td>\n",
       "    </tr>\n",
       "    <tr>\n",
       "      <th>459635</th>\n",
       "      <td>1680532</td>\n",
       "      <td>106435</td>\n",
       "      <td>6</td>\n",
       "      <td>3</td>\n",
       "      <td>2</td>\n",
       "      <td>21.0</td>\n",
       "    </tr>\n",
       "    <tr>\n",
       "      <th>468324</th>\n",
       "      <td>222962</td>\n",
       "      <td>54979</td>\n",
       "      <td>59</td>\n",
       "      <td>3</td>\n",
       "      <td>2</td>\n",
       "      <td>3.0</td>\n",
       "    </tr>\n",
       "    <tr>\n",
       "      <th>477526</th>\n",
       "      <td>2592344</td>\n",
       "      <td>46860</td>\n",
       "      <td>38</td>\n",
       "      <td>3</td>\n",
       "      <td>2</td>\n",
       "      <td>3.0</td>\n",
       "    </tr>\n",
       "  </tbody>\n",
       "</table>\n",
       "<p>106 rows × 6 columns</p>\n",
       "</div>"
      ],
      "text/plain": [
       "        order_id  user_id  order_number  order_dow  order_hour_of_day  \\\n",
       "4838     2766110   162084            41          3                  2   \n",
       "5156     2190225   138285            18          3                  2   \n",
       "15506     553049    58599            13          3                  2   \n",
       "18420     382357   120200            19          3                  2   \n",
       "24691     690242    77357             2          3                  2   \n",
       "...          ...      ...           ...        ...                ...   \n",
       "457013   3384021    14881             6          3                  2   \n",
       "458816    910166   164782            18          3                  2   \n",
       "459635   1680532   106435             6          3                  2   \n",
       "468324    222962    54979            59          3                  2   \n",
       "477526   2592344    46860            38          3                  2   \n",
       "\n",
       "        days_since_prior_order  \n",
       "4838                      16.0  \n",
       "5156                      11.0  \n",
       "15506                      7.0  \n",
       "18420                     11.0  \n",
       "24691                      9.0  \n",
       "...                        ...  \n",
       "457013                    30.0  \n",
       "458816                     4.0  \n",
       "459635                    21.0  \n",
       "468324                     3.0  \n",
       "477526                     3.0  \n",
       "\n",
       "[106 rows x 6 columns]"
      ]
     },
     "execution_count": 53,
     "metadata": {},
     "output_type": "execute_result"
    }
   ],
   "source": [
    "wed_orders= instacart_orders[(instacart_orders['order_dow']== 3) & (instacart_orders['order_hour_of_day']== 2)]\n",
    "\n",
    "wed_orders\n",
    "\n",
    "\n",
    "                            "
   ]
  },
  {
   "cell_type": "markdown",
   "id": "vu2OWyoqwOx5",
   "metadata": {
    "id": "vu2OWyoqwOx5"
   },
   "source": [
    "**What does this result suggest?:** Indeed, the duplicates appear on the same day and time, suggesting there was some system failure that recorded the duplicate orders."
   ]
  },
  {
   "cell_type": "code",
   "execution_count": 54,
   "id": "480563c7",
   "metadata": {
    "id": "480563c7"
   },
   "outputs": [],
   "source": [
    "instacart_orders= instacart_orders.drop_duplicates()"
   ]
  },
  {
   "cell_type": "code",
   "execution_count": 55,
   "id": "0b2396a2",
   "metadata": {
    "id": "0b2396a2"
   },
   "outputs": [
    {
     "data": {
      "text/html": [
       "<div>\n",
       "<style scoped>\n",
       "    .dataframe tbody tr th:only-of-type {\n",
       "        vertical-align: middle;\n",
       "    }\n",
       "\n",
       "    .dataframe tbody tr th {\n",
       "        vertical-align: top;\n",
       "    }\n",
       "\n",
       "    .dataframe thead th {\n",
       "        text-align: right;\n",
       "    }\n",
       "</style>\n",
       "<table border=\"1\" class=\"dataframe\">\n",
       "  <thead>\n",
       "    <tr style=\"text-align: right;\">\n",
       "      <th></th>\n",
       "      <th>order_id</th>\n",
       "      <th>user_id</th>\n",
       "      <th>order_number</th>\n",
       "      <th>order_dow</th>\n",
       "      <th>order_hour_of_day</th>\n",
       "      <th>days_since_prior_order</th>\n",
       "    </tr>\n",
       "  </thead>\n",
       "  <tbody>\n",
       "  </tbody>\n",
       "</table>\n",
       "</div>"
      ],
      "text/plain": [
       "Empty DataFrame\n",
       "Columns: [order_id, user_id, order_number, order_dow, order_hour_of_day, days_since_prior_order]\n",
       "Index: []"
      ]
     },
     "execution_count": 55,
     "metadata": {},
     "output_type": "execute_result"
    }
   ],
   "source": [
    "instacart_orders[instacart_orders.duplicated()]"
   ]
  },
  {
   "cell_type": "code",
   "execution_count": null,
   "id": "f6113ef1",
   "metadata": {
    "id": "f6113ef1"
   },
   "outputs": [
    {
     "data": {
      "text/plain": [
       "0"
      ]
     },
     "execution_count": 56,
     "metadata": {},
     "output_type": "execute_result"
    }
   ],
   "source": [
    "instacart_orders['order_id'].duplicated().sum()\n",
    "# Recheck if there are duplicated order IDs"
   ]
  },
  {
   "cell_type": "markdown",
   "id": "5e8905ae",
   "metadata": {
    "id": "5e8905ae"
   },
   "source": [
    "There are no implicit duplicates."
   ]
  },
  {
   "cell_type": "markdown",
   "id": "45e6bc46",
   "metadata": {
    "id": "45e6bc46"
   },
   "source": [
    "### `products` data frame"
   ]
  },
  {
   "cell_type": "code",
   "execution_count": 14,
   "id": "5f526b5b-8175-46fa-a0fd-441767d50e64",
   "metadata": {
    "id": "5f526b5b-8175-46fa-a0fd-441767d50e64"
   },
   "outputs": [
    {
     "name": "stdout",
     "output_type": "stream",
     "text": [
      "0\n"
     ]
    }
   ],
   "source": [
    "# Verifica si hay filas totalmente duplicadas\n",
    "\n",
    "print (products.duplicated().sum())"
   ]
  },
  {
   "cell_type": "code",
   "execution_count": 15,
   "id": "88daa4f4",
   "metadata": {
    "id": "88daa4f4"
   },
   "outputs": [
    {
     "name": "stdout",
     "output_type": "stream",
     "text": [
      "0\n"
     ]
    }
   ],
   "source": [
    "# Verifica si hay IDs duplicadas de productos\n",
    "print (products['product_id'].duplicated().sum())"
   ]
  },
  {
   "cell_type": "code",
   "execution_count": 16,
   "id": "c773f0bf",
   "metadata": {
    "id": "c773f0bf"
   },
   "outputs": [
    {
     "name": "stdout",
     "output_type": "stream",
     "text": [
      "1361\n"
     ]
    }
   ],
   "source": [
    "# Revisa si hay nombres duplicados de productos (convierte los nombres a letras mayúsculas para compararlos mejor)\n",
    "\n",
    "print (products['product_name'].str.upper().duplicated().sum())\n"
   ]
  },
  {
   "cell_type": "code",
   "execution_count": 17,
   "id": "01efd02e",
   "metadata": {
    "id": "01efd02e"
   },
   "outputs": [
    {
     "data": {
      "text/plain": [
       "104"
      ]
     },
     "execution_count": 17,
     "metadata": {},
     "output_type": "execute_result"
    }
   ],
   "source": [
    "# Revisa si hay nombres duplicados de productos no faltantes \n",
    "(products[~products['product_name'].isna()]['product_name'].str.upper().duplicated().sum())\n"
   ]
  },
  {
   "cell_type": "markdown",
   "id": "9da8d293",
   "metadata": {
    "id": "9da8d293"
   },
   "source": [
    "De los 1361 duplicados que hay, 104 son realmente duplicados de nombres de productos. Sin embargo, desde que el product id no sea duplicado, estos duplicados no representan un problema para el análisis. "
   ]
  },
  {
   "cell_type": "markdown",
   "id": "60f30db1",
   "metadata": {
    "id": "60f30db1"
   },
   "source": [
    "### `departments` data frame"
   ]
  },
  {
   "cell_type": "code",
   "execution_count": 18,
   "id": "fb410ad4-0fbf-4b80-bb09-23fdea79afe3",
   "metadata": {
    "id": "fb410ad4-0fbf-4b80-bb09-23fdea79afe3"
   },
   "outputs": [
    {
     "name": "stdout",
     "output_type": "stream",
     "text": [
      "0\n"
     ]
    }
   ],
   "source": [
    "# Revisa si hay filas totalmente duplicadas\n",
    "\n",
    "print (departments.duplicated().sum())"
   ]
  },
  {
   "cell_type": "code",
   "execution_count": 19,
   "id": "332b12bb",
   "metadata": {
    "id": "332b12bb"
   },
   "outputs": [
    {
     "name": "stdout",
     "output_type": "stream",
     "text": [
      "0\n"
     ]
    }
   ],
   "source": [
    "# Revisa si hay IDs duplicadas de productos\n",
    "\n",
    "print (departments['department_id'].duplicated().sum())"
   ]
  },
  {
   "cell_type": "markdown",
   "id": "bd30d78e",
   "metadata": {
    "id": "bd30d78e"
   },
   "source": [
    "No hay duplicados en los departamentos, por lo que por ahora no hay que hacer modificaciones a este DataFrames. "
   ]
  },
  {
   "cell_type": "markdown",
   "id": "889349c1",
   "metadata": {
    "id": "889349c1"
   },
   "source": [
    "### `aisles` data frame"
   ]
  },
  {
   "cell_type": "code",
   "execution_count": 20,
   "id": "9da89fb9-4679-40f5-ad0d-c34df753a3f8",
   "metadata": {
    "id": "9da89fb9-4679-40f5-ad0d-c34df753a3f8"
   },
   "outputs": [
    {
     "name": "stdout",
     "output_type": "stream",
     "text": [
      "0\n"
     ]
    }
   ],
   "source": [
    "# Revisa si hay filas totalmente duplicadas\n",
    "print (aisles.duplicated().sum())"
   ]
  },
  {
   "cell_type": "code",
   "execution_count": 21,
   "id": "da7c2822",
   "metadata": {
    "id": "da7c2822"
   },
   "outputs": [
    {
     "name": "stdout",
     "output_type": "stream",
     "text": [
      "0\n"
     ]
    }
   ],
   "source": [
    "# Revisa si hay IDs duplicadas de productos\n",
    "\n",
    "print (aisles['aisle_id'].duplicated().sum())"
   ]
  },
  {
   "cell_type": "markdown",
   "id": "ac63826f",
   "metadata": {
    "id": "ac63826f"
   },
   "source": [
    "No hay duplicados en los aisles, por lo que por ahora no hay que hacer modificaciones a este DataFrames. "
   ]
  },
  {
   "cell_type": "markdown",
   "id": "274cd06a",
   "metadata": {
    "id": "274cd06a"
   },
   "source": [
    "### `order_products` data frame"
   ]
  },
  {
   "cell_type": "code",
   "execution_count": 22,
   "id": "52326689-84a8-4b8f-a881-7c68780f62c9",
   "metadata": {
    "id": "52326689-84a8-4b8f-a881-7c68780f62c9"
   },
   "outputs": [
    {
     "name": "stdout",
     "output_type": "stream",
     "text": [
      "0\n"
     ]
    }
   ],
   "source": [
    "\n",
    "print (order_products.duplicated().sum())\n"
   ]
  },
  {
   "cell_type": "code",
   "execution_count": 23,
   "id": "7b861391",
   "metadata": {
    "id": "7b861391"
   },
   "outputs": [
    {
     "data": {
      "text/plain": [
       "0"
      ]
     },
     "execution_count": 23,
     "metadata": {},
     "output_type": "execute_result"
    }
   ],
   "source": [
    "order_products[['order_id', 'product_id']].duplicated().sum()"
   ]
  },
  {
   "cell_type": "markdown",
   "id": "0b890492",
   "metadata": {
    "id": "0b890492"
   },
   "source": [
    "No hay duplicados implicitos. "
   ]
  },
  {
   "cell_type": "markdown",
   "id": "1e46de76",
   "metadata": {
    "id": "1e46de76"
   },
   "source": [
    "## Encuentra y elimina los valores ausentes\n",
    "\n",
    "Al trabajar con valores duplicados, pudimos observar que también nos falta investigar valores ausentes:\n",
    "\n",
    "* La columna `'product_name'` de la tabla products.\n",
    "* La columna `'days_since_prior_order'` de la tabla orders.\n",
    "* La columna `'add_to_cart_order'` de la tabla order_productos."
   ]
  },
  {
   "cell_type": "markdown",
   "id": "c0aebd78",
   "metadata": {
    "id": "c0aebd78"
   },
   "source": [
    "### `products` data frame"
   ]
  },
  {
   "cell_type": "code",
   "execution_count": 24,
   "id": "fe4a8b0f",
   "metadata": {
    "id": "fe4a8b0f"
   },
   "outputs": [
    {
     "name": "stdout",
     "output_type": "stream",
     "text": [
      "1258\n",
      "       product_id product_name  aisle_id  department_id\n",
      "37             38          NaN       100             21\n",
      "71             72          NaN       100             21\n",
      "109           110          NaN       100             21\n",
      "296           297          NaN       100             21\n",
      "416           417          NaN       100             21\n",
      "...           ...          ...       ...            ...\n",
      "49552       49553          NaN       100             21\n",
      "49574       49575          NaN       100             21\n",
      "49640       49641          NaN       100             21\n",
      "49663       49664          NaN       100             21\n",
      "49668       49669          NaN       100             21\n",
      "\n",
      "[1258 rows x 4 columns]\n"
     ]
    }
   ],
   "source": [
    "# Encuentra los valores ausentes en la columna 'product_name'\n",
    "print (products['product_name'].isna().sum())\n",
    "print (products[products['product_name'].isna()])"
   ]
  },
  {
   "cell_type": "markdown",
   "id": "-A6x1AbJhjkp",
   "metadata": {
    "id": "-A6x1AbJhjkp"
   },
   "source": [
    "Hay 1258 valores ausentes en el nombre de los productos y parece que estan relacionados al pasillo 100 y al departamento 21. "
   ]
  },
  {
   "cell_type": "code",
   "execution_count": 25,
   "id": "e96167bc",
   "metadata": {
    "id": "e96167bc"
   },
   "outputs": [
    {
     "data": {
      "text/html": [
       "<div>\n",
       "<style scoped>\n",
       "    .dataframe tbody tr th:only-of-type {\n",
       "        vertical-align: middle;\n",
       "    }\n",
       "\n",
       "    .dataframe tbody tr th {\n",
       "        vertical-align: top;\n",
       "    }\n",
       "\n",
       "    .dataframe thead th {\n",
       "        text-align: right;\n",
       "    }\n",
       "</style>\n",
       "<table border=\"1\" class=\"dataframe\">\n",
       "  <thead>\n",
       "    <tr style=\"text-align: right;\">\n",
       "      <th></th>\n",
       "      <th>product_id</th>\n",
       "      <th>product_name</th>\n",
       "      <th>aisle_id</th>\n",
       "      <th>department_id</th>\n",
       "    </tr>\n",
       "  </thead>\n",
       "  <tbody>\n",
       "  </tbody>\n",
       "</table>\n",
       "</div>"
      ],
      "text/plain": [
       "Empty DataFrame\n",
       "Columns: [product_id, product_name, aisle_id, department_id]\n",
       "Index: []"
      ]
     },
     "execution_count": 25,
     "metadata": {},
     "output_type": "execute_result"
    }
   ],
   "source": [
    "#  ¿Todos los nombres de productos ausentes están relacionados con el pasillo con ID 100?\n",
    "\n",
    "products[(products['product_name'].isna()) & (products['aisle_id']!=100)]\n"
   ]
  },
  {
   "cell_type": "markdown",
   "id": "WRpIfXRphpSL",
   "metadata": {
    "id": "WRpIfXRphpSL"
   },
   "source": [
    "Si, todos los valores ausentes se encuentran en el pasillo con ID 100, ya que no aparecen valores ausentes en otras filas que no sea la del pasillo 100."
   ]
  },
  {
   "cell_type": "code",
   "execution_count": 26,
   "id": "8fd0a541",
   "metadata": {
    "id": "8fd0a541"
   },
   "outputs": [
    {
     "data": {
      "text/html": [
       "<div>\n",
       "<style scoped>\n",
       "    .dataframe tbody tr th:only-of-type {\n",
       "        vertical-align: middle;\n",
       "    }\n",
       "\n",
       "    .dataframe tbody tr th {\n",
       "        vertical-align: top;\n",
       "    }\n",
       "\n",
       "    .dataframe thead th {\n",
       "        text-align: right;\n",
       "    }\n",
       "</style>\n",
       "<table border=\"1\" class=\"dataframe\">\n",
       "  <thead>\n",
       "    <tr style=\"text-align: right;\">\n",
       "      <th></th>\n",
       "      <th>product_id</th>\n",
       "      <th>product_name</th>\n",
       "      <th>aisle_id</th>\n",
       "      <th>department_id</th>\n",
       "    </tr>\n",
       "  </thead>\n",
       "  <tbody>\n",
       "  </tbody>\n",
       "</table>\n",
       "</div>"
      ],
      "text/plain": [
       "Empty DataFrame\n",
       "Columns: [product_id, product_name, aisle_id, department_id]\n",
       "Index: []"
      ]
     },
     "execution_count": 26,
     "metadata": {},
     "output_type": "execute_result"
    }
   ],
   "source": [
    "# ¿Todos los nombres de productos ausentes están relacionados con el departamento con ID 21?\n",
    "products[(products['product_name'].isna()) & (products['department_id']!=21)]"
   ]
  },
  {
   "cell_type": "markdown",
   "id": "qDpdYn1Fht_I",
   "metadata": {
    "id": "qDpdYn1Fht_I"
   },
   "source": [
    "Si, todos los valores ausentes se encuentran relacionados al departamento con ID 21."
   ]
  },
  {
   "cell_type": "code",
   "execution_count": 27,
   "id": "325c3464",
   "metadata": {
    "id": "325c3464"
   },
   "outputs": [
    {
     "name": "stdout",
     "output_type": "stream",
     "text": [
      "    aisle_id    aisle\n",
      "99       100  missing\n",
      "\n",
      "    department_id department\n",
      "20             21    missing\n"
     ]
    }
   ],
   "source": [
    "# Usa las tablas department y aisle para revisar los datos del pasillo con ID 100 y el departamento con ID 21.\n",
    "\n",
    "aisle_100= aisles[aisles['aisle_id']==100]\n",
    "\n",
    "dept_21= departments[departments['department_id']==21]\n",
    "\n",
    "print (aisle_100)\n",
    "print ()\n",
    "print (dept_21)"
   ]
  },
  {
   "cell_type": "markdown",
   "id": "nqhSTUPhhvEJ",
   "metadata": {
    "id": "nqhSTUPhhvEJ"
   },
   "source": [
    "Tanto el nombre del pasillo como del departamento son datos faltantes."
   ]
  },
  {
   "cell_type": "code",
   "execution_count": 28,
   "id": "6b295120",
   "metadata": {
    "id": "6b295120"
   },
   "outputs": [
    {
     "name": "stdout",
     "output_type": "stream",
     "text": [
      "0\n"
     ]
    }
   ],
   "source": [
    "# Completa los nombres de productos ausentes con 'Unknown'\n",
    "\n",
    "products['product_name'].fillna('Unknown', inplace=True)\n",
    "\n",
    "print (products['product_name'].isna().sum())\n"
   ]
  },
  {
   "cell_type": "markdown",
   "id": "fc70e5ad",
   "metadata": {
    "id": "fc70e5ad"
   },
   "source": [
    "Utilicé el método fillna para reemplazar valores ausentes en la columna product name."
   ]
  },
  {
   "cell_type": "markdown",
   "id": "7eb45c86",
   "metadata": {
    "id": "7eb45c86"
   },
   "source": [
    "### `orders` data frame"
   ]
  },
  {
   "cell_type": "code",
   "execution_count": 29,
   "id": "93e41d96",
   "metadata": {
    "id": "93e41d96"
   },
   "outputs": [
    {
     "name": "stdout",
     "output_type": "stream",
     "text": [
      "28817\n",
      "        order_id  user_id  order_number  order_dow  order_hour_of_day  \\\n",
      "28        133707   182261             1          3                 10   \n",
      "96        787445    25685             1          6                 18   \n",
      "100       294410   111449             1          0                 19   \n",
      "103      2869915   123958             1          4                 16   \n",
      "104      2521921    42286             1          3                 18   \n",
      "...          ...      ...           ...        ...                ...   \n",
      "478895   2589657   205028             1          0                 16   \n",
      "478896   2222353   141211             1          2                 13   \n",
      "478922   2272807   204154             1          1                 15   \n",
      "478926   2499542    68810             1          4                 19   \n",
      "478945   1387033    22496             1          5                 14   \n",
      "\n",
      "        days_since_prior_order  \n",
      "28                         NaN  \n",
      "96                         NaN  \n",
      "100                        NaN  \n",
      "103                        NaN  \n",
      "104                        NaN  \n",
      "...                        ...  \n",
      "478895                     NaN  \n",
      "478896                     NaN  \n",
      "478922                     NaN  \n",
      "478926                     NaN  \n",
      "478945                     NaN  \n",
      "\n",
      "[28817 rows x 6 columns]\n"
     ]
    }
   ],
   "source": [
    "# Encuentra los valores ausentes\n",
    "print (instacart_orders['days_since_prior_order'].isna().sum())\n",
    "\n",
    "print (instacart_orders[instacart_orders['days_since_prior_order'].isna()])"
   ]
  },
  {
   "cell_type": "code",
   "execution_count": 30,
   "id": "166e5a86",
   "metadata": {
    "id": "166e5a86"
   },
   "outputs": [
    {
     "data": {
      "text/html": [
       "<div>\n",
       "<style scoped>\n",
       "    .dataframe tbody tr th:only-of-type {\n",
       "        vertical-align: middle;\n",
       "    }\n",
       "\n",
       "    .dataframe tbody tr th {\n",
       "        vertical-align: top;\n",
       "    }\n",
       "\n",
       "    .dataframe thead th {\n",
       "        text-align: right;\n",
       "    }\n",
       "</style>\n",
       "<table border=\"1\" class=\"dataframe\">\n",
       "  <thead>\n",
       "    <tr style=\"text-align: right;\">\n",
       "      <th></th>\n",
       "      <th>order_id</th>\n",
       "      <th>user_id</th>\n",
       "      <th>order_number</th>\n",
       "      <th>order_dow</th>\n",
       "      <th>order_hour_of_day</th>\n",
       "      <th>days_since_prior_order</th>\n",
       "    </tr>\n",
       "  </thead>\n",
       "  <tbody>\n",
       "  </tbody>\n",
       "</table>\n",
       "</div>"
      ],
      "text/plain": [
       "Empty DataFrame\n",
       "Columns: [order_id, user_id, order_number, order_dow, order_hour_of_day, days_since_prior_order]\n",
       "Index: []"
      ]
     },
     "execution_count": 30,
     "metadata": {},
     "output_type": "execute_result"
    }
   ],
   "source": [
    "instacart_orders[(instacart_orders['days_since_prior_order'].isna()) & (instacart_orders['order_number']!=1)]"
   ]
  },
  {
   "cell_type": "markdown",
   "id": "4e23d089",
   "metadata": {
    "id": "4e23d089"
   },
   "source": [
    "No, todos los NaN que se muestran son el primer pedido del cliente."
   ]
  },
  {
   "cell_type": "markdown",
   "id": "69dc9ca4",
   "metadata": {
    "id": "69dc9ca4"
   },
   "source": [
    "### `order_products` data frame"
   ]
  },
  {
   "cell_type": "code",
   "execution_count": 31,
   "id": "b8240253",
   "metadata": {
    "id": "b8240253"
   },
   "outputs": [
    {
     "name": "stdout",
     "output_type": "stream",
     "text": [
      "836\n",
      "         order_id  product_id  add_to_cart_order  reordered\n",
      "737       2449164        5068                NaN          0\n",
      "9926      1968313       43867                NaN          0\n",
      "14394     2926893       11688                NaN          0\n",
      "16418     1717990        4142                NaN          0\n",
      "30114     1959075       42828                NaN          1\n",
      "...           ...         ...                ...        ...\n",
      "4505662   1800005        7411                NaN          0\n",
      "4511400   1633337         260                NaN          0\n",
      "4517562    404157        9517                NaN          0\n",
      "4534112   1673227       17835                NaN          0\n",
      "4535739   1832957       17949                NaN          1\n",
      "\n",
      "[836 rows x 4 columns]\n"
     ]
    }
   ],
   "source": [
    "# Encuentra los valores ausentes\n",
    "print (order_products['add_to_cart_order'].isna().sum())\n",
    "print (order_products[order_products['add_to_cart_order'].isna()])"
   ]
  },
  {
   "cell_type": "code",
   "execution_count": 32,
   "id": "9a78e5ee",
   "metadata": {
    "id": "9a78e5ee"
   },
   "outputs": [
    {
     "name": "stdout",
     "output_type": "stream",
     "text": [
      "1.0\n",
      "64.0\n"
     ]
    }
   ],
   "source": [
    "# ¿Cuáles son los valores mínimos y máximos en esta columna?\n",
    "\n",
    "min_add_to_cart_order= order_products['add_to_cart_order'].min()\n",
    "\n",
    "max_add_to_cart_order= order_products['add_to_cart_order'].max()\n",
    "\n",
    "print (min_add_to_cart_order)\n",
    "print (max_add_to_cart_order)"
   ]
  },
  {
   "cell_type": "markdown",
   "id": "-Z2Ja215jW78",
   "metadata": {
    "id": "-Z2Ja215jW78"
   },
   "source": [
    "Al parecer las ordenes van de 1 hasta 64 productos. "
   ]
  },
  {
   "cell_type": "code",
   "execution_count": 33,
   "id": "ab9d0c2b",
   "metadata": {
    "id": "ab9d0c2b"
   },
   "outputs": [
    {
     "name": "stdout",
     "output_type": "stream",
     "text": [
      "737        2449164\n",
      "9926       1968313\n",
      "14394      2926893\n",
      "16418      1717990\n",
      "30114      1959075\n",
      "            ...   \n",
      "4505662    1800005\n",
      "4511400    1633337\n",
      "4517562     404157\n",
      "4534112    1673227\n",
      "4535739    1832957\n",
      "Name: order_id, Length: 836, dtype: int64\n"
     ]
    }
   ],
   "source": [
    "# Guarda todas las IDs de pedidos que tengan un valor ausente en 'add_to_cart_order'\n",
    "\n",
    "orders_with_nan = order_products[(order_products['add_to_cart_order'].isna())]['order_id']\n",
    "\n",
    "print (orders_with_nan)"
   ]
  },
  {
   "cell_type": "code",
   "execution_count": 34,
   "id": "54c31695",
   "metadata": {
    "id": "54c31695"
   },
   "outputs": [
    {
     "name": "stdout",
     "output_type": "stream",
     "text": [
      "65\n"
     ]
    }
   ],
   "source": [
    "# ¿Todos los pedidos con valores ausentes tienen más de 64 productos?\n",
    "df_grupo = order_products[order_products['order_id'].isin(orders_with_nan)]\n",
    "\n",
    "\n",
    "# Agrupa todos los pedidos con datos ausentes por su ID de pedido.\n",
    "# Cuenta el número de 'product_id' en cada pedido y revisa el valor mínimo del conteo.\n",
    "\n",
    "\n",
    "id_grouped= df_grupo.groupby('order_id')['product_id'].count()\n",
    "print (id_grouped.min())"
   ]
  },
  {
   "cell_type": "markdown",
   "id": "p9V6pddtjglj",
   "metadata": {
    "id": "p9V6pddtjglj"
   },
   "source": [
    "Realmente los pedidos pueden tener mas de 64 productos, si se cuentan los que tienen NaN in add to cart order."
   ]
  },
  {
   "cell_type": "code",
   "execution_count": 35,
   "id": "7a987d08",
   "metadata": {
    "id": "7a987d08"
   },
   "outputs": [
    {
     "name": "stdout",
     "output_type": "stream",
     "text": [
      "0\n"
     ]
    },
    {
     "name": "stderr",
     "output_type": "stream",
     "text": [
      "/var/folders/cq/bs731p7n52x64481gqr1xjvm0000gn/T/ipykernel_53332/3974100769.py:2: FutureWarning: A value is trying to be set on a copy of a DataFrame or Series through chained assignment using an inplace method.\n",
      "The behavior will change in pandas 3.0. This inplace method will never work because the intermediate object on which we are setting values always behaves as a copy.\n",
      "\n",
      "For example, when doing 'df[col].method(value, inplace=True)', try using 'df.method({col: value}, inplace=True)' or df[col] = df[col].method(value) instead, to perform the operation inplace on the original object.\n",
      "\n",
      "\n",
      "  order_products['add_to_cart_order'].fillna(999, inplace=True)\n"
     ]
    }
   ],
   "source": [
    "# Remplaza los valores ausentes en la columna 'add_to_cart? con 999 y convierte la columna al tipo entero.\n",
    "order_products['add_to_cart_order'].fillna(999, inplace=True)\n",
    "\n",
    "order_products['add_to_cart_order']= order_products['add_to_cart_order'].astype('int')\n",
    "\n",
    "print (order_products['add_to_cart_order'].isna().sum())"
   ]
  },
  {
   "cell_type": "markdown",
   "id": "fea4bcc7",
   "metadata": {
    "id": "fea4bcc7"
   },
   "source": [
    "Utilicé el método fillna, y el astype para convertir la columna a enteros, al final verifiqué que hayan quedado bien reemplazados con isna y sum."
   ]
  },
  {
   "cell_type": "markdown",
   "id": "RnplPFY1gSrb",
   "metadata": {
    "id": "RnplPFY1gSrb"
   },
   "source": [
    "## Conclusiones\n",
    "\n",
    "A pesar de haber duplicados y valores ausentes, podemos observar que no era necesario deshacerse de todos porque por la naturaleza de los datos recolectados, es completamente normal y dejarlos no entorpece el análisis. "
   ]
  },
  {
   "cell_type": "markdown",
   "id": "UjrOIwTcz3ri",
   "metadata": {
    "id": "UjrOIwTcz3ri"
   },
   "source": [
    "# Paso 3. Análisis de los datos\n",
    "\n",
    "Una vez los datos estén procesados y listos, haz el siguiente análisis:"
   ]
  },
  {
   "cell_type": "markdown",
   "id": "short-capability",
   "metadata": {
    "id": "short-capability"
   },
   "source": [
    "### Verifica que los valores sean sensibles"
   ]
  },
  {
   "cell_type": "code",
   "execution_count": 36,
   "id": "growing-fruit",
   "metadata": {
    "id": "growing-fruit"
   },
   "outputs": [
    {
     "name": "stdout",
     "output_type": "stream",
     "text": [
      "0\n",
      "23\n"
     ]
    }
   ],
   "source": [
    "print (instacart_orders['order_hour_of_day'].min())\n",
    "print (instacart_orders['order_hour_of_day'].max())"
   ]
  },
  {
   "cell_type": "code",
   "execution_count": 37,
   "id": "accessory-malaysia",
   "metadata": {
    "id": "accessory-malaysia"
   },
   "outputs": [
    {
     "name": "stdout",
     "output_type": "stream",
     "text": [
      "0\n",
      "6\n"
     ]
    }
   ],
   "source": [
    "print (instacart_orders['order_dow'].min())\n",
    "print (instacart_orders['order_dow'].max())"
   ]
  },
  {
   "cell_type": "markdown",
   "id": "hmR2GNQ6lCsX",
   "metadata": {
    "id": "hmR2GNQ6lCsX"
   },
   "source": [
    "Los mínimos y máximos de cada columna son razonables. "
   ]
  },
  {
   "cell_type": "markdown",
   "id": "a6743a70",
   "metadata": {
    "id": "a6743a70"
   },
   "source": [
    "### [A2] Para cada hora del día, ¿cuántas personas hacen órdenes?"
   ]
  },
  {
   "cell_type": "code",
   "execution_count": 38,
   "id": "a36cca27",
   "metadata": {
    "id": "a36cca27"
   },
   "outputs": [
    {
     "data": {
      "text/plain": [
       "<Axes: title={'center': 'Number of users who order per hour.'}, xlabel='Hour of day'>"
      ]
     },
     "execution_count": 38,
     "metadata": {},
     "output_type": "execute_result"
    },
    {
     "data": {
      "image/png": "[encoded data removed]",
      "text/plain": [
       "<Figure size 640x480 with 1 Axes>"
      ]
     },
     "metadata": {},
     "output_type": "display_data"
    }
   ],
   "source": [
    "\n",
    "\n",
    "instacart_orders.groupby('order_hour_of_day')['user_id'].count().plot(kind = 'bar', title = 'Number of users who order per hour.', xlabel= 'Hour of day', y= 'Number of users.')"
   ]
  },
  {
   "cell_type": "markdown",
   "id": "11270eed",
   "metadata": {
    "id": "11270eed"
   },
   "source": [
    "El mayor flujo de personas realizando pedidos se encuentra entre las 10 de la mañana y empieza a decrecer a las 4 de la tarde. "
   ]
  },
  {
   "cell_type": "markdown",
   "id": "documented-command",
   "metadata": {
    "id": "documented-command"
   },
   "source": [
    "### [A3] ¿Qué día de la semana compran víveres las personas?"
   ]
  },
  {
   "cell_type": "code",
   "execution_count": 39,
   "id": "chief-digit",
   "metadata": {
    "id": "chief-digit"
   },
   "outputs": [
    {
     "data": {
      "text/plain": [
       "<Axes: title={'center': 'Number of users who purchase per day of the week'}, xlabel='Day of the week', ylabel='Number of users'>"
      ]
     },
     "execution_count": 39,
     "metadata": {},
     "output_type": "execute_result"
    },
    {
     "data": {
      "image/png": "[encoded data removed]",
      "text/plain": [
       "<Figure size 640x480 with 1 Axes>"
      ]
     },
     "metadata": {},
     "output_type": "display_data"
    }
   ],
   "source": [
    "instacart_orders.groupby('order_dow')['user_id'].count().plot(kind='bar', title= 'Number of users who purchase per day of the week', ylabel= 'Number of users', xlabel= 'Day of the week')"
   ]
  },
  {
   "cell_type": "markdown",
   "id": "dominant-lightning",
   "metadata": {
    "id": "dominant-lightning"
   },
   "source": [
    "Los dias que mas compras se realizan son el domingo y el lunes. "
   ]
  },
  {
   "cell_type": "markdown",
   "id": "cutting-concert",
   "metadata": {
    "id": "cutting-concert"
   },
   "source": [
    "### [A4] ¿Cuánto tiempo esperan las personas hasta hacer otro pedido? Comenta sobre los valores mínimos y máximos."
   ]
  },
  {
   "cell_type": "code",
   "execution_count": 40,
   "id": "c231f523",
   "metadata": {
    "id": "c231f523"
   },
   "outputs": [
    {
     "data": {
      "text/plain": [
       "<Axes: title={'center': 'Days in between orders'}, xlabel='days_since_prior_order'>"
      ]
     },
     "execution_count": 40,
     "metadata": {},
     "output_type": "execute_result"
    },
    {
     "data": {
      "image/png": "[encoded data removed]",
      "text/plain": [
       "<Figure size 640x480 with 1 Axes>"
      ]
     },
     "metadata": {},
     "output_type": "display_data"
    }
   ],
   "source": [
    "instacart_orders.groupby('days_since_prior_order')['user_id'].count().plot(kind='bar', title='Days in between orders')"
   ]
  },
  {
   "cell_type": "markdown",
   "id": "discrete-vertex",
   "metadata": {
    "id": "discrete-vertex"
   },
   "source": [
    "Alrededor de 10.000 usuarios ordenan todos los dias y la mayoria de los usuarios (50.000), puede dejar pasar 30 dias sin hacer un pedido. "
   ]
  },
  {
   "cell_type": "markdown",
   "id": "tight-staff",
   "metadata": {
    "id": "tight-staff"
   },
   "source": [
    "# [B] Intermedio (deben completarse todos para aprobar)\n",
    "\n",
    "1. ¿Existe alguna diferencia entre las distribuciones `'order_hour_of_day'` de los miércoles y los sábados? Traza gráficos de barra de `'order_hour_of_day'` para ambos días en la misma figura y describe las diferencias que observes.\n",
    "2. Grafica la distribución para el número de órdenes que hacen los clientes (es decir, cuántos clientes hicieron solo 1 pedido, cuántos hicieron 2, cuántos 3, y así sucesivamente...).\n",
    "3. ¿Cuáles son los 20 principales productos que se piden con más frecuencia (muestra su identificación y nombre)?"
   ]
  },
  {
   "cell_type": "markdown",
   "id": "packed-classic",
   "metadata": {
    "id": "packed-classic"
   },
   "source": [
    "### [B1] Diferencia entre miércoles y sábados para  `'order_hour_of_day'`. Traza gráficos de barra para los dos días y describe las diferencias que veas."
   ]
  },
  {
   "cell_type": "code",
   "execution_count": null,
   "id": "94e54e8a",
   "metadata": {
    "id": "94e54e8a"
   },
   "outputs": [],
   "source": []
  },
  {
   "cell_type": "code",
   "execution_count": 41,
   "id": "797c90a8",
   "metadata": {
    "id": "797c90a8"
   },
   "outputs": [
    {
     "data": {
      "text/plain": [
       "<Axes: title={'center': 'Wednesday vs. Saturday orders per hour'}, xlabel='Hour of day', ylabel='Number of users'>"
      ]
     },
     "execution_count": 41,
     "metadata": {},
     "output_type": "execute_result"
    },
    {
     "data": {
      "image/png": "[encoded data removed]",
      "text/plain": [
       "<Figure size 640x480 with 1 Axes>"
      ]
     },
     "metadata": {},
     "output_type": "display_data"
    }
   ],
   "source": [
    "wednesday= instacart_orders[instacart_orders['order_dow']== 3].groupby('order_hour_of_day')['order_id'].count()\n",
    "saturday= instacart_orders[instacart_orders['order_dow']== 6].groupby('order_hour_of_day')['order_id'].count()\n",
    "\n",
    "days_comparative= pd.concat([wednesday, saturday], axis=1)\n",
    "days_comparative.columns= ['Wednesday', 'Saturday']\n",
    "\n",
    "days_comparative.plot(kind='bar', title= 'Wednesday vs. Saturday orders per hour', xlabel= 'Hour of day', ylabel= 'Number of users')"
   ]
  },
  {
   "cell_type": "markdown",
   "id": "charitable-congo",
   "metadata": {
    "id": "charitable-congo"
   },
   "source": [
    "Las ordenes de los Miercoles y Sabados por horas del dia son bastante similares, a excepcion de las horas entre las 11am y 2pm, donde las del Sábado son un poco mayores. "
   ]
  },
  {
   "cell_type": "markdown",
   "id": "e3891143",
   "metadata": {
    "id": "e3891143"
   },
   "source": [
    "### [B2] ¿Cuál es la distribución para el número de pedidos por cliente?"
   ]
  },
  {
   "cell_type": "code",
   "execution_count": 42,
   "id": "d8c26c23",
   "metadata": {
    "id": "d8c26c23"
   },
   "outputs": [
    {
     "data": {
      "text/plain": [
       "<Axes: title={'center': 'Number of orders per client'}, xlabel='Number of orders', ylabel='Number of clients'>"
      ]
     },
     "execution_count": 42,
     "metadata": {},
     "output_type": "execute_result"
    },
    {
     "data": {
      "image/png": "[encoded data removed]",
      "text/plain": [
       "<Figure size 640x480 with 1 Axes>"
      ]
     },
     "metadata": {},
     "output_type": "display_data"
    }
   ],
   "source": [
    "instacart_orders.groupby('user_id')['order_id'].count().plot(kind='hist', title= 'Number of orders per client', xlabel= 'Number of orders', ylabel= 'Number of clients', bins= 20)"
   ]
  },
  {
   "cell_type": "markdown",
   "id": "d2eff7d5",
   "metadata": {
    "id": "d2eff7d5"
   },
   "source": [
    "La mayoría de usuarios ha realizado un solo pedido (más de 8.000 usuarios), que en este caso sería el valor máximo, y la cantidad va disminuyendo, hasta llegar al valor mínimo, que sería el usuario que menos pedidos ha hecho, ha sido aproximadamente 10 pedidos."
   ]
  },
  {
   "cell_type": "markdown",
   "id": "54a0319c",
   "metadata": {
    "id": "54a0319c"
   },
   "source": [
    "### [B3] ¿Cuáles son los 20 productos más populares (muestra su ID y nombre)?"
   ]
  },
  {
   "cell_type": "code",
   "execution_count": 43,
   "id": "exterior-arizona",
   "metadata": {
    "id": "exterior-arizona",
    "scrolled": true
   },
   "outputs": [
    {
     "data": {
      "text/plain": [
       "product_id  product_name            \n",
       "24852       Banana                      66050\n",
       "13176       Bag of Organic Bananas      53297\n",
       "21137       Organic Strawberries        37039\n",
       "21903       Organic Baby Spinach        33971\n",
       "47209       Organic Hass Avocado        29773\n",
       "47766       Organic Avocado             24689\n",
       "47626       Large Lemon                 21495\n",
       "16797       Strawberries                20018\n",
       "26209       Limes                       19690\n",
       "27845       Organic Whole Milk          19600\n",
       "27966       Organic Raspberries         19197\n",
       "22935       Organic Yellow Onion        15898\n",
       "24964       Organic Garlic              15292\n",
       "45007       Organic Zucchini            14584\n",
       "39275       Organic Blueberries         13879\n",
       "49683       Cucumber Kirby              13675\n",
       "28204       Organic Fuji Apple          12544\n",
       "5876        Organic Lemon               12232\n",
       "8277        Apple Honeycrisp Organic    11993\n",
       "40706       Organic Grape Tomatoes      11781\n",
       "Name: order_id, dtype: int64"
      ]
     },
     "execution_count": 43,
     "metadata": {},
     "output_type": "execute_result"
    }
   ],
   "source": [
    "order_filter= order_products.merge(products, on='product_id')\n",
    "order_filter.groupby (['product_id', 'product_name'])['order_id'].count().sort_values(ascending= False).head(20)"
   ]
  },
  {
   "cell_type": "markdown",
   "id": "7df00f47",
   "metadata": {
    "id": "7df00f47"
   },
   "source": [
    "Los productos mas pedidos son frutas y verduras, el mas pedido es la banana."
   ]
  },
  {
   "cell_type": "markdown",
   "id": "gross-theme",
   "metadata": {
    "id": "gross-theme"
   },
   "source": [
    "# [C] Difícil (deben completarse todos para aprobar)\n",
    "\n",
    "1. ¿Cuántos artículos suelen comprar las personas en un pedido? ¿Cómo es la distribución?\n",
    "2. ¿Cuáles son los 20 principales artículos que vuelven a pedirse con mayor frecuencia (muestra sus nombres e IDs de los productos)?\n",
    "3. Para cada producto, ¿cuál es la tasa de repetición del pedido (número de repeticiones de pedido/total de pedidos?\n",
    "4. Para cada cliente, ¿qué proporción de los productos que pidió ya los había pedido? Calcula la tasa de repetición de pedido para cada usuario en lugar de para cada producto.\n",
    "5. ¿Cuáles son los 20 principales artículos que la gente pone primero en sus carritos (muestra las IDs de los productos, sus nombres, y el número de veces en que fueron el primer artículo en añadirse al carrito)?"
   ]
  },
  {
   "cell_type": "markdown",
   "id": "romantic-deposit",
   "metadata": {
    "id": "romantic-deposit"
   },
   "source": [
    "### [C1] ¿Cuántos artículos compran normalmente las personas en un pedido? ¿Cómo es la distribución?"
   ]
  },
  {
   "cell_type": "code",
   "execution_count": 44,
   "id": "virtual-punch",
   "metadata": {
    "id": "virtual-punch"
   },
   "outputs": [
    {
     "data": {
      "text/plain": [
       "<Axes: title={'center': 'Number of articles ordered per person in one order'}, xlabel='Number of articles', ylabel='Number of users'>"
      ]
     },
     "execution_count": 44,
     "metadata": {},
     "output_type": "execute_result"
    },
    {
     "data": {
      "image/png": "[encoded data removed]",
      "text/plain": [
       "<Figure size 640x480 with 1 Axes>"
      ]
     },
     "metadata": {},
     "output_type": "display_data"
    }
   ],
   "source": [
    "order_products.groupby('order_id')['product_id'].count().plot(kind='hist', title= 'Number of articles ordered per person in one order', ylabel= 'Number of users', xlabel= 'Number of articles', bins= 20)"
   ]
  },
  {
   "cell_type": "markdown",
   "id": "designed-mortality",
   "metadata": {
    "id": "designed-mortality"
   },
   "source": [
    "Alrededor de 20.000 usuarios tienen pedidos pequeños, entre 1 y 5 productos, alrededor de 13.000 usuarios tienen pedidos entre 5 y 15 productos, y menos de 25.000 usuarios tienen pedidos entre los 25 y 45 productos. "
   ]
  },
  {
   "cell_type": "markdown",
   "id": "5e6b5537",
   "metadata": {
    "id": "5e6b5537"
   },
   "source": [
    "### [C2] ¿Cuáles son los 20 principales artículos que vuelven a pedirse con mayor frecuencia (muestra sus nombres e IDs de los productos)?"
   ]
  },
  {
   "cell_type": "code",
   "execution_count": 45,
   "id": "9374e55a",
   "metadata": {
    "id": "9374e55a"
   },
   "outputs": [],
   "source": [
    "filter_reorder= order_filter[order_filter['reordered']== 1]"
   ]
  },
  {
   "cell_type": "code",
   "execution_count": 46,
   "id": "possible-change",
   "metadata": {
    "id": "possible-change",
    "scrolled": true
   },
   "outputs": [
    {
     "data": {
      "text/plain": [
       "product_id  product_name            \n",
       "24852       Banana                      55763\n",
       "13176       Bag of Organic Bananas      44450\n",
       "21137       Organic Strawberries        28639\n",
       "21903       Organic Baby Spinach        26233\n",
       "47209       Organic Hass Avocado        23629\n",
       "47766       Organic Avocado             18743\n",
       "27845       Organic Whole Milk          16251\n",
       "47626       Large Lemon                 15044\n",
       "27966       Organic Raspberries         14748\n",
       "16797       Strawberries                13945\n",
       "26209       Limes                       13327\n",
       "22935       Organic Yellow Onion        11145\n",
       "24964       Organic Garlic              10411\n",
       "45007       Organic Zucchini            10076\n",
       "49683       Cucumber Kirby               9538\n",
       "28204       Organic Fuji Apple           8989\n",
       "8277        Apple Honeycrisp Organic     8836\n",
       "39275       Organic Blueberries          8799\n",
       "5876        Organic Lemon                8412\n",
       "49235       Organic Half & Half          8389\n",
       "Name: order_id, dtype: int64"
      ]
     },
     "execution_count": 46,
     "metadata": {},
     "output_type": "execute_result"
    }
   ],
   "source": [
    "filter_reorder.groupby(['product_id', 'product_name'])['order_id'].count().sort_values(ascending= False).head(20)"
   ]
  },
  {
   "cell_type": "markdown",
   "id": "80e70c74",
   "metadata": {
    "id": "80e70c74"
   },
   "source": [
    "Aunque tiene algunas diferencias, este resultado es bastante parecido al anterior, lo que quiere decir que los productos mas pedidos tambien son los que mas se vuelven a pedir."
   ]
  },
  {
   "cell_type": "markdown",
   "id": "9d312b14",
   "metadata": {
    "id": "9d312b14"
   },
   "source": [
    "### [C3] Para cada producto, ¿cuál es la proporción de las veces que se pide y que se vuelve a pedir?"
   ]
  },
  {
   "cell_type": "code",
   "execution_count": 47,
   "id": "8ae9f4b1",
   "metadata": {
    "id": "8ae9f4b1"
   },
   "outputs": [],
   "source": [
    "products_proportion= order_products.groupby('product_id').agg(total_orders= ('order_id', 'count'), total_reorder= ('reordered', 'sum'))"
   ]
  },
  {
   "cell_type": "code",
   "execution_count": 48,
   "id": "103e7fe1",
   "metadata": {
    "id": "103e7fe1",
    "scrolled": true
   },
   "outputs": [
    {
     "name": "stdout",
     "output_type": "stream",
     "text": [
      "            total_orders  total_reorder  proportion\n",
      "product_id                                         \n",
      "1                    280            158    0.564286\n",
      "2                     11              0    0.000000\n",
      "3                     42             31    0.738095\n",
      "4                     49             25    0.510204\n",
      "7                      2              1    0.500000\n",
      "...                  ...            ...         ...\n",
      "49690                  5              4    0.800000\n",
      "49691                 72             31    0.430556\n",
      "49692                 12              5    0.416667\n",
      "49693                 25             11    0.440000\n",
      "49694                  9              3    0.333333\n",
      "\n",
      "[45573 rows x 3 columns]\n"
     ]
    }
   ],
   "source": [
    "products_proportion['proportion']= products_proportion['total_reorder']/ products_proportion['total_orders']\n",
    "\n",
    "print (products_proportion)"
   ]
  },
  {
   "cell_type": "markdown",
   "id": "I10dEIAyldcO",
   "metadata": {
    "id": "I10dEIAyldcO"
   },
   "source": []
  },
  {
   "cell_type": "markdown",
   "id": "subject-boxing",
   "metadata": {
    "id": "subject-boxing"
   },
   "source": [
    "### [C4] Para cada cliente, ¿qué proporción de sus productos ya los había pedido?"
   ]
  },
  {
   "cell_type": "code",
   "execution_count": 49,
   "id": "medical-couple",
   "metadata": {
    "id": "medical-couple",
    "scrolled": true
   },
   "outputs": [
    {
     "data": {
      "text/plain": [
       "user_id\n",
       "2         0.038462\n",
       "4         0.000000\n",
       "5         0.666667\n",
       "6         0.000000\n",
       "7         0.928571\n",
       "            ...   \n",
       "206203    0.222222\n",
       "206206    0.714286\n",
       "206207    0.891304\n",
       "206208    0.696000\n",
       "206209    0.320000\n",
       "Name: reordered, Length: 149626, dtype: float64"
      ]
     },
     "execution_count": 49,
     "metadata": {},
     "output_type": "execute_result"
    }
   ],
   "source": [
    "clients_proportion= order_products.merge(instacart_orders, on= 'order_id')\n",
    "clients_proportion.groupby('user_id')['reordered'].mean()"
   ]
  },
  {
   "cell_type": "markdown",
   "id": "BgJSvXDsleXz",
   "metadata": {
    "id": "BgJSvXDsleXz"
   },
   "source": [
    "Como la columna reordered es binaria, se puede usar mean en este caso y el resultado no cambia."
   ]
  },
  {
   "cell_type": "markdown",
   "id": "92d35137",
   "metadata": {
    "id": "92d35137"
   },
   "source": [
    "### [C5] ¿Cuáles son los 20 principales artículos que las personas ponen primero en sus carritos?"
   ]
  },
  {
   "cell_type": "code",
   "execution_count": 50,
   "id": "0ae57274",
   "metadata": {
    "id": "0ae57274",
    "scrolled": true
   },
   "outputs": [
    {
     "data": {
      "text/plain": [
       "product_id  product_name               \n",
       "24852       Banana                         15562\n",
       "13176       Bag of Organic Bananas         11026\n",
       "27845       Organic Whole Milk              4363\n",
       "21137       Organic Strawberries            3946\n",
       "47209       Organic Hass Avocado            3390\n",
       "21903       Organic Baby Spinach            3336\n",
       "47766       Organic Avocado                 3044\n",
       "19660       Spring Water                    2336\n",
       "16797       Strawberries                    2308\n",
       "27966       Organic Raspberries             2024\n",
       "44632       Sparkling Water Grapefruit      1914\n",
       "49235       Organic Half & Half             1797\n",
       "47626       Large Lemon                     1737\n",
       "196         Soda                            1733\n",
       "38689       Organic Reduced Fat Milk        1397\n",
       "26209       Limes                           1370\n",
       "12341       Hass Avocados                   1340\n",
       "5785        Organic Reduced Fat 2% Milk     1310\n",
       "27086       Half & Half                     1309\n",
       "43352       Raspberries                     1246\n",
       "Name: order_id, dtype: int64"
      ]
     },
     "execution_count": 50,
     "metadata": {},
     "output_type": "execute_result"
    }
   ],
   "source": [
    "first_added_to_cart= order_filter[order_filter['add_to_cart_order']== 1]\n",
    "first_added_to_cart.groupby(['product_id', 'product_name'])['order_id'].count().sort_values(ascending= False).head(20)"
   ]
  },
  {
   "cell_type": "markdown",
   "id": "28ce9872",
   "metadata": {
    "id": "28ce9872"
   },
   "source": [
    "La lista es parecida a los productos mas pedidos y que vuelven a pedir, es consistente con esta informacion y hace sentido que asi sea. "
   ]
  },
  {
   "cell_type": "markdown",
   "id": "uITbFCEoDosC",
   "metadata": {
    "id": "uITbFCEoDosC"
   },
   "source": [
    "### Conclusion general del proyecto:"
   ]
  },
  {
   "cell_type": "markdown",
   "id": "3d1cf1da",
   "metadata": {
    "id": "Nk-4GS7mDwqY"
   },
   "source": [
    "Los datos necesitaron una limpieza por duplicados y valores ausentes, sin embargo la informacion restante fue util para analizar las preguntas pertinentes. En general, se puede observar que la empresa tiene ordenes consistentes durante toda la semana, el mayor volumen de pedidos se hace hacia las horas del medio dia y principios de la tarde.\n",
    "Por otro lado, los productos predominantes en los distintos análisis corresponden a productos de origen natural, especialmente frutas y verduras. \n",
    "La tasa de reordenes por cliente en general no es tan alta en comparacion a la cantidad de clientes, por lo que es un punto de oportunidad a revisar por la empresa para aplicar estrategias que hagan que esta sea mas alta. "
   ]
  }
 ],
 "metadata": {
  "ExecuteTimeLog": [
   {
    "duration": 321,
    "start_time": "2024-08-21T23:58:30.290Z"
   },
   {
    "duration": 21,
    "start_time": "2024-08-21T23:58:38.449Z"
   },
   {
    "duration": 8,
    "start_time": "2024-08-21T23:58:40.183Z"
   },
   {
    "duration": 22,
    "start_time": "2024-08-22T00:03:19.347Z"
   },
   {
    "duration": 458,
    "start_time": "2024-08-22T00:03:27.332Z"
   },
   {
    "duration": 1328,
    "start_time": "2024-08-22T00:03:30.003Z"
   },
   {
    "duration": 474,
    "start_time": "2024-08-22T00:03:59.131Z"
   },
   {
    "duration": 1549,
    "start_time": "2024-08-22T00:03:59.609Z"
   },
   {
    "duration": 0,
    "start_time": "2024-08-22T00:04:01.164Z"
   },
   {
    "duration": 0,
    "start_time": "2024-08-22T00:04:01.166Z"
   },
   {
    "duration": 0,
    "start_time": "2024-08-22T00:04:01.168Z"
   },
   {
    "duration": 0,
    "start_time": "2024-08-22T00:04:01.171Z"
   },
   {
    "duration": 0,
    "start_time": "2024-08-22T00:04:01.172Z"
   },
   {
    "duration": 0,
    "start_time": "2024-08-22T00:04:01.174Z"
   },
   {
    "duration": 0,
    "start_time": "2024-08-22T00:04:01.175Z"
   },
   {
    "duration": 1,
    "start_time": "2024-08-22T00:04:01.177Z"
   },
   {
    "duration": 0,
    "start_time": "2024-08-22T00:04:01.179Z"
   },
   {
    "duration": 0,
    "start_time": "2024-08-22T00:04:01.181Z"
   },
   {
    "duration": 0,
    "start_time": "2024-08-22T00:04:01.184Z"
   },
   {
    "duration": 0,
    "start_time": "2024-08-22T00:04:01.186Z"
   },
   {
    "duration": 0,
    "start_time": "2024-08-22T00:04:01.224Z"
   },
   {
    "duration": 0,
    "start_time": "2024-08-22T00:04:01.226Z"
   },
   {
    "duration": 0,
    "start_time": "2024-08-22T00:04:01.227Z"
   },
   {
    "duration": 0,
    "start_time": "2024-08-22T00:04:01.229Z"
   },
   {
    "duration": 0,
    "start_time": "2024-08-22T00:04:01.231Z"
   },
   {
    "duration": 0,
    "start_time": "2024-08-22T00:04:01.233Z"
   },
   {
    "duration": 0,
    "start_time": "2024-08-22T00:04:01.234Z"
   },
   {
    "duration": 0,
    "start_time": "2024-08-22T00:04:01.236Z"
   },
   {
    "duration": 0,
    "start_time": "2024-08-22T00:04:01.238Z"
   },
   {
    "duration": 0,
    "start_time": "2024-08-22T00:04:01.240Z"
   },
   {
    "duration": 0,
    "start_time": "2024-08-22T00:04:01.241Z"
   },
   {
    "duration": 0,
    "start_time": "2024-08-22T00:04:01.243Z"
   },
   {
    "duration": 0,
    "start_time": "2024-08-22T00:04:01.244Z"
   },
   {
    "duration": 0,
    "start_time": "2024-08-22T00:04:01.246Z"
   },
   {
    "duration": 0,
    "start_time": "2024-08-22T00:04:01.248Z"
   },
   {
    "duration": 0,
    "start_time": "2024-08-22T00:04:01.250Z"
   },
   {
    "duration": 0,
    "start_time": "2024-08-22T00:04:01.253Z"
   },
   {
    "duration": 0,
    "start_time": "2024-08-22T00:04:01.255Z"
   },
   {
    "duration": 0,
    "start_time": "2024-08-22T00:04:01.258Z"
   },
   {
    "duration": 0,
    "start_time": "2024-08-22T00:04:01.260Z"
   },
   {
    "duration": 33,
    "start_time": "2024-08-22T00:04:29.407Z"
   },
   {
    "duration": 17,
    "start_time": "2024-08-22T00:04:34.265Z"
   },
   {
    "duration": 13,
    "start_time": "2024-08-22T00:04:36.838Z"
   },
   {
    "duration": 11,
    "start_time": "2024-08-22T00:04:40.680Z"
   },
   {
    "duration": 23,
    "start_time": "2024-08-22T00:04:43.002Z"
   },
   {
    "duration": 3834,
    "start_time": "2024-08-22T00:05:12.892Z"
   },
   {
    "duration": 11,
    "start_time": "2024-08-22T00:05:20.339Z"
   },
   {
    "duration": 260,
    "start_time": "2024-08-22T00:14:29.377Z"
   },
   {
    "duration": 23,
    "start_time": "2024-08-22T00:15:03.009Z"
   },
   {
    "duration": 17,
    "start_time": "2024-08-22T00:16:32.707Z"
   },
   {
    "duration": 19,
    "start_time": "2024-08-22T00:16:36.853Z"
   },
   {
    "duration": 18,
    "start_time": "2024-08-22T00:16:45.460Z"
   },
   {
    "duration": 243,
    "start_time": "2024-08-22T00:16:52.869Z"
   },
   {
    "duration": 252,
    "start_time": "2024-08-22T00:17:33.524Z"
   },
   {
    "duration": 250,
    "start_time": "2024-08-22T00:17:40.059Z"
   },
   {
    "duration": 3045,
    "start_time": "2024-08-22T00:21:41.647Z"
   },
   {
    "duration": 3284,
    "start_time": "2024-08-22T00:22:36.575Z"
   },
   {
    "duration": 834,
    "start_time": "2024-08-22T00:32:08.326Z"
   },
   {
    "duration": 85,
    "start_time": "2024-08-22T00:32:47.336Z"
   },
   {
    "duration": 75,
    "start_time": "2024-08-22T00:32:56.539Z"
   },
   {
    "duration": 74,
    "start_time": "2024-08-22T00:33:52.723Z"
   },
   {
    "duration": 77,
    "start_time": "2024-08-22T00:45:09.338Z"
   },
   {
    "duration": 1550,
    "start_time": "2024-08-22T01:07:36.058Z"
   },
   {
    "duration": 417,
    "start_time": "2024-08-22T01:07:53.486Z"
   },
   {
    "duration": 1485,
    "start_time": "2024-08-22T01:07:53.906Z"
   },
   {
    "duration": 31,
    "start_time": "2024-08-22T01:07:55.393Z"
   },
   {
    "duration": 15,
    "start_time": "2024-08-22T01:07:55.429Z"
   },
   {
    "duration": 14,
    "start_time": "2024-08-22T01:07:55.448Z"
   },
   {
    "duration": 13,
    "start_time": "2024-08-22T01:07:55.465Z"
   },
   {
    "duration": 50,
    "start_time": "2024-08-22T01:07:55.481Z"
   },
   {
    "duration": 710,
    "start_time": "2024-08-22T01:07:55.535Z"
   },
   {
    "duration": 16,
    "start_time": "2024-08-22T01:07:56.248Z"
   },
   {
    "duration": 3,
    "start_time": "2024-08-22T01:07:56.267Z"
   },
   {
    "duration": 4,
    "start_time": "2024-08-22T01:07:56.273Z"
   },
   {
    "duration": 4,
    "start_time": "2024-08-22T01:07:56.280Z"
   },
   {
    "duration": 4,
    "start_time": "2024-08-22T01:07:56.324Z"
   },
   {
    "duration": 3,
    "start_time": "2024-08-22T01:07:56.336Z"
   },
   {
    "duration": 6,
    "start_time": "2024-08-22T01:07:56.342Z"
   },
   {
    "duration": 3,
    "start_time": "2024-08-22T01:07:56.351Z"
   },
   {
    "duration": 3,
    "start_time": "2024-08-22T01:07:56.358Z"
   },
   {
    "duration": 5,
    "start_time": "2024-08-22T01:07:56.365Z"
   },
   {
    "duration": 3,
    "start_time": "2024-08-22T01:07:56.425Z"
   },
   {
    "duration": 3,
    "start_time": "2024-08-22T01:07:56.431Z"
   },
   {
    "duration": 4,
    "start_time": "2024-08-22T01:07:56.437Z"
   },
   {
    "duration": 4,
    "start_time": "2024-08-22T01:07:56.443Z"
   },
   {
    "duration": 4,
    "start_time": "2024-08-22T01:07:56.451Z"
   },
   {
    "duration": 5,
    "start_time": "2024-08-22T01:07:56.457Z"
   },
   {
    "duration": 59,
    "start_time": "2024-08-22T01:07:56.465Z"
   },
   {
    "duration": 5,
    "start_time": "2024-08-22T01:07:56.526Z"
   },
   {
    "duration": 4,
    "start_time": "2024-08-22T01:07:56.534Z"
   },
   {
    "duration": 3,
    "start_time": "2024-08-22T01:07:56.541Z"
   },
   {
    "duration": 3,
    "start_time": "2024-08-22T01:07:56.548Z"
   },
   {
    "duration": 5,
    "start_time": "2024-08-22T01:07:56.554Z"
   },
   {
    "duration": 4,
    "start_time": "2024-08-22T01:07:56.562Z"
   },
   {
    "duration": 3,
    "start_time": "2024-08-22T01:07:56.623Z"
   },
   {
    "duration": 4,
    "start_time": "2024-08-22T01:07:56.629Z"
   },
   {
    "duration": 4,
    "start_time": "2024-08-22T01:07:56.636Z"
   },
   {
    "duration": 352,
    "start_time": "2024-08-22T01:10:50.398Z"
   },
   {
    "duration": 19,
    "start_time": "2024-08-22T01:11:15.811Z"
   },
   {
    "duration": 13,
    "start_time": "2024-08-22T01:13:27.347Z"
   },
   {
    "duration": 193,
    "start_time": "2024-08-22T01:22:22.190Z"
   },
   {
    "duration": 162,
    "start_time": "2024-08-22T01:23:38.986Z"
   },
   {
    "duration": 178,
    "start_time": "2024-08-22T01:26:14.389Z"
   },
   {
    "duration": 162,
    "start_time": "2024-08-22T01:26:16.490Z"
   },
   {
    "duration": 81,
    "start_time": "2024-08-22T01:41:15.565Z"
   },
   {
    "duration": 21,
    "start_time": "2024-08-22T01:45:46.550Z"
   },
   {
    "duration": 8,
    "start_time": "2024-08-22T01:46:53.158Z"
   },
   {
    "duration": 9,
    "start_time": "2024-08-22T01:47:16.085Z"
   },
   {
    "duration": 23,
    "start_time": "2024-08-22T01:48:28.498Z"
   },
   {
    "duration": 356,
    "start_time": "2024-08-23T00:02:11.204Z"
   },
   {
    "duration": 23,
    "start_time": "2024-08-23T00:02:16.171Z"
   },
   {
    "duration": 496,
    "start_time": "2024-08-23T00:03:26.649Z"
   },
   {
    "duration": 2130,
    "start_time": "2024-08-23T00:03:27.150Z"
   },
   {
    "duration": 33,
    "start_time": "2024-08-23T00:03:29.283Z"
   },
   {
    "duration": 30,
    "start_time": "2024-08-23T00:03:29.319Z"
   },
   {
    "duration": 19,
    "start_time": "2024-08-23T00:03:29.355Z"
   },
   {
    "duration": 45,
    "start_time": "2024-08-23T00:03:29.379Z"
   },
   {
    "duration": 17,
    "start_time": "2024-08-23T00:03:29.429Z"
   },
   {
    "duration": 906,
    "start_time": "2024-08-23T00:03:29.450Z"
   },
   {
    "duration": 18,
    "start_time": "2024-08-23T00:03:30.360Z"
   },
   {
    "duration": 283,
    "start_time": "2024-08-23T00:03:30.381Z"
   },
   {
    "duration": 234,
    "start_time": "2024-08-23T00:03:30.666Z"
   },
   {
    "duration": 98,
    "start_time": "2024-08-23T00:03:30.910Z"
   },
   {
    "duration": 26,
    "start_time": "2024-08-23T00:03:31.016Z"
   },
   {
    "duration": 11,
    "start_time": "2024-08-23T00:03:31.050Z"
   },
   {
    "duration": 230,
    "start_time": "2024-08-23T00:03:31.065Z"
   },
   {
    "duration": 0,
    "start_time": "2024-08-23T00:03:31.302Z"
   },
   {
    "duration": 0,
    "start_time": "2024-08-23T00:03:31.304Z"
   },
   {
    "duration": 0,
    "start_time": "2024-08-23T00:03:31.315Z"
   },
   {
    "duration": 0,
    "start_time": "2024-08-23T00:03:31.323Z"
   },
   {
    "duration": 0,
    "start_time": "2024-08-23T00:03:31.326Z"
   },
   {
    "duration": 0,
    "start_time": "2024-08-23T00:03:31.328Z"
   },
   {
    "duration": 0,
    "start_time": "2024-08-23T00:03:31.330Z"
   },
   {
    "duration": 0,
    "start_time": "2024-08-23T00:03:31.332Z"
   },
   {
    "duration": 0,
    "start_time": "2024-08-23T00:03:31.334Z"
   },
   {
    "duration": 0,
    "start_time": "2024-08-23T00:03:31.336Z"
   },
   {
    "duration": 0,
    "start_time": "2024-08-23T00:03:31.338Z"
   },
   {
    "duration": 0,
    "start_time": "2024-08-23T00:03:31.341Z"
   },
   {
    "duration": 0,
    "start_time": "2024-08-23T00:03:31.343Z"
   },
   {
    "duration": 0,
    "start_time": "2024-08-23T00:03:31.345Z"
   },
   {
    "duration": 0,
    "start_time": "2024-08-23T00:03:31.347Z"
   },
   {
    "duration": 0,
    "start_time": "2024-08-23T00:03:31.349Z"
   },
   {
    "duration": 0,
    "start_time": "2024-08-23T00:03:31.351Z"
   },
   {
    "duration": 0,
    "start_time": "2024-08-23T00:03:31.353Z"
   },
   {
    "duration": 0,
    "start_time": "2024-08-23T00:03:31.355Z"
   },
   {
    "duration": 6,
    "start_time": "2024-08-23T00:06:14.480Z"
   },
   {
    "duration": 8,
    "start_time": "2024-08-23T00:07:04.208Z"
   },
   {
    "duration": 5,
    "start_time": "2024-08-23T00:07:10.115Z"
   },
   {
    "duration": 1120,
    "start_time": "2024-08-23T00:07:14.860Z"
   },
   {
    "duration": 21,
    "start_time": "2024-08-23T00:08:54.369Z"
   },
   {
    "duration": 39,
    "start_time": "2024-08-23T00:10:05.903Z"
   },
   {
    "duration": 28,
    "start_time": "2024-08-23T00:12:32.745Z"
   },
   {
    "duration": 62,
    "start_time": "2024-08-23T00:13:07.368Z"
   },
   {
    "duration": 68,
    "start_time": "2024-08-23T00:14:34.580Z"
   },
   {
    "duration": 36,
    "start_time": "2024-08-23T00:14:46.325Z"
   },
   {
    "duration": 89,
    "start_time": "2024-08-23T00:15:08.674Z"
   },
   {
    "duration": 72,
    "start_time": "2024-08-23T00:15:31.318Z"
   },
   {
    "duration": 36,
    "start_time": "2024-08-23T00:16:13.017Z"
   },
   {
    "duration": 35,
    "start_time": "2024-08-23T00:16:36.771Z"
   },
   {
    "duration": 44,
    "start_time": "2024-08-23T00:16:44.012Z"
   },
   {
    "duration": 72,
    "start_time": "2024-08-23T00:18:00.148Z"
   },
   {
    "duration": 109,
    "start_time": "2024-08-23T00:18:19.967Z"
   },
   {
    "duration": 73,
    "start_time": "2024-08-23T00:46:03.429Z"
   },
   {
    "duration": 72,
    "start_time": "2024-08-23T00:46:17.532Z"
   },
   {
    "duration": 72,
    "start_time": "2024-08-23T00:46:53.745Z"
   },
   {
    "duration": 6,
    "start_time": "2024-08-23T00:50:11.008Z"
   },
   {
    "duration": 10,
    "start_time": "2024-08-23T00:51:03.247Z"
   },
   {
    "duration": 7,
    "start_time": "2024-08-23T00:51:18.263Z"
   },
   {
    "duration": 6,
    "start_time": "2024-08-23T00:51:59.123Z"
   },
   {
    "duration": 14,
    "start_time": "2024-08-23T00:52:15.903Z"
   },
   {
    "duration": 8,
    "start_time": "2024-08-23T01:02:07.149Z"
   },
   {
    "duration": 5246,
    "start_time": "2024-08-23T01:05:34.210Z"
   },
   {
    "duration": 691,
    "start_time": "2024-08-23T01:07:46.422Z"
   },
   {
    "duration": 304,
    "start_time": "2024-08-24T17:31:09.331Z"
   },
   {
    "duration": 20,
    "start_time": "2024-08-24T17:31:59.381Z"
   },
   {
    "duration": 422,
    "start_time": "2024-08-24T17:32:27.742Z"
   },
   {
    "duration": 1663,
    "start_time": "2024-08-24T17:32:28.168Z"
   },
   {
    "duration": 17,
    "start_time": "2024-08-24T17:32:29.834Z"
   },
   {
    "duration": 37,
    "start_time": "2024-08-24T17:32:29.856Z"
   },
   {
    "duration": 13,
    "start_time": "2024-08-24T17:32:29.897Z"
   },
   {
    "duration": 13,
    "start_time": "2024-08-24T17:32:29.913Z"
   },
   {
    "duration": 12,
    "start_time": "2024-08-24T17:32:29.928Z"
   },
   {
    "duration": 723,
    "start_time": "2024-08-24T17:32:29.944Z"
   },
   {
    "duration": 28,
    "start_time": "2024-08-24T17:32:30.670Z"
   },
   {
    "duration": 191,
    "start_time": "2024-08-24T17:32:30.703Z"
   },
   {
    "duration": 174,
    "start_time": "2024-08-24T17:32:30.897Z"
   },
   {
    "duration": 88,
    "start_time": "2024-08-24T17:32:31.074Z"
   },
   {
    "duration": 33,
    "start_time": "2024-08-24T17:32:31.165Z"
   },
   {
    "duration": 10,
    "start_time": "2024-08-24T17:32:31.201Z"
   },
   {
    "duration": 107,
    "start_time": "2024-08-24T17:32:31.214Z"
   },
   {
    "duration": 3,
    "start_time": "2024-08-24T17:32:31.324Z"
   },
   {
    "duration": 10,
    "start_time": "2024-08-24T17:32:31.331Z"
   },
   {
    "duration": 8,
    "start_time": "2024-08-24T17:32:31.345Z"
   },
   {
    "duration": 45,
    "start_time": "2024-08-24T17:32:31.356Z"
   },
   {
    "duration": 8,
    "start_time": "2024-08-24T17:32:31.403Z"
   },
   {
    "duration": 4922,
    "start_time": "2024-08-24T17:32:31.415Z"
   },
   {
    "duration": 490,
    "start_time": "2024-08-24T17:32:36.340Z"
   },
   {
    "duration": 0,
    "start_time": "2024-08-24T17:32:36.833Z"
   },
   {
    "duration": 0,
    "start_time": "2024-08-24T17:32:36.835Z"
   },
   {
    "duration": 0,
    "start_time": "2024-08-24T17:32:36.839Z"
   },
   {
    "duration": 0,
    "start_time": "2024-08-24T17:32:36.841Z"
   },
   {
    "duration": 0,
    "start_time": "2024-08-24T17:32:36.844Z"
   },
   {
    "duration": 0,
    "start_time": "2024-08-24T17:32:36.846Z"
   },
   {
    "duration": 0,
    "start_time": "2024-08-24T17:32:36.848Z"
   },
   {
    "duration": 0,
    "start_time": "2024-08-24T17:32:36.851Z"
   },
   {
    "duration": 0,
    "start_time": "2024-08-24T17:32:36.854Z"
   },
   {
    "duration": 0,
    "start_time": "2024-08-24T17:32:36.856Z"
   },
   {
    "duration": 0,
    "start_time": "2024-08-24T17:32:36.891Z"
   },
   {
    "duration": 0,
    "start_time": "2024-08-24T17:32:36.893Z"
   },
   {
    "duration": 3024,
    "start_time": "2024-08-24T17:33:01.431Z"
   },
   {
    "duration": 2910,
    "start_time": "2024-08-24T17:33:41.473Z"
   },
   {
    "duration": 679,
    "start_time": "2024-08-24T17:40:38.542Z"
   },
   {
    "duration": 18,
    "start_time": "2024-08-24T17:43:00.661Z"
   },
   {
    "duration": 11,
    "start_time": "2024-08-24T17:44:23.781Z"
   },
   {
    "duration": 9,
    "start_time": "2024-08-24T17:44:38.519Z"
   },
   {
    "duration": 6,
    "start_time": "2024-08-24T17:49:35.462Z"
   },
   {
    "duration": 8,
    "start_time": "2024-08-24T17:49:45.599Z"
   },
   {
    "duration": 23,
    "start_time": "2024-08-24T18:06:01.274Z"
   },
   {
    "duration": 1114,
    "start_time": "2024-08-24T18:11:50.634Z"
   },
   {
    "duration": 24,
    "start_time": "2024-08-24T18:13:37.279Z"
   },
   {
    "duration": 519,
    "start_time": "2024-08-24T20:14:05.752Z"
   },
   {
    "duration": 2021,
    "start_time": "2024-08-24T20:14:06.283Z"
   },
   {
    "duration": 19,
    "start_time": "2024-08-24T20:14:08.308Z"
   },
   {
    "duration": 17,
    "start_time": "2024-08-24T20:14:08.333Z"
   },
   {
    "duration": 41,
    "start_time": "2024-08-24T20:14:08.353Z"
   },
   {
    "duration": 18,
    "start_time": "2024-08-24T20:14:08.401Z"
   },
   {
    "duration": 11,
    "start_time": "2024-08-24T20:14:08.422Z"
   },
   {
    "duration": 815,
    "start_time": "2024-08-24T20:14:08.437Z"
   },
   {
    "duration": 34,
    "start_time": "2024-08-24T20:14:09.255Z"
   },
   {
    "duration": 212,
    "start_time": "2024-08-24T20:14:09.299Z"
   },
   {
    "duration": 185,
    "start_time": "2024-08-24T20:14:09.520Z"
   },
   {
    "duration": 87,
    "start_time": "2024-08-24T20:14:09.707Z"
   },
   {
    "duration": 22,
    "start_time": "2024-08-24T20:14:09.798Z"
   },
   {
    "duration": 10,
    "start_time": "2024-08-24T20:14:09.823Z"
   },
   {
    "duration": 124,
    "start_time": "2024-08-24T20:14:09.835Z"
   },
   {
    "duration": 3,
    "start_time": "2024-08-24T20:14:09.969Z"
   },
   {
    "duration": 10,
    "start_time": "2024-08-24T20:14:09.975Z"
   },
   {
    "duration": 7,
    "start_time": "2024-08-24T20:14:09.987Z"
   },
   {
    "duration": 14,
    "start_time": "2024-08-24T20:14:09.997Z"
   },
   {
    "duration": 61,
    "start_time": "2024-08-24T20:14:10.013Z"
   },
   {
    "duration": 4869,
    "start_time": "2024-08-24T20:14:10.077Z"
   },
   {
    "duration": 797,
    "start_time": "2024-08-24T20:14:14.950Z"
   },
   {
    "duration": 19,
    "start_time": "2024-08-24T20:14:15.751Z"
   },
   {
    "duration": 8,
    "start_time": "2024-08-24T20:14:15.774Z"
   },
   {
    "duration": 0,
    "start_time": "2024-08-24T20:14:15.786Z"
   },
   {
    "duration": 0,
    "start_time": "2024-08-24T20:14:15.788Z"
   },
   {
    "duration": 0,
    "start_time": "2024-08-24T20:14:15.792Z"
   },
   {
    "duration": 0,
    "start_time": "2024-08-24T20:14:15.794Z"
   },
   {
    "duration": 0,
    "start_time": "2024-08-24T20:14:15.797Z"
   },
   {
    "duration": 0,
    "start_time": "2024-08-24T20:14:15.799Z"
   },
   {
    "duration": 0,
    "start_time": "2024-08-24T20:14:15.801Z"
   },
   {
    "duration": 0,
    "start_time": "2024-08-24T20:14:15.803Z"
   },
   {
    "duration": 0,
    "start_time": "2024-08-24T20:14:15.805Z"
   },
   {
    "duration": 0,
    "start_time": "2024-08-24T20:14:15.807Z"
   },
   {
    "duration": 12,
    "start_time": "2024-08-24T20:14:23.859Z"
   },
   {
    "duration": 15,
    "start_time": "2024-08-24T20:15:02.772Z"
   },
   {
    "duration": 4,
    "start_time": "2024-08-24T20:15:39.162Z"
   },
   {
    "duration": 329,
    "start_time": "2024-08-24T20:24:30.058Z"
   },
   {
    "duration": 431,
    "start_time": "2024-08-24T20:24:56.411Z"
   },
   {
    "duration": 1547,
    "start_time": "2024-08-24T20:24:56.846Z"
   },
   {
    "duration": 19,
    "start_time": "2024-08-24T20:24:58.396Z"
   },
   {
    "duration": 18,
    "start_time": "2024-08-24T20:24:58.419Z"
   },
   {
    "duration": 16,
    "start_time": "2024-08-24T20:24:58.468Z"
   },
   {
    "duration": 15,
    "start_time": "2024-08-24T20:24:58.487Z"
   },
   {
    "duration": 11,
    "start_time": "2024-08-24T20:24:58.506Z"
   },
   {
    "duration": 758,
    "start_time": "2024-08-24T20:24:58.520Z"
   },
   {
    "duration": 14,
    "start_time": "2024-08-24T20:24:59.283Z"
   },
   {
    "duration": 209,
    "start_time": "2024-08-24T20:24:59.303Z"
   },
   {
    "duration": 177,
    "start_time": "2024-08-24T20:24:59.515Z"
   },
   {
    "duration": 90,
    "start_time": "2024-08-24T20:24:59.695Z"
   },
   {
    "duration": 22,
    "start_time": "2024-08-24T20:24:59.789Z"
   },
   {
    "duration": 8,
    "start_time": "2024-08-24T20:24:59.814Z"
   },
   {
    "duration": 114,
    "start_time": "2024-08-24T20:24:59.825Z"
   },
   {
    "duration": 3,
    "start_time": "2024-08-24T20:24:59.943Z"
   },
   {
    "duration": 10,
    "start_time": "2024-08-24T20:24:59.968Z"
   },
   {
    "duration": 7,
    "start_time": "2024-08-24T20:24:59.981Z"
   },
   {
    "duration": 11,
    "start_time": "2024-08-24T20:24:59.992Z"
   },
   {
    "duration": 8,
    "start_time": "2024-08-24T20:25:00.006Z"
   },
   {
    "duration": 4930,
    "start_time": "2024-08-24T20:25:00.016Z"
   },
   {
    "duration": 770,
    "start_time": "2024-08-24T20:25:04.949Z"
   },
   {
    "duration": 16,
    "start_time": "2024-08-24T20:25:05.722Z"
   },
   {
    "duration": 4,
    "start_time": "2024-08-24T20:25:05.740Z"
   },
   {
    "duration": 4,
    "start_time": "2024-08-24T20:25:05.769Z"
   },
   {
    "duration": 1,
    "start_time": "2024-08-24T20:25:06.146Z"
   },
   {
    "duration": 0,
    "start_time": "2024-08-24T20:25:06.151Z"
   },
   {
    "duration": 0,
    "start_time": "2024-08-24T20:25:06.154Z"
   },
   {
    "duration": 0,
    "start_time": "2024-08-24T20:25:06.156Z"
   },
   {
    "duration": 0,
    "start_time": "2024-08-24T20:25:06.157Z"
   },
   {
    "duration": 0,
    "start_time": "2024-08-24T20:25:06.158Z"
   },
   {
    "duration": 0,
    "start_time": "2024-08-24T20:25:06.167Z"
   },
   {
    "duration": 0,
    "start_time": "2024-08-24T20:25:06.172Z"
   },
   {
    "duration": 0,
    "start_time": "2024-08-24T20:25:06.173Z"
   },
   {
    "duration": 23,
    "start_time": "2024-08-24T20:25:22.991Z"
   },
   {
    "duration": 25,
    "start_time": "2024-08-24T20:26:10.697Z"
   },
   {
    "duration": 11,
    "start_time": "2024-08-24T20:26:15.643Z"
   },
   {
    "duration": 965,
    "start_time": "2024-08-24T20:38:08.349Z"
   },
   {
    "duration": 60,
    "start_time": "2024-08-24T20:38:29.200Z"
   },
   {
    "duration": 63,
    "start_time": "2024-08-24T20:38:46.396Z"
   },
   {
    "duration": 7,
    "start_time": "2024-08-24T20:39:47.657Z"
   },
   {
    "duration": 23,
    "start_time": "2024-08-24T20:40:19.159Z"
   },
   {
    "duration": 23,
    "start_time": "2024-08-24T20:42:32.991Z"
   },
   {
    "duration": 23,
    "start_time": "2024-08-24T20:42:43.289Z"
   },
   {
    "duration": 23,
    "start_time": "2024-08-24T20:42:54.840Z"
   },
   {
    "duration": 23,
    "start_time": "2024-08-24T20:44:08.018Z"
   },
   {
    "duration": 93,
    "start_time": "2024-08-24T20:44:23.091Z"
   },
   {
    "duration": 23,
    "start_time": "2024-08-24T20:46:30.323Z"
   },
   {
    "duration": 497,
    "start_time": "2024-08-24T20:46:47.549Z"
   },
   {
    "duration": 1534,
    "start_time": "2024-08-24T20:46:48.050Z"
   },
   {
    "duration": 20,
    "start_time": "2024-08-24T20:46:49.587Z"
   },
   {
    "duration": 16,
    "start_time": "2024-08-24T20:46:49.610Z"
   },
   {
    "duration": 43,
    "start_time": "2024-08-24T20:46:49.631Z"
   },
   {
    "duration": 16,
    "start_time": "2024-08-24T20:46:49.677Z"
   },
   {
    "duration": 12,
    "start_time": "2024-08-24T20:46:49.697Z"
   },
   {
    "duration": 742,
    "start_time": "2024-08-24T20:46:49.712Z"
   },
   {
    "duration": 22,
    "start_time": "2024-08-24T20:46:50.457Z"
   },
   {
    "duration": 209,
    "start_time": "2024-08-24T20:46:50.483Z"
   },
   {
    "duration": 181,
    "start_time": "2024-08-24T20:46:50.695Z"
   },
   {
    "duration": 90,
    "start_time": "2024-08-24T20:46:50.879Z"
   },
   {
    "duration": 22,
    "start_time": "2024-08-24T20:46:50.974Z"
   },
   {
    "duration": 10,
    "start_time": "2024-08-24T20:46:51.002Z"
   },
   {
    "duration": 117,
    "start_time": "2024-08-24T20:46:51.015Z"
   },
   {
    "duration": 3,
    "start_time": "2024-08-24T20:46:51.136Z"
   },
   {
    "duration": 27,
    "start_time": "2024-08-24T20:46:51.141Z"
   },
   {
    "duration": 7,
    "start_time": "2024-08-24T20:46:51.170Z"
   },
   {
    "duration": 13,
    "start_time": "2024-08-24T20:46:51.180Z"
   },
   {
    "duration": 7,
    "start_time": "2024-08-24T20:46:51.198Z"
   },
   {
    "duration": 4986,
    "start_time": "2024-08-24T20:46:51.209Z"
   },
   {
    "duration": 817,
    "start_time": "2024-08-24T20:46:56.198Z"
   },
   {
    "duration": 17,
    "start_time": "2024-08-24T20:46:57.020Z"
   },
   {
    "duration": 4,
    "start_time": "2024-08-24T20:46:57.040Z"
   },
   {
    "duration": 5,
    "start_time": "2024-08-24T20:46:57.069Z"
   },
   {
    "duration": 14,
    "start_time": "2024-08-24T20:46:57.079Z"
   },
   {
    "duration": 3,
    "start_time": "2024-08-24T20:46:57.115Z"
   },
   {
    "duration": 46,
    "start_time": "2024-08-24T20:46:57.122Z"
   },
   {
    "duration": 7,
    "start_time": "2024-08-24T20:46:57.173Z"
   },
   {
    "duration": 4,
    "start_time": "2024-08-24T20:46:57.184Z"
   },
   {
    "duration": 5,
    "start_time": "2024-08-24T20:46:57.191Z"
   },
   {
    "duration": 4,
    "start_time": "2024-08-24T20:46:57.199Z"
   },
   {
    "duration": 4,
    "start_time": "2024-08-24T20:46:57.206Z"
   },
   {
    "duration": 59,
    "start_time": "2024-08-24T20:46:57.217Z"
   },
   {
    "duration": 464,
    "start_time": "2024-08-24T20:51:26.981Z"
   },
   {
    "duration": 1567,
    "start_time": "2024-08-24T20:51:27.448Z"
   },
   {
    "duration": 20,
    "start_time": "2024-08-24T20:51:29.018Z"
   },
   {
    "duration": 34,
    "start_time": "2024-08-24T20:51:29.044Z"
   },
   {
    "duration": 16,
    "start_time": "2024-08-24T20:51:29.082Z"
   },
   {
    "duration": 17,
    "start_time": "2024-08-24T20:51:29.102Z"
   },
   {
    "duration": 53,
    "start_time": "2024-08-24T20:51:29.123Z"
   },
   {
    "duration": 738,
    "start_time": "2024-08-24T20:51:29.179Z"
   },
   {
    "duration": 18,
    "start_time": "2024-08-24T20:51:29.920Z"
   },
   {
    "duration": 207,
    "start_time": "2024-08-24T20:51:29.946Z"
   },
   {
    "duration": 197,
    "start_time": "2024-08-24T20:51:30.156Z"
   },
   {
    "duration": 92,
    "start_time": "2024-08-24T20:51:30.356Z"
   },
   {
    "duration": 38,
    "start_time": "2024-08-24T20:51:30.451Z"
   },
   {
    "duration": 10,
    "start_time": "2024-08-24T20:51:30.492Z"
   },
   {
    "duration": 118,
    "start_time": "2024-08-24T20:51:30.504Z"
   },
   {
    "duration": 6,
    "start_time": "2024-08-24T20:51:30.625Z"
   },
   {
    "duration": 34,
    "start_time": "2024-08-24T20:51:30.634Z"
   },
   {
    "duration": 7,
    "start_time": "2024-08-24T20:51:30.673Z"
   },
   {
    "duration": 14,
    "start_time": "2024-08-24T20:51:30.687Z"
   },
   {
    "duration": 8,
    "start_time": "2024-08-24T20:51:30.703Z"
   },
   {
    "duration": 4998,
    "start_time": "2024-08-24T20:51:30.715Z"
   },
   {
    "duration": 776,
    "start_time": "2024-08-24T20:51:35.717Z"
   },
   {
    "duration": 16,
    "start_time": "2024-08-24T20:51:36.496Z"
   },
   {
    "duration": 4,
    "start_time": "2024-08-24T20:51:36.515Z"
   },
   {
    "duration": 3,
    "start_time": "2024-08-24T20:51:36.522Z"
   },
   {
    "duration": 46,
    "start_time": "2024-08-24T20:51:36.528Z"
   },
   {
    "duration": 12,
    "start_time": "2024-08-24T20:51:36.578Z"
   },
   {
    "duration": 0,
    "start_time": "2024-08-24T20:51:36.995Z"
   },
   {
    "duration": 0,
    "start_time": "2024-08-24T20:51:36.997Z"
   },
   {
    "duration": 0,
    "start_time": "2024-08-24T20:51:36.998Z"
   },
   {
    "duration": 0,
    "start_time": "2024-08-24T20:51:37.000Z"
   },
   {
    "duration": 0,
    "start_time": "2024-08-24T20:51:37.003Z"
   },
   {
    "duration": 0,
    "start_time": "2024-08-24T20:51:37.005Z"
   },
   {
    "duration": 0,
    "start_time": "2024-08-24T20:51:37.007Z"
   },
   {
    "duration": 22,
    "start_time": "2024-08-24T20:51:40.786Z"
   },
   {
    "duration": 71,
    "start_time": "2024-08-24T20:54:15.961Z"
   },
   {
    "duration": 321,
    "start_time": "2024-08-24T21:18:57.864Z"
   },
   {
    "duration": 437,
    "start_time": "2024-08-25T03:35:04.657Z"
   },
   {
    "duration": 1657,
    "start_time": "2024-08-25T03:35:05.098Z"
   },
   {
    "duration": 19,
    "start_time": "2024-08-25T03:35:06.758Z"
   },
   {
    "duration": 41,
    "start_time": "2024-08-25T03:35:06.781Z"
   },
   {
    "duration": 16,
    "start_time": "2024-08-25T03:35:06.825Z"
   },
   {
    "duration": 13,
    "start_time": "2024-08-25T03:35:06.845Z"
   },
   {
    "duration": 12,
    "start_time": "2024-08-25T03:35:06.862Z"
   },
   {
    "duration": 715,
    "start_time": "2024-08-25T03:35:06.878Z"
   },
   {
    "duration": 27,
    "start_time": "2024-08-25T03:35:07.596Z"
   },
   {
    "duration": 193,
    "start_time": "2024-08-25T03:35:07.630Z"
   },
   {
    "duration": 177,
    "start_time": "2024-08-25T03:35:07.825Z"
   },
   {
    "duration": 90,
    "start_time": "2024-08-25T03:35:08.005Z"
   },
   {
    "duration": 34,
    "start_time": "2024-08-25T03:35:08.098Z"
   },
   {
    "duration": 10,
    "start_time": "2024-08-25T03:35:08.135Z"
   },
   {
    "duration": 112,
    "start_time": "2024-08-25T03:35:08.148Z"
   },
   {
    "duration": 3,
    "start_time": "2024-08-25T03:35:08.263Z"
   },
   {
    "duration": 10,
    "start_time": "2024-08-25T03:35:08.270Z"
   },
   {
    "duration": 8,
    "start_time": "2024-08-25T03:35:08.282Z"
   },
   {
    "duration": 14,
    "start_time": "2024-08-25T03:35:08.324Z"
   },
   {
    "duration": 7,
    "start_time": "2024-08-25T03:35:08.341Z"
   },
   {
    "duration": 4861,
    "start_time": "2024-08-25T03:35:08.351Z"
   },
   {
    "duration": 689,
    "start_time": "2024-08-25T03:35:13.215Z"
   },
   {
    "duration": 24,
    "start_time": "2024-08-25T03:35:13.906Z"
   },
   {
    "duration": 3,
    "start_time": "2024-08-25T03:35:13.933Z"
   },
   {
    "duration": 4,
    "start_time": "2024-08-25T03:35:13.939Z"
   },
   {
    "duration": 10,
    "start_time": "2024-08-25T03:35:13.949Z"
   },
   {
    "duration": 11,
    "start_time": "2024-08-25T03:35:13.961Z"
   },
   {
    "duration": 68,
    "start_time": "2024-08-25T03:35:14.025Z"
   },
   {
    "duration": 4,
    "start_time": "2024-08-25T03:35:14.095Z"
   },
   {
    "duration": 321,
    "start_time": "2024-08-25T03:35:14.122Z"
   },
   {
    "duration": 4,
    "start_time": "2024-08-25T03:35:14.446Z"
   },
   {
    "duration": 4,
    "start_time": "2024-08-25T03:35:14.453Z"
   },
   {
    "duration": 3,
    "start_time": "2024-08-25T03:35:14.460Z"
   },
   {
    "duration": 4,
    "start_time": "2024-08-25T03:35:14.467Z"
   },
   {
    "duration": 527,
    "start_time": "2024-08-25T03:56:52.671Z"
   },
   {
    "duration": 7,
    "start_time": "2024-08-25T03:57:06.572Z"
   },
   {
    "duration": 63,
    "start_time": "2024-08-25T03:57:48.125Z"
   },
   {
    "duration": 307,
    "start_time": "2024-08-27T01:00:01.262Z"
   },
   {
    "duration": 427,
    "start_time": "2024-08-27T01:00:10.478Z"
   },
   {
    "duration": 1876,
    "start_time": "2024-08-27T01:00:10.909Z"
   },
   {
    "duration": 18,
    "start_time": "2024-08-27T01:00:12.788Z"
   },
   {
    "duration": 33,
    "start_time": "2024-08-27T01:00:12.811Z"
   },
   {
    "duration": 13,
    "start_time": "2024-08-27T01:00:12.847Z"
   },
   {
    "duration": 13,
    "start_time": "2024-08-27T01:00:12.865Z"
   },
   {
    "duration": 13,
    "start_time": "2024-08-27T01:00:12.881Z"
   },
   {
    "duration": 711,
    "start_time": "2024-08-27T01:00:12.897Z"
   },
   {
    "duration": 15,
    "start_time": "2024-08-27T01:00:13.611Z"
   },
   {
    "duration": 200,
    "start_time": "2024-08-27T01:00:13.647Z"
   },
   {
    "duration": 175,
    "start_time": "2024-08-27T01:00:13.849Z"
   },
   {
    "duration": 84,
    "start_time": "2024-08-27T01:00:14.028Z"
   },
   {
    "duration": 37,
    "start_time": "2024-08-27T01:00:14.116Z"
   },
   {
    "duration": 10,
    "start_time": "2024-08-27T01:00:14.156Z"
   },
   {
    "duration": 117,
    "start_time": "2024-08-27T01:00:14.170Z"
   },
   {
    "duration": 5,
    "start_time": "2024-08-27T01:00:14.290Z"
   },
   {
    "duration": 11,
    "start_time": "2024-08-27T01:00:14.298Z"
   },
   {
    "duration": 31,
    "start_time": "2024-08-27T01:00:14.312Z"
   },
   {
    "duration": 12,
    "start_time": "2024-08-27T01:00:14.347Z"
   },
   {
    "duration": 8,
    "start_time": "2024-08-27T01:00:14.362Z"
   },
   {
    "duration": 5203,
    "start_time": "2024-08-27T01:00:14.373Z"
   },
   {
    "duration": 707,
    "start_time": "2024-08-27T01:00:19.579Z"
   },
   {
    "duration": 17,
    "start_time": "2024-08-27T01:00:20.289Z"
   },
   {
    "duration": 4,
    "start_time": "2024-08-27T01:00:20.309Z"
   },
   {
    "duration": 3,
    "start_time": "2024-08-27T01:00:20.344Z"
   },
   {
    "duration": 11,
    "start_time": "2024-08-27T01:00:20.352Z"
   },
   {
    "duration": 11,
    "start_time": "2024-08-27T01:00:20.367Z"
   },
   {
    "duration": 5,
    "start_time": "2024-08-27T01:00:20.387Z"
   },
   {
    "duration": 3,
    "start_time": "2024-08-27T01:00:20.441Z"
   },
   {
    "duration": 461,
    "start_time": "2024-08-27T01:00:20.448Z"
   },
   {
    "duration": 4,
    "start_time": "2024-08-27T01:00:20.912Z"
   },
   {
    "duration": 4,
    "start_time": "2024-08-27T01:00:20.919Z"
   },
   {
    "duration": 4,
    "start_time": "2024-08-27T01:00:20.941Z"
   },
   {
    "duration": 3,
    "start_time": "2024-08-27T01:00:20.949Z"
   },
   {
    "duration": 11,
    "start_time": "2024-08-27T01:00:56.184Z"
   },
   {
    "duration": 60,
    "start_time": "2024-08-27T01:04:29.457Z"
   },
   {
    "duration": 15,
    "start_time": "2024-08-27T01:07:32.087Z"
   },
   {
    "duration": 32,
    "start_time": "2024-08-27T01:09:21.057Z"
   },
   {
    "duration": 49,
    "start_time": "2024-08-27T01:10:23.341Z"
   },
   {
    "duration": 59,
    "start_time": "2024-08-27T01:10:50.569Z"
   },
   {
    "duration": 7,
    "start_time": "2024-08-27T01:28:30.775Z"
   },
   {
    "duration": 27,
    "start_time": "2024-08-27T01:45:30.353Z"
   },
   {
    "duration": 1272,
    "start_time": "2024-08-27T01:51:35.470Z"
   },
   {
    "duration": 438,
    "start_time": "2024-08-27T01:53:21.669Z"
   },
   {
    "duration": 1548,
    "start_time": "2024-08-27T01:53:22.111Z"
   },
   {
    "duration": 18,
    "start_time": "2024-08-27T01:53:23.662Z"
   },
   {
    "duration": 18,
    "start_time": "2024-08-27T01:53:23.684Z"
   },
   {
    "duration": 39,
    "start_time": "2024-08-27T01:53:23.707Z"
   },
   {
    "duration": 13,
    "start_time": "2024-08-27T01:53:23.749Z"
   },
   {
    "duration": 10,
    "start_time": "2024-08-27T01:53:23.765Z"
   },
   {
    "duration": 703,
    "start_time": "2024-08-27T01:53:23.778Z"
   },
   {
    "duration": 15,
    "start_time": "2024-08-27T01:53:24.484Z"
   },
   {
    "duration": 200,
    "start_time": "2024-08-27T01:53:24.504Z"
   },
   {
    "duration": 180,
    "start_time": "2024-08-27T01:53:24.707Z"
   },
   {
    "duration": 100,
    "start_time": "2024-08-27T01:53:24.889Z"
   },
   {
    "duration": 27,
    "start_time": "2024-08-27T01:53:24.992Z"
   },
   {
    "duration": 10,
    "start_time": "2024-08-27T01:53:25.041Z"
   },
   {
    "duration": 103,
    "start_time": "2024-08-27T01:53:25.054Z"
   },
   {
    "duration": 3,
    "start_time": "2024-08-27T01:53:25.160Z"
   },
   {
    "duration": 10,
    "start_time": "2024-08-27T01:53:25.166Z"
   },
   {
    "duration": 7,
    "start_time": "2024-08-27T01:53:25.179Z"
   },
   {
    "duration": 56,
    "start_time": "2024-08-27T01:53:25.189Z"
   },
   {
    "duration": 7,
    "start_time": "2024-08-27T01:53:25.248Z"
   },
   {
    "duration": 4907,
    "start_time": "2024-08-27T01:53:25.258Z"
   },
   {
    "duration": 722,
    "start_time": "2024-08-27T01:53:30.168Z"
   },
   {
    "duration": 16,
    "start_time": "2024-08-27T01:53:30.893Z"
   },
   {
    "duration": 3,
    "start_time": "2024-08-27T01:53:30.912Z"
   },
   {
    "duration": 4,
    "start_time": "2024-08-27T01:53:30.941Z"
   },
   {
    "duration": 10,
    "start_time": "2024-08-27T01:53:30.950Z"
   },
   {
    "duration": 10,
    "start_time": "2024-08-27T01:53:30.963Z"
   },
   {
    "duration": 15,
    "start_time": "2024-08-27T01:53:30.976Z"
   },
   {
    "duration": 48,
    "start_time": "2024-08-27T01:53:30.994Z"
   },
   {
    "duration": 31,
    "start_time": "2024-08-27T01:53:31.045Z"
   },
   {
    "duration": 76,
    "start_time": "2024-08-27T01:53:31.079Z"
   },
   {
    "duration": 29,
    "start_time": "2024-08-27T01:53:31.158Z"
   },
   {
    "duration": 1101,
    "start_time": "2024-08-27T01:53:31.189Z"
   },
   {
    "duration": 0,
    "start_time": "2024-08-27T01:53:32.293Z"
   },
   {
    "duration": 37,
    "start_time": "2024-08-27T01:58:37.162Z"
   },
   {
    "duration": 33,
    "start_time": "2024-08-27T01:58:52.736Z"
   },
   {
    "duration": 24,
    "start_time": "2024-08-27T02:08:03.866Z"
   },
   {
    "duration": 9,
    "start_time": "2024-08-27T02:24:45.804Z"
   },
   {
    "duration": 8,
    "start_time": "2024-08-27T02:26:46.772Z"
   },
   {
    "duration": 533,
    "start_time": "2024-08-27T02:28:24.309Z"
   },
   {
    "duration": 1979,
    "start_time": "2024-08-27T02:28:24.853Z"
   },
   {
    "duration": 24,
    "start_time": "2024-08-27T02:28:26.837Z"
   },
   {
    "duration": 25,
    "start_time": "2024-08-27T02:28:26.865Z"
   },
   {
    "duration": 15,
    "start_time": "2024-08-27T02:28:26.896Z"
   },
   {
    "duration": 17,
    "start_time": "2024-08-27T02:28:26.944Z"
   },
   {
    "duration": 24,
    "start_time": "2024-08-27T02:28:26.964Z"
   },
   {
    "duration": 943,
    "start_time": "2024-08-27T02:28:26.998Z"
   },
   {
    "duration": 19,
    "start_time": "2024-08-27T02:28:27.945Z"
   },
   {
    "duration": 256,
    "start_time": "2024-08-27T02:28:27.967Z"
   },
   {
    "duration": 233,
    "start_time": "2024-08-27T02:28:28.229Z"
   },
   {
    "duration": 109,
    "start_time": "2024-08-27T02:28:28.466Z"
   },
   {
    "duration": 30,
    "start_time": "2024-08-27T02:28:28.579Z"
   },
   {
    "duration": 32,
    "start_time": "2024-08-27T02:28:28.617Z"
   },
   {
    "duration": 127,
    "start_time": "2024-08-27T02:28:28.654Z"
   },
   {
    "duration": 4,
    "start_time": "2024-08-27T02:28:28.784Z"
   },
   {
    "duration": 11,
    "start_time": "2024-08-27T02:28:28.791Z"
   },
   {
    "duration": 7,
    "start_time": "2024-08-27T02:28:28.805Z"
   },
   {
    "duration": 37,
    "start_time": "2024-08-27T02:28:28.815Z"
   },
   {
    "duration": 9,
    "start_time": "2024-08-27T02:28:28.858Z"
   },
   {
    "duration": 5424,
    "start_time": "2024-08-27T02:28:28.871Z"
   },
   {
    "duration": 923,
    "start_time": "2024-08-27T02:28:34.299Z"
   },
   {
    "duration": 27,
    "start_time": "2024-08-27T02:28:35.225Z"
   },
   {
    "duration": 4,
    "start_time": "2024-08-27T02:28:35.255Z"
   },
   {
    "duration": 3,
    "start_time": "2024-08-27T02:28:35.262Z"
   },
   {
    "duration": 11,
    "start_time": "2024-08-27T02:28:35.268Z"
   },
   {
    "duration": 57,
    "start_time": "2024-08-27T02:28:35.286Z"
   },
   {
    "duration": 16,
    "start_time": "2024-08-27T02:28:35.346Z"
   },
   {
    "duration": 3,
    "start_time": "2024-08-27T02:28:35.365Z"
   },
   {
    "duration": 73,
    "start_time": "2024-08-27T02:28:35.370Z"
   },
   {
    "duration": 72,
    "start_time": "2024-08-27T02:28:35.448Z"
   },
   {
    "duration": 43,
    "start_time": "2024-08-27T02:28:35.523Z"
   },
   {
    "duration": 9,
    "start_time": "2024-08-27T02:28:35.570Z"
   },
   {
    "duration": 4,
    "start_time": "2024-08-27T02:28:35.582Z"
   },
   {
    "duration": 35,
    "start_time": "2024-08-27T02:32:38.252Z"
   },
   {
    "duration": 30,
    "start_time": "2024-08-27T02:33:22.348Z"
   },
   {
    "duration": 473,
    "start_time": "2024-08-27T02:35:59.973Z"
   },
   {
    "duration": 471,
    "start_time": "2024-08-27T02:36:09.520Z"
   },
   {
    "duration": 1519,
    "start_time": "2024-08-27T02:36:09.995Z"
   },
   {
    "duration": 33,
    "start_time": "2024-08-27T02:36:11.518Z"
   },
   {
    "duration": 16,
    "start_time": "2024-08-27T02:36:11.555Z"
   },
   {
    "duration": 14,
    "start_time": "2024-08-27T02:36:11.574Z"
   },
   {
    "duration": 14,
    "start_time": "2024-08-27T02:36:11.591Z"
   },
   {
    "duration": 14,
    "start_time": "2024-08-27T02:36:11.643Z"
   },
   {
    "duration": 800,
    "start_time": "2024-08-27T02:36:11.661Z"
   },
   {
    "duration": 17,
    "start_time": "2024-08-27T02:36:12.464Z"
   },
   {
    "duration": 211,
    "start_time": "2024-08-27T02:36:12.488Z"
   },
   {
    "duration": 176,
    "start_time": "2024-08-27T02:36:12.702Z"
   },
   {
    "duration": 84,
    "start_time": "2024-08-27T02:36:12.881Z"
   },
   {
    "duration": 22,
    "start_time": "2024-08-27T02:36:12.967Z"
   },
   {
    "duration": 10,
    "start_time": "2024-08-27T02:36:12.992Z"
   },
   {
    "duration": 112,
    "start_time": "2024-08-27T02:36:13.005Z"
   },
   {
    "duration": 22,
    "start_time": "2024-08-27T02:36:13.119Z"
   },
   {
    "duration": 10,
    "start_time": "2024-08-27T02:36:13.144Z"
   },
   {
    "duration": 6,
    "start_time": "2024-08-27T02:36:13.157Z"
   },
   {
    "duration": 12,
    "start_time": "2024-08-27T02:36:13.166Z"
   },
   {
    "duration": 7,
    "start_time": "2024-08-27T02:36:13.181Z"
   },
   {
    "duration": 4845,
    "start_time": "2024-08-27T02:36:13.191Z"
   },
   {
    "duration": 707,
    "start_time": "2024-08-27T02:36:18.043Z"
   },
   {
    "duration": 14,
    "start_time": "2024-08-27T02:36:18.753Z"
   },
   {
    "duration": 3,
    "start_time": "2024-08-27T02:36:18.772Z"
   },
   {
    "duration": 4,
    "start_time": "2024-08-27T02:36:18.779Z"
   },
   {
    "duration": 54,
    "start_time": "2024-08-27T02:36:18.787Z"
   },
   {
    "duration": 12,
    "start_time": "2024-08-27T02:36:18.845Z"
   },
   {
    "duration": 14,
    "start_time": "2024-08-27T02:36:18.864Z"
   },
   {
    "duration": 4,
    "start_time": "2024-08-27T02:36:18.881Z"
   },
   {
    "duration": 68,
    "start_time": "2024-08-27T02:36:18.888Z"
   },
   {
    "duration": 47,
    "start_time": "2024-08-27T02:36:18.960Z"
   },
   {
    "duration": 51,
    "start_time": "2024-08-27T02:36:19.010Z"
   },
   {
    "duration": 7,
    "start_time": "2024-08-27T02:36:19.065Z"
   },
   {
    "duration": 71,
    "start_time": "2024-08-27T02:36:19.075Z"
   },
   {
    "duration": 337,
    "start_time": "2024-08-27T02:36:19.149Z"
   },
   {
    "duration": 23,
    "start_time": "2024-08-27T02:36:49.820Z"
   },
   {
    "duration": 7,
    "start_time": "2024-08-27T02:37:29.899Z"
   },
   {
    "duration": 7,
    "start_time": "2024-08-27T02:37:56.962Z"
   },
   {
    "duration": 4307,
    "start_time": "2024-08-27T02:41:13.339Z"
   },
   {
    "duration": 5,
    "start_time": "2024-08-27T02:44:42.574Z"
   },
   {
    "duration": 654,
    "start_time": "2024-08-27T02:49:23.753Z"
   },
   {
    "duration": 542,
    "start_time": "2024-08-27T02:49:30.428Z"
   },
   {
    "duration": 2013,
    "start_time": "2024-08-27T02:50:23.635Z"
   },
   {
    "duration": 370,
    "start_time": "2024-08-27T02:51:17.635Z"
   },
   {
    "duration": 361,
    "start_time": "2024-08-27T02:51:23.357Z"
   },
   {
    "duration": 270,
    "start_time": "2024-08-27T22:05:05.835Z"
   },
   {
    "duration": 1056,
    "start_time": "2024-08-27T22:05:06.107Z"
   },
   {
    "duration": 12,
    "start_time": "2024-08-27T22:05:07.165Z"
   },
   {
    "duration": 10,
    "start_time": "2024-08-27T22:05:07.179Z"
   },
   {
    "duration": 7,
    "start_time": "2024-08-27T22:05:07.190Z"
   },
   {
    "duration": 8,
    "start_time": "2024-08-27T22:05:07.199Z"
   },
   {
    "duration": 6,
    "start_time": "2024-08-27T22:05:07.209Z"
   },
   {
    "duration": 363,
    "start_time": "2024-08-27T22:05:07.249Z"
   },
   {
    "duration": 8,
    "start_time": "2024-08-27T22:05:07.614Z"
   },
   {
    "duration": 109,
    "start_time": "2024-08-27T22:05:07.625Z"
   },
   {
    "duration": 88,
    "start_time": "2024-08-27T22:05:07.735Z"
   },
   {
    "duration": 53,
    "start_time": "2024-08-27T22:05:07.825Z"
   },
   {
    "duration": 12,
    "start_time": "2024-08-27T22:05:07.880Z"
   },
   {
    "duration": 5,
    "start_time": "2024-08-27T22:05:07.893Z"
   },
   {
    "duration": 59,
    "start_time": "2024-08-27T22:05:07.900Z"
   },
   {
    "duration": 3,
    "start_time": "2024-08-27T22:05:07.960Z"
   },
   {
    "duration": 7,
    "start_time": "2024-08-27T22:05:07.964Z"
   },
   {
    "duration": 4,
    "start_time": "2024-08-27T22:05:07.972Z"
   },
   {
    "duration": 7,
    "start_time": "2024-08-27T22:05:07.978Z"
   },
   {
    "duration": 3,
    "start_time": "2024-08-27T22:05:07.988Z"
   },
   {
    "duration": 2665,
    "start_time": "2024-08-27T22:05:07.993Z"
   },
   {
    "duration": 302,
    "start_time": "2024-08-27T22:05:10.660Z"
   },
   {
    "duration": 11,
    "start_time": "2024-08-27T22:05:10.964Z"
   },
   {
    "duration": 3,
    "start_time": "2024-08-27T22:05:10.977Z"
   },
   {
    "duration": 3,
    "start_time": "2024-08-27T22:05:10.981Z"
   },
   {
    "duration": 6,
    "start_time": "2024-08-27T22:05:10.985Z"
   },
   {
    "duration": 7,
    "start_time": "2024-08-27T22:05:10.992Z"
   },
   {
    "duration": 8,
    "start_time": "2024-08-27T22:05:11.002Z"
   },
   {
    "duration": 3,
    "start_time": "2024-08-27T22:05:11.011Z"
   },
   {
    "duration": 19,
    "start_time": "2024-08-27T22:05:11.049Z"
   },
   {
    "duration": 31,
    "start_time": "2024-08-27T22:05:11.069Z"
   },
   {
    "duration": 17,
    "start_time": "2024-08-27T22:05:11.102Z"
   },
   {
    "duration": 30,
    "start_time": "2024-08-27T22:05:11.121Z"
   },
   {
    "duration": 35,
    "start_time": "2024-08-27T22:05:11.152Z"
   },
   {
    "duration": 4,
    "start_time": "2024-08-27T22:05:11.189Z"
   },
   {
    "duration": 4,
    "start_time": "2024-08-27T22:05:11.195Z"
   },
   {
    "duration": 159,
    "start_time": "2024-08-27T22:21:17.941Z"
   },
   {
    "duration": 295,
    "start_time": "2024-08-27T22:21:24.694Z"
   },
   {
    "duration": 1058,
    "start_time": "2024-08-27T22:21:24.991Z"
   },
   {
    "duration": 12,
    "start_time": "2024-08-27T22:21:26.051Z"
   },
   {
    "duration": 11,
    "start_time": "2024-08-27T22:21:26.065Z"
   },
   {
    "duration": 8,
    "start_time": "2024-08-27T22:21:26.077Z"
   },
   {
    "duration": 7,
    "start_time": "2024-08-27T22:21:26.086Z"
   },
   {
    "duration": 7,
    "start_time": "2024-08-27T22:21:26.095Z"
   },
   {
    "duration": 264,
    "start_time": "2024-08-27T22:21:37.529Z"
   },
   {
    "duration": 862,
    "start_time": "2024-08-27T22:21:37.796Z"
   },
   {
    "duration": 12,
    "start_time": "2024-08-27T22:21:38.659Z"
   },
   {
    "duration": 10,
    "start_time": "2024-08-27T22:21:38.673Z"
   },
   {
    "duration": 9,
    "start_time": "2024-08-27T22:21:38.684Z"
   },
   {
    "duration": 9,
    "start_time": "2024-08-27T22:21:38.694Z"
   },
   {
    "duration": 7,
    "start_time": "2024-08-27T22:21:38.705Z"
   },
   {
    "duration": 179,
    "start_time": "2024-08-27T22:21:41.980Z"
   },
   {
    "duration": 2,
    "start_time": "2024-08-27T22:24:35.974Z"
   },
   {
    "duration": 844,
    "start_time": "2024-08-27T22:24:35.978Z"
   },
   {
    "duration": 10,
    "start_time": "2024-08-27T22:24:36.824Z"
   },
   {
    "duration": 17,
    "start_time": "2024-08-27T22:24:36.848Z"
   },
   {
    "duration": 8,
    "start_time": "2024-08-27T22:24:36.866Z"
   },
   {
    "duration": 7,
    "start_time": "2024-08-27T22:24:36.876Z"
   },
   {
    "duration": 6,
    "start_time": "2024-08-27T22:24:36.885Z"
   },
   {
    "duration": 165,
    "start_time": "2024-08-27T22:24:36.893Z"
   },
   {
    "duration": 14,
    "start_time": "2024-08-27T22:24:37.060Z"
   },
   {
    "duration": 85,
    "start_time": "2024-08-27T22:24:37.077Z"
   },
   {
    "duration": 86,
    "start_time": "2024-08-27T22:24:37.163Z"
   },
   {
    "duration": 39,
    "start_time": "2024-08-27T22:24:37.251Z"
   },
   {
    "duration": 12,
    "start_time": "2024-08-27T22:24:37.292Z"
   },
   {
    "duration": 5,
    "start_time": "2024-08-27T22:24:37.305Z"
   },
   {
    "duration": 64,
    "start_time": "2024-08-27T22:24:37.312Z"
   },
   {
    "duration": 7,
    "start_time": "2024-08-27T22:26:16.163Z"
   },
   {
    "duration": 16,
    "start_time": "2024-08-27T22:26:32.119Z"
   },
   {
    "duration": 289,
    "start_time": "2024-08-27T22:26:41.697Z"
   },
   {
    "duration": 865,
    "start_time": "2024-08-27T22:26:41.988Z"
   },
   {
    "duration": 11,
    "start_time": "2024-08-27T22:26:42.855Z"
   },
   {
    "duration": 10,
    "start_time": "2024-08-27T22:26:42.869Z"
   },
   {
    "duration": 7,
    "start_time": "2024-08-27T22:26:42.881Z"
   },
   {
    "duration": 8,
    "start_time": "2024-08-27T22:26:42.890Z"
   },
   {
    "duration": 7,
    "start_time": "2024-08-27T22:26:42.900Z"
   },
   {
    "duration": 223,
    "start_time": "2024-08-27T22:26:42.908Z"
   },
   {
    "duration": 17,
    "start_time": "2024-08-27T22:26:43.133Z"
   },
   {
    "duration": 105,
    "start_time": "2024-08-27T22:26:43.153Z"
   },
   {
    "duration": 92,
    "start_time": "2024-08-27T22:26:43.260Z"
   },
   {
    "duration": 44,
    "start_time": "2024-08-27T22:26:43.354Z"
   },
   {
    "duration": 12,
    "start_time": "2024-08-27T22:26:43.400Z"
   },
   {
    "duration": 6,
    "start_time": "2024-08-27T22:26:43.414Z"
   },
   {
    "duration": 63,
    "start_time": "2024-08-27T22:26:43.421Z"
   },
   {
    "duration": 14,
    "start_time": "2024-08-27T22:26:43.486Z"
   },
   {
    "duration": 5,
    "start_time": "2024-08-27T22:26:43.502Z"
   },
   {
    "duration": 4,
    "start_time": "2024-08-27T22:26:43.509Z"
   },
   {
    "duration": 36,
    "start_time": "2024-08-27T22:26:43.514Z"
   },
   {
    "duration": 6,
    "start_time": "2024-08-27T22:26:43.551Z"
   },
   {
    "duration": 2592,
    "start_time": "2024-08-27T22:26:43.559Z"
   },
   {
    "duration": 307,
    "start_time": "2024-08-27T22:26:46.153Z"
   },
   {
    "duration": 9,
    "start_time": "2024-08-27T22:26:46.462Z"
   },
   {
    "duration": 3,
    "start_time": "2024-08-27T22:26:46.472Z"
   },
   {
    "duration": 3,
    "start_time": "2024-08-27T22:26:46.476Z"
   },
   {
    "duration": 5,
    "start_time": "2024-08-27T22:26:46.481Z"
   },
   {
    "duration": 6,
    "start_time": "2024-08-27T22:26:46.488Z"
   },
   {
    "duration": 8,
    "start_time": "2024-08-27T22:26:46.498Z"
   },
   {
    "duration": 2,
    "start_time": "2024-08-27T22:26:46.508Z"
   },
   {
    "duration": 55,
    "start_time": "2024-08-27T22:26:46.511Z"
   },
   {
    "duration": 30,
    "start_time": "2024-08-27T22:26:46.567Z"
   },
   {
    "duration": 16,
    "start_time": "2024-08-27T22:26:46.599Z"
   },
   {
    "duration": 4,
    "start_time": "2024-08-27T22:26:46.617Z"
   },
   {
    "duration": 53,
    "start_time": "2024-08-27T22:26:46.623Z"
   },
   {
    "duration": 3,
    "start_time": "2024-08-27T22:26:46.678Z"
   },
   {
    "duration": 3,
    "start_time": "2024-08-27T22:26:46.684Z"
   },
   {
    "duration": 264,
    "start_time": "2024-08-27T22:27:41.921Z"
   },
   {
    "duration": 862,
    "start_time": "2024-08-27T22:27:42.187Z"
   },
   {
    "duration": 12,
    "start_time": "2024-08-27T22:27:43.050Z"
   },
   {
    "duration": 10,
    "start_time": "2024-08-27T22:27:43.064Z"
   },
   {
    "duration": 8,
    "start_time": "2024-08-27T22:27:43.076Z"
   },
   {
    "duration": 10,
    "start_time": "2024-08-27T22:27:43.086Z"
   },
   {
    "duration": 7,
    "start_time": "2024-08-27T22:27:43.098Z"
   },
   {
    "duration": 218,
    "start_time": "2024-08-27T22:27:43.107Z"
   },
   {
    "duration": 8,
    "start_time": "2024-08-27T22:27:43.327Z"
   },
   {
    "duration": 105,
    "start_time": "2024-08-27T22:27:43.351Z"
   },
   {
    "duration": 91,
    "start_time": "2024-08-27T22:27:43.458Z"
   },
   {
    "duration": 43,
    "start_time": "2024-08-27T22:27:43.550Z"
   },
   {
    "duration": 11,
    "start_time": "2024-08-27T22:27:43.595Z"
   },
   {
    "duration": 6,
    "start_time": "2024-08-27T22:27:43.608Z"
   },
   {
    "duration": 61,
    "start_time": "2024-08-27T22:27:43.615Z"
   },
   {
    "duration": 8,
    "start_time": "2024-08-27T22:27:43.678Z"
   },
   {
    "duration": 5,
    "start_time": "2024-08-27T22:27:43.687Z"
   },
   {
    "duration": 3,
    "start_time": "2024-08-27T22:27:43.694Z"
   },
   {
    "duration": 6,
    "start_time": "2024-08-27T22:27:43.699Z"
   },
   {
    "duration": 4,
    "start_time": "2024-08-27T22:27:43.707Z"
   },
   {
    "duration": 2708,
    "start_time": "2024-08-27T22:27:43.712Z"
   },
   {
    "duration": 301,
    "start_time": "2024-08-27T22:27:46.422Z"
   },
   {
    "duration": 9,
    "start_time": "2024-08-27T22:27:46.724Z"
   },
   {
    "duration": 14,
    "start_time": "2024-08-27T22:27:46.735Z"
   },
   {
    "duration": 2,
    "start_time": "2024-08-27T22:27:46.751Z"
   },
   {
    "duration": 6,
    "start_time": "2024-08-27T22:27:46.755Z"
   },
   {
    "duration": 6,
    "start_time": "2024-08-27T22:27:46.764Z"
   },
   {
    "duration": 8,
    "start_time": "2024-08-27T22:27:46.774Z"
   },
   {
    "duration": 3,
    "start_time": "2024-08-27T22:27:46.783Z"
   },
   {
    "duration": 18,
    "start_time": "2024-08-27T22:27:46.788Z"
   },
   {
    "duration": 70,
    "start_time": "2024-08-27T22:27:46.808Z"
   },
   {
    "duration": 17,
    "start_time": "2024-08-27T22:27:46.880Z"
   },
   {
    "duration": 4,
    "start_time": "2024-08-27T22:27:46.899Z"
   },
   {
    "duration": 50,
    "start_time": "2024-08-27T22:27:46.904Z"
   },
   {
    "duration": 4,
    "start_time": "2024-08-27T22:27:46.956Z"
   },
   {
    "duration": 4,
    "start_time": "2024-08-27T22:27:46.962Z"
   },
   {
    "duration": 161,
    "start_time": "2024-08-27T22:35:13.115Z"
   },
   {
    "duration": 274,
    "start_time": "2024-08-27T22:35:24.228Z"
   },
   {
    "duration": 1026,
    "start_time": "2024-08-27T22:35:24.504Z"
   },
   {
    "duration": 17,
    "start_time": "2024-08-27T22:35:25.532Z"
   },
   {
    "duration": 9,
    "start_time": "2024-08-27T22:35:25.550Z"
   },
   {
    "duration": 7,
    "start_time": "2024-08-27T22:35:25.561Z"
   },
   {
    "duration": 7,
    "start_time": "2024-08-27T22:35:25.570Z"
   },
   {
    "duration": 6,
    "start_time": "2024-08-27T22:35:25.578Z"
   },
   {
    "duration": 210,
    "start_time": "2024-08-27T22:35:25.586Z"
   },
   {
    "duration": 8,
    "start_time": "2024-08-27T22:35:25.798Z"
   },
   {
    "duration": 107,
    "start_time": "2024-08-27T22:35:25.808Z"
   },
   {
    "duration": 94,
    "start_time": "2024-08-27T22:35:25.917Z"
   },
   {
    "duration": 50,
    "start_time": "2024-08-27T22:35:26.012Z"
   },
   {
    "duration": 13,
    "start_time": "2024-08-27T22:35:26.064Z"
   },
   {
    "duration": 5,
    "start_time": "2024-08-27T22:35:26.081Z"
   },
   {
    "duration": 61,
    "start_time": "2024-08-27T22:35:26.088Z"
   },
   {
    "duration": 7,
    "start_time": "2024-08-27T22:35:26.150Z"
   },
   {
    "duration": 5,
    "start_time": "2024-08-27T22:35:26.159Z"
   },
   {
    "duration": 4,
    "start_time": "2024-08-27T22:35:26.166Z"
   },
   {
    "duration": 7,
    "start_time": "2024-08-27T22:35:26.171Z"
   },
   {
    "duration": 5,
    "start_time": "2024-08-27T22:35:26.179Z"
   },
   {
    "duration": 2682,
    "start_time": "2024-08-27T22:35:26.185Z"
   },
   {
    "duration": 315,
    "start_time": "2024-08-27T22:35:28.869Z"
   },
   {
    "duration": 9,
    "start_time": "2024-08-27T22:35:29.186Z"
   },
   {
    "duration": 2,
    "start_time": "2024-08-27T22:35:29.197Z"
   },
   {
    "duration": 3,
    "start_time": "2024-08-27T22:35:29.200Z"
   },
   {
    "duration": 6,
    "start_time": "2024-08-27T22:35:29.204Z"
   },
   {
    "duration": 7,
    "start_time": "2024-08-27T22:35:29.211Z"
   },
   {
    "duration": 37,
    "start_time": "2024-08-27T22:35:29.219Z"
   },
   {
    "duration": 4,
    "start_time": "2024-08-27T22:35:29.259Z"
   },
   {
    "duration": 21,
    "start_time": "2024-08-27T22:35:29.264Z"
   },
   {
    "duration": 30,
    "start_time": "2024-08-27T22:35:29.286Z"
   },
   {
    "duration": 6,
    "start_time": "2024-08-27T22:35:32.604Z"
   },
   {
    "duration": 20,
    "start_time": "2024-08-27T22:37:25.251Z"
   },
   {
    "duration": 268,
    "start_time": "2024-08-27T22:40:30.598Z"
   },
   {
    "duration": 162,
    "start_time": "2024-08-27T22:40:37.994Z"
   },
   {
    "duration": 183,
    "start_time": "2024-08-27T22:41:58.838Z"
   },
   {
    "duration": 26,
    "start_time": "2024-08-27T23:10:19.130Z"
   },
   {
    "duration": 3,
    "start_time": "2024-08-27T23:10:35.550Z"
   },
   {
    "duration": 29,
    "start_time": "2024-08-27T23:10:49.415Z"
   },
   {
    "duration": 468,
    "start_time": "2024-08-27T23:11:24.951Z"
   },
   {
    "duration": 16,
    "start_time": "2024-08-27T23:11:47.485Z"
   },
   {
    "duration": 9,
    "start_time": "2024-08-27T23:11:56.305Z"
   },
   {
    "duration": 10,
    "start_time": "2024-08-27T23:12:29.673Z"
   },
   {
    "duration": 4,
    "start_time": "2024-08-27T23:19:47.486Z"
   },
   {
    "duration": 4,
    "start_time": "2024-08-27T23:19:54.113Z"
   },
   {
    "duration": 3,
    "start_time": "2024-08-27T23:20:08.982Z"
   },
   {
    "duration": 3,
    "start_time": "2024-08-27T23:20:14.738Z"
   },
   {
    "duration": 219,
    "start_time": "2024-08-27T23:20:41.912Z"
   },
   {
    "duration": 733,
    "start_time": "2024-08-27T23:22:29.985Z"
   },
   {
    "duration": 3,
    "start_time": "2024-08-27T23:23:26.545Z"
   },
   {
    "duration": 4,
    "start_time": "2024-08-27T23:25:03.668Z"
   },
   {
    "duration": 661,
    "start_time": "2024-08-27T23:25:33.948Z"
   },
   {
    "duration": 660,
    "start_time": "2024-08-27T23:26:10.614Z"
   },
   {
    "duration": 184,
    "start_time": "2024-08-27T23:41:50.450Z"
   },
   {
    "duration": 163,
    "start_time": "2024-08-27T23:44:28.340Z"
   },
   {
    "duration": 123,
    "start_time": "2024-08-27T23:47:10.347Z"
   },
   {
    "duration": 192,
    "start_time": "2024-08-28T00:57:33.229Z"
   },
   {
    "duration": 325,
    "start_time": "2024-08-28T00:57:47.634Z"
   },
   {
    "duration": 1063,
    "start_time": "2024-08-28T00:57:47.962Z"
   },
   {
    "duration": 11,
    "start_time": "2024-08-28T00:57:49.027Z"
   },
   {
    "duration": 9,
    "start_time": "2024-08-28T00:57:49.040Z"
   },
   {
    "duration": 8,
    "start_time": "2024-08-28T00:57:49.051Z"
   },
   {
    "duration": 9,
    "start_time": "2024-08-28T00:57:49.061Z"
   },
   {
    "duration": 38,
    "start_time": "2024-08-28T00:57:49.071Z"
   },
   {
    "duration": 199,
    "start_time": "2024-08-28T00:57:49.111Z"
   },
   {
    "duration": 8,
    "start_time": "2024-08-28T00:57:49.312Z"
   },
   {
    "duration": 114,
    "start_time": "2024-08-28T00:57:49.322Z"
   },
   {
    "duration": 96,
    "start_time": "2024-08-28T00:57:49.438Z"
   },
   {
    "duration": 28,
    "start_time": "2024-08-28T00:57:49.535Z"
   },
   {
    "duration": 14,
    "start_time": "2024-08-28T00:57:49.565Z"
   },
   {
    "duration": 3,
    "start_time": "2024-08-28T00:57:49.583Z"
   },
   {
    "duration": 18,
    "start_time": "2024-08-28T00:57:49.610Z"
   },
   {
    "duration": 11,
    "start_time": "2024-08-28T00:57:49.629Z"
   },
   {
    "duration": 3,
    "start_time": "2024-08-28T00:57:49.642Z"
   },
   {
    "duration": 3,
    "start_time": "2024-08-28T00:57:49.648Z"
   },
   {
    "duration": 4,
    "start_time": "2024-08-28T00:57:49.653Z"
   },
   {
    "duration": 3,
    "start_time": "2024-08-28T00:57:49.659Z"
   },
   {
    "duration": 825,
    "start_time": "2024-08-28T00:57:49.664Z"
   },
   {
    "duration": 1034,
    "start_time": "2024-08-28T00:57:50.491Z"
   },
   {
    "duration": 0,
    "start_time": "2024-08-28T00:57:51.526Z"
   },
   {
    "duration": 0,
    "start_time": "2024-08-28T00:57:51.528Z"
   },
   {
    "duration": 0,
    "start_time": "2024-08-28T00:57:51.529Z"
   },
   {
    "duration": 0,
    "start_time": "2024-08-28T00:57:51.530Z"
   },
   {
    "duration": 0,
    "start_time": "2024-08-28T00:57:51.532Z"
   },
   {
    "duration": 0,
    "start_time": "2024-08-28T00:57:51.533Z"
   },
   {
    "duration": 0,
    "start_time": "2024-08-28T00:57:51.534Z"
   },
   {
    "duration": 0,
    "start_time": "2024-08-28T00:57:51.536Z"
   },
   {
    "duration": 0,
    "start_time": "2024-08-28T00:57:51.537Z"
   },
   {
    "duration": 0,
    "start_time": "2024-08-28T00:57:51.538Z"
   },
   {
    "duration": 0,
    "start_time": "2024-08-28T00:57:51.540Z"
   },
   {
    "duration": 0,
    "start_time": "2024-08-28T00:57:51.542Z"
   },
   {
    "duration": 0,
    "start_time": "2024-08-28T00:57:51.543Z"
   },
   {
    "duration": 0,
    "start_time": "2024-08-28T00:57:51.544Z"
   },
   {
    "duration": 0,
    "start_time": "2024-08-28T00:57:51.546Z"
   },
   {
    "duration": 0,
    "start_time": "2024-08-28T00:57:51.547Z"
   },
   {
    "duration": 0,
    "start_time": "2024-08-28T00:57:51.547Z"
   },
   {
    "duration": 307,
    "start_time": "2024-08-28T00:58:38.654Z"
   },
   {
    "duration": 871,
    "start_time": "2024-08-28T00:58:38.963Z"
   },
   {
    "duration": 11,
    "start_time": "2024-08-28T00:58:39.836Z"
   },
   {
    "duration": 9,
    "start_time": "2024-08-28T00:58:39.850Z"
   },
   {
    "duration": 7,
    "start_time": "2024-08-28T00:58:39.862Z"
   },
   {
    "duration": 7,
    "start_time": "2024-08-28T00:58:39.871Z"
   },
   {
    "duration": 34,
    "start_time": "2024-08-28T00:58:39.880Z"
   },
   {
    "duration": 200,
    "start_time": "2024-08-28T00:58:39.916Z"
   },
   {
    "duration": 8,
    "start_time": "2024-08-28T00:58:40.118Z"
   },
   {
    "duration": 114,
    "start_time": "2024-08-28T00:58:40.127Z"
   },
   {
    "duration": 106,
    "start_time": "2024-08-28T00:58:40.242Z"
   },
   {
    "duration": 30,
    "start_time": "2024-08-28T00:58:40.350Z"
   },
   {
    "duration": 12,
    "start_time": "2024-08-28T00:58:40.382Z"
   },
   {
    "duration": 3,
    "start_time": "2024-08-28T00:58:40.412Z"
   },
   {
    "duration": 18,
    "start_time": "2024-08-28T00:58:40.417Z"
   },
   {
    "duration": 9,
    "start_time": "2024-08-28T00:58:40.436Z"
   },
   {
    "duration": 3,
    "start_time": "2024-08-28T00:58:40.447Z"
   },
   {
    "duration": 3,
    "start_time": "2024-08-28T00:58:40.452Z"
   },
   {
    "duration": 4,
    "start_time": "2024-08-28T00:58:40.457Z"
   },
   {
    "duration": 47,
    "start_time": "2024-08-28T00:58:40.462Z"
   },
   {
    "duration": 748,
    "start_time": "2024-08-28T00:58:40.511Z"
   },
   {
    "duration": 1064,
    "start_time": "2024-08-28T00:58:41.261Z"
   },
   {
    "duration": 0,
    "start_time": "2024-08-28T00:58:42.326Z"
   },
   {
    "duration": 0,
    "start_time": "2024-08-28T00:58:42.327Z"
   },
   {
    "duration": 0,
    "start_time": "2024-08-28T00:58:42.329Z"
   },
   {
    "duration": 0,
    "start_time": "2024-08-28T00:58:42.330Z"
   },
   {
    "duration": 0,
    "start_time": "2024-08-28T00:58:42.331Z"
   },
   {
    "duration": 0,
    "start_time": "2024-08-28T00:58:42.332Z"
   },
   {
    "duration": 0,
    "start_time": "2024-08-28T00:58:42.333Z"
   },
   {
    "duration": 0,
    "start_time": "2024-08-28T00:58:42.334Z"
   },
   {
    "duration": 0,
    "start_time": "2024-08-28T00:58:42.335Z"
   },
   {
    "duration": 0,
    "start_time": "2024-08-28T00:58:42.337Z"
   },
   {
    "duration": 0,
    "start_time": "2024-08-28T00:58:42.338Z"
   },
   {
    "duration": 0,
    "start_time": "2024-08-28T00:58:42.339Z"
   },
   {
    "duration": 0,
    "start_time": "2024-08-28T00:58:42.340Z"
   },
   {
    "duration": 0,
    "start_time": "2024-08-28T00:58:42.341Z"
   },
   {
    "duration": 0,
    "start_time": "2024-08-28T00:58:42.342Z"
   },
   {
    "duration": 0,
    "start_time": "2024-08-28T00:58:42.343Z"
   },
   {
    "duration": 0,
    "start_time": "2024-08-28T00:58:42.344Z"
   },
   {
    "duration": 2061,
    "start_time": "2024-08-28T00:58:46.749Z"
   },
   {
    "duration": 118,
    "start_time": "2024-08-28T00:58:52.614Z"
   },
   {
    "duration": 74,
    "start_time": "2024-08-28T00:58:55.400Z"
   },
   {
    "duration": 1771,
    "start_time": "2024-08-28T00:59:10.467Z"
   },
   {
    "duration": 104,
    "start_time": "2024-08-28T00:59:59.493Z"
   },
   {
    "duration": 190,
    "start_time": "2024-08-28T01:00:42.777Z"
   },
   {
    "duration": 200,
    "start_time": "2024-08-28T01:02:43.066Z"
   },
   {
    "duration": 205,
    "start_time": "2024-08-28T01:02:45.875Z"
   },
   {
    "duration": 6,
    "start_time": "2024-08-28T01:16:59.032Z"
   },
   {
    "duration": 154,
    "start_time": "2024-08-28T01:28:06.138Z"
   },
   {
    "duration": 6,
    "start_time": "2024-08-28T01:29:21.044Z"
   },
   {
    "duration": 4,
    "start_time": "2024-08-28T01:29:32.433Z"
   },
   {
    "duration": 3,
    "start_time": "2024-08-28T01:35:51.930Z"
   },
   {
    "duration": 3,
    "start_time": "2024-08-28T01:36:09.505Z"
   },
   {
    "duration": 332,
    "start_time": "2024-08-28T01:36:17.629Z"
   },
   {
    "duration": 861,
    "start_time": "2024-08-28T01:36:17.963Z"
   },
   {
    "duration": 12,
    "start_time": "2024-08-28T01:36:18.825Z"
   },
   {
    "duration": 10,
    "start_time": "2024-08-28T01:36:18.839Z"
   },
   {
    "duration": 8,
    "start_time": "2024-08-28T01:36:18.850Z"
   },
   {
    "duration": 8,
    "start_time": "2024-08-28T01:36:18.859Z"
   },
   {
    "duration": 6,
    "start_time": "2024-08-28T01:36:18.870Z"
   },
   {
    "duration": 205,
    "start_time": "2024-08-28T01:36:18.910Z"
   },
   {
    "duration": 8,
    "start_time": "2024-08-28T01:36:19.116Z"
   },
   {
    "duration": 111,
    "start_time": "2024-08-28T01:36:19.127Z"
   },
   {
    "duration": 94,
    "start_time": "2024-08-28T01:36:19.240Z"
   },
   {
    "duration": 29,
    "start_time": "2024-08-28T01:36:19.336Z"
   },
   {
    "duration": 12,
    "start_time": "2024-08-28T01:36:19.367Z"
   },
   {
    "duration": 4,
    "start_time": "2024-08-28T01:36:19.380Z"
   },
   {
    "duration": 18,
    "start_time": "2024-08-28T01:36:19.410Z"
   },
   {
    "duration": 8,
    "start_time": "2024-08-28T01:36:19.430Z"
   },
   {
    "duration": 3,
    "start_time": "2024-08-28T01:36:19.440Z"
   },
   {
    "duration": 4,
    "start_time": "2024-08-28T01:36:19.445Z"
   },
   {
    "duration": 4,
    "start_time": "2024-08-28T01:36:19.450Z"
   },
   {
    "duration": 3,
    "start_time": "2024-08-28T01:36:19.456Z"
   },
   {
    "duration": 826,
    "start_time": "2024-08-28T01:36:19.460Z"
   },
   {
    "duration": 1081,
    "start_time": "2024-08-28T01:36:20.288Z"
   },
   {
    "duration": 0,
    "start_time": "2024-08-28T01:36:21.372Z"
   },
   {
    "duration": 0,
    "start_time": "2024-08-28T01:36:21.373Z"
   },
   {
    "duration": 0,
    "start_time": "2024-08-28T01:36:21.374Z"
   },
   {
    "duration": 0,
    "start_time": "2024-08-28T01:36:21.375Z"
   },
   {
    "duration": 0,
    "start_time": "2024-08-28T01:36:21.376Z"
   },
   {
    "duration": 0,
    "start_time": "2024-08-28T01:36:21.377Z"
   },
   {
    "duration": 0,
    "start_time": "2024-08-28T01:36:21.378Z"
   },
   {
    "duration": 0,
    "start_time": "2024-08-28T01:36:21.379Z"
   },
   {
    "duration": 0,
    "start_time": "2024-08-28T01:36:21.380Z"
   },
   {
    "duration": 0,
    "start_time": "2024-08-28T01:36:21.381Z"
   },
   {
    "duration": 0,
    "start_time": "2024-08-28T01:36:21.383Z"
   },
   {
    "duration": 0,
    "start_time": "2024-08-28T01:36:21.384Z"
   },
   {
    "duration": 0,
    "start_time": "2024-08-28T01:36:21.409Z"
   },
   {
    "duration": 0,
    "start_time": "2024-08-28T01:36:21.410Z"
   },
   {
    "duration": 0,
    "start_time": "2024-08-28T01:36:21.412Z"
   },
   {
    "duration": 0,
    "start_time": "2024-08-28T01:36:21.413Z"
   },
   {
    "duration": 0,
    "start_time": "2024-08-28T01:36:21.414Z"
   },
   {
    "duration": 1,
    "start_time": "2024-08-28T01:36:21.415Z"
   },
   {
    "duration": 4,
    "start_time": "2024-08-28T01:36:33.044Z"
   },
   {
    "duration": 366,
    "start_time": "2024-08-28T01:36:59.266Z"
   },
   {
    "duration": 3,
    "start_time": "2024-08-28T01:37:13.782Z"
   },
   {
    "duration": 4,
    "start_time": "2024-08-28T01:37:33.047Z"
   },
   {
    "duration": 4,
    "start_time": "2024-08-28T01:38:19.329Z"
   },
   {
    "duration": 5,
    "start_time": "2024-08-28T01:38:45.810Z"
   },
   {
    "duration": 3,
    "start_time": "2024-08-28T01:39:19.739Z"
   },
   {
    "duration": 287,
    "start_time": "2024-08-28T01:39:31.474Z"
   },
   {
    "duration": 865,
    "start_time": "2024-08-28T01:39:31.763Z"
   },
   {
    "duration": 12,
    "start_time": "2024-08-28T01:39:32.629Z"
   },
   {
    "duration": 9,
    "start_time": "2024-08-28T01:39:32.643Z"
   },
   {
    "duration": 8,
    "start_time": "2024-08-28T01:39:32.653Z"
   },
   {
    "duration": 7,
    "start_time": "2024-08-28T01:39:32.663Z"
   },
   {
    "duration": 6,
    "start_time": "2024-08-28T01:39:32.672Z"
   },
   {
    "duration": 200,
    "start_time": "2024-08-28T01:39:32.709Z"
   },
   {
    "duration": 7,
    "start_time": "2024-08-28T01:39:32.911Z"
   },
   {
    "duration": 116,
    "start_time": "2024-08-28T01:39:32.922Z"
   },
   {
    "duration": 96,
    "start_time": "2024-08-28T01:39:33.040Z"
   },
   {
    "duration": 29,
    "start_time": "2024-08-28T01:39:33.138Z"
   },
   {
    "duration": 12,
    "start_time": "2024-08-28T01:39:33.170Z"
   },
   {
    "duration": 3,
    "start_time": "2024-08-28T01:39:33.183Z"
   },
   {
    "duration": 39,
    "start_time": "2024-08-28T01:39:33.188Z"
   },
   {
    "duration": 9,
    "start_time": "2024-08-28T01:39:33.229Z"
   },
   {
    "duration": 3,
    "start_time": "2024-08-28T01:39:33.240Z"
   },
   {
    "duration": 3,
    "start_time": "2024-08-28T01:39:33.245Z"
   },
   {
    "duration": 3,
    "start_time": "2024-08-28T01:39:33.250Z"
   },
   {
    "duration": 3,
    "start_time": "2024-08-28T01:39:33.255Z"
   },
   {
    "duration": 798,
    "start_time": "2024-08-28T01:39:33.259Z"
   },
   {
    "duration": 1049,
    "start_time": "2024-08-28T01:39:34.060Z"
   },
   {
    "duration": 0,
    "start_time": "2024-08-28T01:39:35.112Z"
   },
   {
    "duration": 0,
    "start_time": "2024-08-28T01:39:35.113Z"
   },
   {
    "duration": 0,
    "start_time": "2024-08-28T01:39:35.115Z"
   },
   {
    "duration": 0,
    "start_time": "2024-08-28T01:39:35.116Z"
   },
   {
    "duration": 0,
    "start_time": "2024-08-28T01:39:35.118Z"
   },
   {
    "duration": 0,
    "start_time": "2024-08-28T01:39:35.119Z"
   },
   {
    "duration": 0,
    "start_time": "2024-08-28T01:39:35.120Z"
   },
   {
    "duration": 0,
    "start_time": "2024-08-28T01:39:35.121Z"
   },
   {
    "duration": 0,
    "start_time": "2024-08-28T01:39:35.123Z"
   },
   {
    "duration": 0,
    "start_time": "2024-08-28T01:39:35.125Z"
   },
   {
    "duration": 0,
    "start_time": "2024-08-28T01:39:35.126Z"
   },
   {
    "duration": 0,
    "start_time": "2024-08-28T01:39:35.127Z"
   },
   {
    "duration": 0,
    "start_time": "2024-08-28T01:39:35.129Z"
   },
   {
    "duration": 0,
    "start_time": "2024-08-28T01:39:35.131Z"
   },
   {
    "duration": 0,
    "start_time": "2024-08-28T01:39:35.132Z"
   },
   {
    "duration": 1,
    "start_time": "2024-08-28T01:39:35.133Z"
   },
   {
    "duration": 0,
    "start_time": "2024-08-28T01:39:35.134Z"
   },
   {
    "duration": 0,
    "start_time": "2024-08-28T01:39:35.136Z"
   },
   {
    "duration": 0,
    "start_time": "2024-08-28T01:39:35.137Z"
   },
   {
    "duration": 4,
    "start_time": "2024-08-28T01:39:39.113Z"
   },
   {
    "duration": 299,
    "start_time": "2024-08-28T01:41:07.967Z"
   },
   {
    "duration": 872,
    "start_time": "2024-08-28T01:41:08.268Z"
   },
   {
    "duration": 11,
    "start_time": "2024-08-28T01:41:09.142Z"
   },
   {
    "duration": 11,
    "start_time": "2024-08-28T01:41:09.155Z"
   },
   {
    "duration": 8,
    "start_time": "2024-08-28T01:41:09.168Z"
   },
   {
    "duration": 36,
    "start_time": "2024-08-28T01:41:09.177Z"
   },
   {
    "duration": 7,
    "start_time": "2024-08-28T01:41:09.214Z"
   },
   {
    "duration": 210,
    "start_time": "2024-08-28T01:41:09.222Z"
   },
   {
    "duration": 7,
    "start_time": "2024-08-28T01:41:09.434Z"
   },
   {
    "duration": 112,
    "start_time": "2024-08-28T01:41:09.445Z"
   },
   {
    "duration": 92,
    "start_time": "2024-08-28T01:41:09.559Z"
   },
   {
    "duration": 29,
    "start_time": "2024-08-28T01:41:09.653Z"
   },
   {
    "duration": 27,
    "start_time": "2024-08-28T01:41:09.684Z"
   },
   {
    "duration": 3,
    "start_time": "2024-08-28T01:41:09.713Z"
   },
   {
    "duration": 18,
    "start_time": "2024-08-28T01:41:09.718Z"
   },
   {
    "duration": 9,
    "start_time": "2024-08-28T01:41:09.738Z"
   },
   {
    "duration": 5,
    "start_time": "2024-08-28T01:41:09.749Z"
   },
   {
    "duration": 4,
    "start_time": "2024-08-28T01:41:09.755Z"
   },
   {
    "duration": 4,
    "start_time": "2024-08-28T01:41:09.761Z"
   },
   {
    "duration": 3,
    "start_time": "2024-08-28T01:41:09.768Z"
   },
   {
    "duration": 781,
    "start_time": "2024-08-28T01:41:09.809Z"
   },
   {
    "duration": 1027,
    "start_time": "2024-08-28T01:41:10.592Z"
   },
   {
    "duration": 0,
    "start_time": "2024-08-28T01:41:11.621Z"
   },
   {
    "duration": 0,
    "start_time": "2024-08-28T01:41:11.622Z"
   },
   {
    "duration": 0,
    "start_time": "2024-08-28T01:41:11.623Z"
   },
   {
    "duration": 0,
    "start_time": "2024-08-28T01:41:11.624Z"
   },
   {
    "duration": 0,
    "start_time": "2024-08-28T01:41:11.625Z"
   },
   {
    "duration": 0,
    "start_time": "2024-08-28T01:41:11.626Z"
   },
   {
    "duration": 0,
    "start_time": "2024-08-28T01:41:11.627Z"
   },
   {
    "duration": 0,
    "start_time": "2024-08-28T01:41:11.628Z"
   },
   {
    "duration": 0,
    "start_time": "2024-08-28T01:41:11.629Z"
   },
   {
    "duration": 0,
    "start_time": "2024-08-28T01:41:11.630Z"
   },
   {
    "duration": 0,
    "start_time": "2024-08-28T01:41:11.631Z"
   },
   {
    "duration": 0,
    "start_time": "2024-08-28T01:41:11.632Z"
   },
   {
    "duration": 0,
    "start_time": "2024-08-28T01:41:11.633Z"
   },
   {
    "duration": 0,
    "start_time": "2024-08-28T01:41:11.634Z"
   },
   {
    "duration": 0,
    "start_time": "2024-08-28T01:41:11.634Z"
   },
   {
    "duration": 0,
    "start_time": "2024-08-28T01:41:11.635Z"
   },
   {
    "duration": 0,
    "start_time": "2024-08-28T01:41:11.636Z"
   },
   {
    "duration": 0,
    "start_time": "2024-08-28T01:41:11.637Z"
   },
   {
    "duration": 0,
    "start_time": "2024-08-28T01:41:11.638Z"
   },
   {
    "duration": 5,
    "start_time": "2024-08-28T01:43:47.223Z"
   },
   {
    "duration": 4,
    "start_time": "2024-08-28T01:43:58.594Z"
   },
   {
    "duration": 3,
    "start_time": "2024-08-28T01:44:11.392Z"
   },
   {
    "duration": 12,
    "start_time": "2024-08-28T01:45:46.877Z"
   },
   {
    "duration": 25,
    "start_time": "2024-08-28T01:46:33.818Z"
   },
   {
    "duration": 1039,
    "start_time": "2024-08-28T01:47:10.899Z"
   },
   {
    "duration": 91,
    "start_time": "2024-08-28T01:47:38.145Z"
   },
   {
    "duration": 15,
    "start_time": "2024-08-28T01:48:07.942Z"
   },
   {
    "duration": 108,
    "start_time": "2024-08-28T02:30:40.306Z"
   },
   {
    "duration": 9,
    "start_time": "2024-08-28T02:31:09.561Z"
   },
   {
    "duration": 12,
    "start_time": "2024-08-28T02:31:53.812Z"
   },
   {
    "duration": 12,
    "start_time": "2024-08-28T02:32:40.733Z"
   },
   {
    "duration": 26,
    "start_time": "2024-08-28T02:33:20.093Z"
   },
   {
    "duration": 23,
    "start_time": "2024-08-28T02:33:46.136Z"
   },
   {
    "duration": 303,
    "start_time": "2024-08-28T02:40:14.633Z"
   },
   {
    "duration": 600,
    "start_time": "2024-08-28T02:40:30.971Z"
   },
   {
    "duration": 314,
    "start_time": "2024-08-28T02:41:36.549Z"
   },
   {
    "duration": 913,
    "start_time": "2024-08-28T02:41:36.865Z"
   },
   {
    "duration": 11,
    "start_time": "2024-08-28T02:41:37.780Z"
   },
   {
    "duration": 25,
    "start_time": "2024-08-28T02:41:37.793Z"
   },
   {
    "duration": 8,
    "start_time": "2024-08-28T02:41:37.821Z"
   },
   {
    "duration": 8,
    "start_time": "2024-08-28T02:41:37.831Z"
   },
   {
    "duration": 6,
    "start_time": "2024-08-28T02:41:37.841Z"
   },
   {
    "duration": 217,
    "start_time": "2024-08-28T02:41:37.849Z"
   },
   {
    "duration": 8,
    "start_time": "2024-08-28T02:41:38.068Z"
   },
   {
    "duration": 118,
    "start_time": "2024-08-28T02:41:38.080Z"
   },
   {
    "duration": 92,
    "start_time": "2024-08-28T02:41:38.200Z"
   },
   {
    "duration": 40,
    "start_time": "2024-08-28T02:41:38.293Z"
   },
   {
    "duration": 11,
    "start_time": "2024-08-28T02:41:38.335Z"
   },
   {
    "duration": 3,
    "start_time": "2024-08-28T02:41:38.350Z"
   },
   {
    "duration": 19,
    "start_time": "2024-08-28T02:41:38.355Z"
   },
   {
    "duration": 49,
    "start_time": "2024-08-28T02:41:38.376Z"
   },
   {
    "duration": 4,
    "start_time": "2024-08-28T02:41:38.426Z"
   },
   {
    "duration": 3,
    "start_time": "2024-08-28T02:41:38.432Z"
   },
   {
    "duration": 3,
    "start_time": "2024-08-28T02:41:38.437Z"
   },
   {
    "duration": 4,
    "start_time": "2024-08-28T02:41:38.442Z"
   },
   {
    "duration": 793,
    "start_time": "2024-08-28T02:41:38.447Z"
   },
   {
    "duration": 667,
    "start_time": "2024-08-28T02:41:39.242Z"
   },
   {
    "duration": 11,
    "start_time": "2024-08-28T02:41:39.910Z"
   },
   {
    "duration": 4,
    "start_time": "2024-08-28T02:41:39.922Z"
   },
   {
    "duration": 0,
    "start_time": "2024-08-28T02:41:39.927Z"
   },
   {
    "duration": 0,
    "start_time": "2024-08-28T02:41:39.929Z"
   },
   {
    "duration": 0,
    "start_time": "2024-08-28T02:41:39.930Z"
   },
   {
    "duration": 0,
    "start_time": "2024-08-28T02:41:39.932Z"
   },
   {
    "duration": 0,
    "start_time": "2024-08-28T02:41:39.933Z"
   },
   {
    "duration": 0,
    "start_time": "2024-08-28T02:41:39.934Z"
   },
   {
    "duration": 0,
    "start_time": "2024-08-28T02:41:39.935Z"
   },
   {
    "duration": 0,
    "start_time": "2024-08-28T02:41:39.936Z"
   },
   {
    "duration": 0,
    "start_time": "2024-08-28T02:41:39.937Z"
   },
   {
    "duration": 0,
    "start_time": "2024-08-28T02:41:39.938Z"
   },
   {
    "duration": 0,
    "start_time": "2024-08-28T02:41:39.940Z"
   },
   {
    "duration": 0,
    "start_time": "2024-08-28T02:41:39.941Z"
   },
   {
    "duration": 0,
    "start_time": "2024-08-28T02:41:39.942Z"
   },
   {
    "duration": 0,
    "start_time": "2024-08-28T02:41:39.943Z"
   },
   {
    "duration": 0,
    "start_time": "2024-08-28T02:41:39.944Z"
   },
   {
    "duration": 0,
    "start_time": "2024-08-28T02:41:39.945Z"
   },
   {
    "duration": 0,
    "start_time": "2024-08-28T02:41:39.946Z"
   },
   {
    "duration": 0,
    "start_time": "2024-08-28T02:41:39.947Z"
   },
   {
    "duration": 0,
    "start_time": "2024-08-28T02:41:39.948Z"
   },
   {
    "duration": 163,
    "start_time": "2024-08-28T02:53:04.864Z"
   },
   {
    "duration": 307,
    "start_time": "2024-08-28T02:53:14.807Z"
   },
   {
    "duration": 1055,
    "start_time": "2024-08-28T02:53:15.116Z"
   },
   {
    "duration": 11,
    "start_time": "2024-08-28T02:53:16.173Z"
   },
   {
    "duration": 27,
    "start_time": "2024-08-28T02:53:16.186Z"
   },
   {
    "duration": 8,
    "start_time": "2024-08-28T02:53:16.214Z"
   },
   {
    "duration": 8,
    "start_time": "2024-08-28T02:53:16.224Z"
   },
   {
    "duration": 6,
    "start_time": "2024-08-28T02:53:16.233Z"
   },
   {
    "duration": 210,
    "start_time": "2024-08-28T02:53:16.241Z"
   },
   {
    "duration": 8,
    "start_time": "2024-08-28T02:53:16.453Z"
   },
   {
    "duration": 114,
    "start_time": "2024-08-28T02:53:16.464Z"
   },
   {
    "duration": 94,
    "start_time": "2024-08-28T02:53:16.580Z"
   },
   {
    "duration": 37,
    "start_time": "2024-08-28T02:53:16.676Z"
   },
   {
    "duration": 11,
    "start_time": "2024-08-28T02:53:16.715Z"
   },
   {
    "duration": 4,
    "start_time": "2024-08-28T02:53:16.728Z"
   },
   {
    "duration": 19,
    "start_time": "2024-08-28T02:53:16.734Z"
   },
   {
    "duration": 21,
    "start_time": "2024-08-28T02:53:16.755Z"
   },
   {
    "duration": 31,
    "start_time": "2024-08-28T02:53:16.778Z"
   },
   {
    "duration": 3,
    "start_time": "2024-08-28T02:53:16.811Z"
   },
   {
    "duration": 3,
    "start_time": "2024-08-28T02:53:16.816Z"
   },
   {
    "duration": 3,
    "start_time": "2024-08-28T02:53:16.820Z"
   },
   {
    "duration": 848,
    "start_time": "2024-08-28T02:53:16.825Z"
   },
   {
    "duration": 723,
    "start_time": "2024-08-28T02:53:17.677Z"
   },
   {
    "duration": 14,
    "start_time": "2024-08-28T02:53:18.402Z"
   },
   {
    "duration": 7,
    "start_time": "2024-08-28T02:53:18.418Z"
   },
   {
    "duration": 2,
    "start_time": "2024-08-28T02:53:18.427Z"
   },
   {
    "duration": 5,
    "start_time": "2024-08-28T02:53:18.431Z"
   },
   {
    "duration": 6,
    "start_time": "2024-08-28T02:53:18.438Z"
   },
   {
    "duration": 8,
    "start_time": "2024-08-28T02:53:18.448Z"
   },
   {
    "duration": 7,
    "start_time": "2024-08-28T02:53:18.458Z"
   },
   {
    "duration": 55,
    "start_time": "2024-08-28T02:53:18.467Z"
   },
   {
    "duration": 30,
    "start_time": "2024-08-28T02:53:18.523Z"
   },
   {
    "duration": 7,
    "start_time": "2024-08-28T02:53:18.555Z"
   },
   {
    "duration": 50,
    "start_time": "2024-08-28T02:53:18.564Z"
   },
   {
    "duration": 24,
    "start_time": "2024-08-28T02:53:18.615Z"
   },
   {
    "duration": 4,
    "start_time": "2024-08-28T02:53:18.641Z"
   },
   {
    "duration": 4,
    "start_time": "2024-08-28T02:53:18.646Z"
   },
   {
    "duration": 365,
    "start_time": "2024-08-28T02:53:18.652Z"
   },
   {
    "duration": 130,
    "start_time": "2024-08-28T02:53:19.019Z"
   },
   {
    "duration": 200,
    "start_time": "2024-08-28T02:53:19.151Z"
   },
   {
    "duration": 4,
    "start_time": "2024-08-28T02:53:19.353Z"
   },
   {
    "duration": 0,
    "start_time": "2024-08-28T02:53:19.359Z"
   },
   {
    "duration": 0,
    "start_time": "2024-08-28T02:53:19.360Z"
   },
   {
    "duration": 0,
    "start_time": "2024-08-28T02:53:19.362Z"
   },
   {
    "duration": 8,
    "start_time": "2024-08-28T02:54:49.073Z"
   },
   {
    "duration": 333,
    "start_time": "2024-08-28T02:56:06.126Z"
   },
   {
    "duration": 890,
    "start_time": "2024-08-28T02:56:06.461Z"
   },
   {
    "duration": 11,
    "start_time": "2024-08-28T02:56:07.353Z"
   },
   {
    "duration": 10,
    "start_time": "2024-08-28T02:56:07.368Z"
   },
   {
    "duration": 7,
    "start_time": "2024-08-28T02:56:07.380Z"
   },
   {
    "duration": 28,
    "start_time": "2024-08-28T02:56:07.389Z"
   },
   {
    "duration": 7,
    "start_time": "2024-08-28T02:56:07.419Z"
   },
   {
    "duration": 216,
    "start_time": "2024-08-28T02:56:07.428Z"
   },
   {
    "duration": 8,
    "start_time": "2024-08-28T02:56:07.647Z"
   },
   {
    "duration": 114,
    "start_time": "2024-08-28T02:56:07.659Z"
   },
   {
    "duration": 103,
    "start_time": "2024-08-28T02:56:07.775Z"
   },
   {
    "duration": 32,
    "start_time": "2024-08-28T02:56:07.880Z"
   },
   {
    "duration": 13,
    "start_time": "2024-08-28T02:56:07.914Z"
   },
   {
    "duration": 3,
    "start_time": "2024-08-28T02:56:07.929Z"
   },
   {
    "duration": 20,
    "start_time": "2024-08-28T02:56:07.934Z"
   },
   {
    "duration": 22,
    "start_time": "2024-08-28T02:56:07.955Z"
   },
   {
    "duration": 3,
    "start_time": "2024-08-28T02:56:08.009Z"
   },
   {
    "duration": 3,
    "start_time": "2024-08-28T02:56:08.014Z"
   },
   {
    "duration": 3,
    "start_time": "2024-08-28T02:56:08.019Z"
   },
   {
    "duration": 3,
    "start_time": "2024-08-28T02:56:08.024Z"
   },
   {
    "duration": 795,
    "start_time": "2024-08-28T02:56:08.029Z"
   },
   {
    "duration": 692,
    "start_time": "2024-08-28T02:56:08.826Z"
   },
   {
    "duration": 10,
    "start_time": "2024-08-28T02:56:09.520Z"
   },
   {
    "duration": 8,
    "start_time": "2024-08-28T02:56:09.532Z"
   },
   {
    "duration": 7,
    "start_time": "2024-08-28T02:56:09.542Z"
   },
   {
    "duration": 6,
    "start_time": "2024-08-28T02:56:09.550Z"
   },
   {
    "duration": 7,
    "start_time": "2024-08-28T02:56:09.558Z"
   },
   {
    "duration": 44,
    "start_time": "2024-08-28T02:56:09.569Z"
   },
   {
    "duration": 8,
    "start_time": "2024-08-28T02:56:09.615Z"
   },
   {
    "duration": 19,
    "start_time": "2024-08-28T02:56:09.625Z"
   },
   {
    "duration": 30,
    "start_time": "2024-08-28T02:56:09.646Z"
   },
   {
    "duration": 32,
    "start_time": "2024-08-28T02:56:09.678Z"
   },
   {
    "duration": 21,
    "start_time": "2024-08-28T02:56:09.712Z"
   },
   {
    "duration": 29,
    "start_time": "2024-08-28T02:56:09.735Z"
   },
   {
    "duration": 7,
    "start_time": "2024-08-28T02:56:09.766Z"
   },
   {
    "duration": 4,
    "start_time": "2024-08-28T02:56:09.776Z"
   },
   {
    "duration": 342,
    "start_time": "2024-08-28T02:56:09.808Z"
   },
   {
    "duration": 135,
    "start_time": "2024-08-28T02:56:10.152Z"
   },
   {
    "duration": 212,
    "start_time": "2024-08-28T02:56:10.289Z"
   },
   {
    "duration": 7,
    "start_time": "2024-08-28T02:56:10.503Z"
   },
   {
    "duration": 0,
    "start_time": "2024-08-28T02:56:10.512Z"
   },
   {
    "duration": 0,
    "start_time": "2024-08-28T02:56:10.513Z"
   },
   {
    "duration": 0,
    "start_time": "2024-08-28T02:56:10.514Z"
   },
   {
    "duration": 5,
    "start_time": "2024-08-28T03:07:05.685Z"
   },
   {
    "duration": 4,
    "start_time": "2024-08-28T03:07:13.767Z"
   },
   {
    "duration": 14,
    "start_time": "2024-08-28T03:07:16.298Z"
   },
   {
    "duration": 320,
    "start_time": "2024-08-28T03:08:18.615Z"
   },
   {
    "duration": 874,
    "start_time": "2024-08-28T03:08:18.938Z"
   },
   {
    "duration": 12,
    "start_time": "2024-08-28T03:08:19.813Z"
   },
   {
    "duration": 9,
    "start_time": "2024-08-28T03:08:19.828Z"
   },
   {
    "duration": 9,
    "start_time": "2024-08-28T03:08:19.838Z"
   },
   {
    "duration": 8,
    "start_time": "2024-08-28T03:08:19.849Z"
   },
   {
    "duration": 7,
    "start_time": "2024-08-28T03:08:19.858Z"
   },
   {
    "duration": 230,
    "start_time": "2024-08-28T03:08:19.867Z"
   },
   {
    "duration": 15,
    "start_time": "2024-08-28T03:08:20.100Z"
   },
   {
    "duration": 106,
    "start_time": "2024-08-28T03:08:20.119Z"
   },
   {
    "duration": 106,
    "start_time": "2024-08-28T03:08:20.226Z"
   },
   {
    "duration": 30,
    "start_time": "2024-08-28T03:08:20.334Z"
   },
   {
    "duration": 15,
    "start_time": "2024-08-28T03:08:20.366Z"
   },
   {
    "duration": 4,
    "start_time": "2024-08-28T03:08:20.383Z"
   },
   {
    "duration": 38,
    "start_time": "2024-08-28T03:08:20.389Z"
   },
   {
    "duration": 22,
    "start_time": "2024-08-28T03:08:20.429Z"
   },
   {
    "duration": 4,
    "start_time": "2024-08-28T03:08:20.453Z"
   },
   {
    "duration": 4,
    "start_time": "2024-08-28T03:08:20.458Z"
   },
   {
    "duration": 5,
    "start_time": "2024-08-28T03:08:20.463Z"
   },
   {
    "duration": 3,
    "start_time": "2024-08-28T03:08:20.470Z"
   },
   {
    "duration": 734,
    "start_time": "2024-08-28T03:08:20.508Z"
   },
   {
    "duration": 682,
    "start_time": "2024-08-28T03:08:21.244Z"
   },
   {
    "duration": 10,
    "start_time": "2024-08-28T03:08:21.929Z"
   },
   {
    "duration": 7,
    "start_time": "2024-08-28T03:08:21.940Z"
   },
   {
    "duration": 7,
    "start_time": "2024-08-28T03:08:21.949Z"
   },
   {
    "duration": 5,
    "start_time": "2024-08-28T03:08:21.959Z"
   },
   {
    "duration": 6,
    "start_time": "2024-08-28T03:08:21.966Z"
   },
   {
    "duration": 9,
    "start_time": "2024-08-28T03:08:22.008Z"
   },
   {
    "duration": 6,
    "start_time": "2024-08-28T03:08:22.019Z"
   },
   {
    "duration": 19,
    "start_time": "2024-08-28T03:08:22.027Z"
   },
   {
    "duration": 29,
    "start_time": "2024-08-28T03:08:22.048Z"
   },
   {
    "duration": 29,
    "start_time": "2024-08-28T03:08:22.080Z"
   },
   {
    "duration": 20,
    "start_time": "2024-08-28T03:08:22.111Z"
   },
   {
    "duration": 24,
    "start_time": "2024-08-28T03:08:22.133Z"
   },
   {
    "duration": 3,
    "start_time": "2024-08-28T03:08:22.159Z"
   },
   {
    "duration": 4,
    "start_time": "2024-08-28T03:08:22.164Z"
   },
   {
    "duration": 374,
    "start_time": "2024-08-28T03:08:22.169Z"
   },
   {
    "duration": 128,
    "start_time": "2024-08-28T03:08:22.546Z"
   },
   {
    "duration": 203,
    "start_time": "2024-08-28T03:08:22.676Z"
   },
   {
    "duration": 10,
    "start_time": "2024-08-28T03:08:22.881Z"
   },
   {
    "duration": 22,
    "start_time": "2024-08-28T03:08:22.892Z"
   },
   {
    "duration": 331,
    "start_time": "2024-08-29T00:48:36.353Z"
   },
   {
    "duration": 1052,
    "start_time": "2024-08-29T00:48:36.686Z"
   },
   {
    "duration": 13,
    "start_time": "2024-08-29T00:48:37.740Z"
   },
   {
    "duration": 9,
    "start_time": "2024-08-29T00:48:37.756Z"
   },
   {
    "duration": 7,
    "start_time": "2024-08-29T00:48:37.767Z"
   },
   {
    "duration": 7,
    "start_time": "2024-08-29T00:48:37.776Z"
   },
   {
    "duration": 8,
    "start_time": "2024-08-29T00:48:37.785Z"
   },
   {
    "duration": 232,
    "start_time": "2024-08-29T00:48:37.794Z"
   },
   {
    "duration": 17,
    "start_time": "2024-08-29T00:48:38.028Z"
   },
   {
    "duration": 133,
    "start_time": "2024-08-29T00:48:38.049Z"
   },
   {
    "duration": 101,
    "start_time": "2024-08-29T00:48:38.183Z"
   },
   {
    "duration": 30,
    "start_time": "2024-08-29T00:48:38.286Z"
   },
   {
    "duration": 25,
    "start_time": "2024-08-29T00:48:38.318Z"
   },
   {
    "duration": 4,
    "start_time": "2024-08-29T00:48:38.345Z"
   },
   {
    "duration": 18,
    "start_time": "2024-08-29T00:48:38.351Z"
   },
   {
    "duration": 21,
    "start_time": "2024-08-29T00:48:38.371Z"
   },
   {
    "duration": 3,
    "start_time": "2024-08-29T00:48:38.394Z"
   },
   {
    "duration": 3,
    "start_time": "2024-08-29T00:48:38.399Z"
   },
   {
    "duration": 38,
    "start_time": "2024-08-29T00:48:38.404Z"
   },
   {
    "duration": 4,
    "start_time": "2024-08-29T00:48:38.444Z"
   },
   {
    "duration": 810,
    "start_time": "2024-08-29T00:48:38.450Z"
   },
   {
    "duration": 722,
    "start_time": "2024-08-29T00:48:39.262Z"
   },
   {
    "duration": 10,
    "start_time": "2024-08-29T00:48:39.986Z"
   },
   {
    "duration": 7,
    "start_time": "2024-08-29T00:48:39.997Z"
   },
   {
    "duration": 7,
    "start_time": "2024-08-29T00:48:40.006Z"
   },
   {
    "duration": 28,
    "start_time": "2024-08-29T00:48:40.016Z"
   },
   {
    "duration": 8,
    "start_time": "2024-08-29T00:48:40.045Z"
   },
   {
    "duration": 9,
    "start_time": "2024-08-29T00:48:40.057Z"
   },
   {
    "duration": 7,
    "start_time": "2024-08-29T00:48:40.068Z"
   },
   {
    "duration": 19,
    "start_time": "2024-08-29T00:48:40.077Z"
   },
   {
    "duration": 68,
    "start_time": "2024-08-29T00:48:40.098Z"
   },
   {
    "duration": 7,
    "start_time": "2024-08-29T00:48:40.168Z"
   },
   {
    "duration": 20,
    "start_time": "2024-08-29T00:48:40.177Z"
   },
   {
    "duration": 50,
    "start_time": "2024-08-29T00:48:40.199Z"
   },
   {
    "duration": 5,
    "start_time": "2024-08-29T00:48:40.251Z"
   },
   {
    "duration": 3,
    "start_time": "2024-08-29T00:48:40.258Z"
   },
   {
    "duration": 2073,
    "start_time": "2024-08-29T00:48:40.264Z"
   },
   {
    "duration": 130,
    "start_time": "2024-08-29T00:48:42.342Z"
   },
   {
    "duration": 203,
    "start_time": "2024-08-29T00:48:42.474Z"
   },
   {
    "duration": 5,
    "start_time": "2024-08-29T00:48:42.680Z"
   },
   {
    "duration": 7,
    "start_time": "2024-08-29T01:09:10.311Z"
   },
   {
    "duration": 587,
    "start_time": "2024-08-29T01:20:30.722Z"
   },
   {
    "duration": 215,
    "start_time": "2024-08-29T01:21:31.316Z"
   },
   {
    "duration": 213,
    "start_time": "2024-08-29T01:26:54.516Z"
   },
   {
    "duration": 128,
    "start_time": "2024-08-29T01:36:34.683Z"
   },
   {
    "duration": 138,
    "start_time": "2024-08-29T01:39:49.299Z"
   },
   {
    "duration": 332,
    "start_time": "2024-08-29T01:55:40.073Z"
   },
   {
    "duration": 67,
    "start_time": "2024-08-29T01:56:00.313Z"
   },
   {
    "duration": 7,
    "start_time": "2024-08-29T01:57:04.990Z"
   },
   {
    "duration": 50,
    "start_time": "2024-08-29T02:05:55.956Z"
   },
   {
    "duration": 57,
    "start_time": "2024-08-29T02:06:15.191Z"
   },
   {
    "duration": 286,
    "start_time": "2024-08-30T00:04:23.656Z"
   },
   {
    "duration": 1044,
    "start_time": "2024-08-30T00:04:23.943Z"
   },
   {
    "duration": 12,
    "start_time": "2024-08-30T00:04:24.988Z"
   },
   {
    "duration": 9,
    "start_time": "2024-08-30T00:04:25.003Z"
   },
   {
    "duration": 8,
    "start_time": "2024-08-30T00:04:25.014Z"
   },
   {
    "duration": 11,
    "start_time": "2024-08-30T00:04:25.024Z"
   },
   {
    "duration": 7,
    "start_time": "2024-08-30T00:04:25.037Z"
   },
   {
    "duration": 211,
    "start_time": "2024-08-30T00:04:25.046Z"
   },
   {
    "duration": 8,
    "start_time": "2024-08-30T00:04:25.259Z"
   },
   {
    "duration": 111,
    "start_time": "2024-08-30T00:04:25.270Z"
   },
   {
    "duration": 88,
    "start_time": "2024-08-30T00:04:25.383Z"
   },
   {
    "duration": 37,
    "start_time": "2024-08-30T00:04:25.473Z"
   },
   {
    "duration": 12,
    "start_time": "2024-08-30T00:04:25.512Z"
   },
   {
    "duration": 4,
    "start_time": "2024-08-30T00:04:25.525Z"
   },
   {
    "duration": 17,
    "start_time": "2024-08-30T00:04:25.532Z"
   },
   {
    "duration": 45,
    "start_time": "2024-08-30T00:04:25.551Z"
   },
   {
    "duration": 3,
    "start_time": "2024-08-30T00:04:25.598Z"
   },
   {
    "duration": 3,
    "start_time": "2024-08-30T00:04:25.602Z"
   },
   {
    "duration": 5,
    "start_time": "2024-08-30T00:04:25.607Z"
   },
   {
    "duration": 3,
    "start_time": "2024-08-30T00:04:25.613Z"
   },
   {
    "duration": 779,
    "start_time": "2024-08-30T00:04:25.618Z"
   },
   {
    "duration": 661,
    "start_time": "2024-08-30T00:04:26.399Z"
   },
   {
    "duration": 10,
    "start_time": "2024-08-30T00:04:27.062Z"
   },
   {
    "duration": 16,
    "start_time": "2024-08-30T00:04:27.074Z"
   },
   {
    "duration": 7,
    "start_time": "2024-08-30T00:04:27.092Z"
   },
   {
    "duration": 6,
    "start_time": "2024-08-30T00:04:27.100Z"
   },
   {
    "duration": 7,
    "start_time": "2024-08-30T00:04:27.108Z"
   },
   {
    "duration": 8,
    "start_time": "2024-08-30T00:04:27.119Z"
   },
   {
    "duration": 6,
    "start_time": "2024-08-30T00:04:27.128Z"
   },
   {
    "duration": 56,
    "start_time": "2024-08-30T00:04:27.136Z"
   },
   {
    "duration": 29,
    "start_time": "2024-08-30T00:04:27.194Z"
   },
   {
    "duration": 7,
    "start_time": "2024-08-30T00:04:27.224Z"
   },
   {
    "duration": 20,
    "start_time": "2024-08-30T00:04:27.233Z"
   },
   {
    "duration": 50,
    "start_time": "2024-08-30T00:04:27.255Z"
   },
   {
    "duration": 4,
    "start_time": "2024-08-30T00:04:27.307Z"
   },
   {
    "duration": 4,
    "start_time": "2024-08-30T00:04:27.312Z"
   },
   {
    "duration": 2042,
    "start_time": "2024-08-30T00:04:27.318Z"
   },
   {
    "duration": 127,
    "start_time": "2024-08-30T00:04:29.362Z"
   },
   {
    "duration": 233,
    "start_time": "2024-08-30T00:04:29.490Z"
   },
   {
    "duration": 228,
    "start_time": "2024-08-30T00:04:29.724Z"
   },
   {
    "duration": 136,
    "start_time": "2024-08-30T00:04:29.953Z"
   },
   {
    "duration": 50,
    "start_time": "2024-08-30T00:04:30.091Z"
   },
   {
    "duration": 58,
    "start_time": "2024-08-30T00:38:09.065Z"
   },
   {
    "duration": 319,
    "start_time": "2024-08-30T22:09:36.639Z"
   },
   {
    "duration": 1077,
    "start_time": "2024-08-30T22:09:36.960Z"
   },
   {
    "duration": 16,
    "start_time": "2024-08-30T22:09:38.042Z"
   },
   {
    "duration": 20,
    "start_time": "2024-08-30T22:09:38.060Z"
   },
   {
    "duration": 11,
    "start_time": "2024-08-30T22:09:38.083Z"
   },
   {
    "duration": 9,
    "start_time": "2024-08-30T22:09:38.095Z"
   },
   {
    "duration": 7,
    "start_time": "2024-08-30T22:09:38.106Z"
   },
   {
    "duration": 239,
    "start_time": "2024-08-30T22:09:38.117Z"
   },
   {
    "duration": 8,
    "start_time": "2024-08-30T22:09:38.369Z"
   },
   {
    "duration": 118,
    "start_time": "2024-08-30T22:09:38.381Z"
   },
   {
    "duration": 128,
    "start_time": "2024-08-30T22:09:38.501Z"
   },
   {
    "duration": 44,
    "start_time": "2024-08-30T22:09:38.632Z"
   },
   {
    "duration": 13,
    "start_time": "2024-08-30T22:09:38.679Z"
   },
   {
    "duration": 4,
    "start_time": "2024-08-30T22:09:38.694Z"
   },
   {
    "duration": 20,
    "start_time": "2024-08-30T22:09:38.700Z"
   },
   {
    "duration": 49,
    "start_time": "2024-08-30T22:09:38.721Z"
   },
   {
    "duration": 4,
    "start_time": "2024-08-30T22:09:38.772Z"
   },
   {
    "duration": 3,
    "start_time": "2024-08-30T22:09:38.779Z"
   },
   {
    "duration": 5,
    "start_time": "2024-08-30T22:09:38.784Z"
   },
   {
    "duration": 3,
    "start_time": "2024-08-30T22:09:38.790Z"
   },
   {
    "duration": 795,
    "start_time": "2024-08-30T22:09:38.795Z"
   },
   {
    "duration": 689,
    "start_time": "2024-08-30T22:09:39.592Z"
   },
   {
    "duration": 9,
    "start_time": "2024-08-30T22:09:40.283Z"
   },
   {
    "duration": 7,
    "start_time": "2024-08-30T22:09:40.294Z"
   },
   {
    "duration": 8,
    "start_time": "2024-08-30T22:09:40.302Z"
   },
   {
    "duration": 6,
    "start_time": "2024-08-30T22:09:40.311Z"
   },
   {
    "duration": 7,
    "start_time": "2024-08-30T22:09:40.318Z"
   },
   {
    "duration": 47,
    "start_time": "2024-08-30T22:09:40.328Z"
   },
   {
    "duration": 7,
    "start_time": "2024-08-30T22:09:40.377Z"
   },
   {
    "duration": 19,
    "start_time": "2024-08-30T22:09:40.386Z"
   },
   {
    "duration": 30,
    "start_time": "2024-08-30T22:09:40.407Z"
   },
   {
    "duration": 30,
    "start_time": "2024-08-30T22:09:40.440Z"
   },
   {
    "duration": 20,
    "start_time": "2024-08-30T22:09:40.472Z"
   },
   {
    "duration": 24,
    "start_time": "2024-08-30T22:09:40.494Z"
   },
   {
    "duration": 3,
    "start_time": "2024-08-30T22:09:40.520Z"
   },
   {
    "duration": 3,
    "start_time": "2024-08-30T22:09:40.525Z"
   },
   {
    "duration": 2079,
    "start_time": "2024-08-30T22:09:40.530Z"
   },
   {
    "duration": 128,
    "start_time": "2024-08-30T22:09:42.611Z"
   },
   {
    "duration": 198,
    "start_time": "2024-08-30T22:09:42.741Z"
   },
   {
    "duration": 267,
    "start_time": "2024-08-30T22:09:42.941Z"
   },
   {
    "duration": 143,
    "start_time": "2024-08-30T22:09:43.210Z"
   },
   {
    "duration": 79,
    "start_time": "2024-08-30T22:09:43.355Z"
   },
   {
    "duration": 146,
    "start_time": "2024-08-30T22:14:18.539Z"
   },
   {
    "duration": 140,
    "start_time": "2024-08-30T22:15:13.574Z"
   },
   {
    "duration": 148,
    "start_time": "2024-08-30T22:16:40.038Z"
   },
   {
    "duration": 1135,
    "start_time": "2024-08-30T22:33:02.049Z"
   },
   {
    "duration": 1143,
    "start_time": "2024-08-30T22:33:48.652Z"
   },
   {
    "duration": 1132,
    "start_time": "2024-08-30T22:34:38.012Z"
   },
   {
    "duration": 1141,
    "start_time": "2024-08-30T22:34:59.102Z"
   },
   {
    "duration": 399,
    "start_time": "2024-08-30T22:39:19.190Z"
   },
   {
    "duration": 391,
    "start_time": "2024-08-30T22:40:21.089Z"
   },
   {
    "duration": 377,
    "start_time": "2024-08-30T22:40:33.241Z"
   },
   {
    "duration": 412,
    "start_time": "2024-08-30T22:41:08.460Z"
   },
   {
    "duration": 378,
    "start_time": "2024-08-30T22:41:45.255Z"
   },
   {
    "duration": 406,
    "start_time": "2024-08-30T22:41:54.757Z"
   },
   {
    "duration": 728,
    "start_time": "2024-08-30T22:48:43.408Z"
   },
   {
    "duration": 135,
    "start_time": "2024-08-30T22:49:28.278Z"
   },
   {
    "duration": 282,
    "start_time": "2024-08-30T22:50:11.437Z"
   },
   {
    "duration": 883,
    "start_time": "2024-08-30T22:50:11.721Z"
   },
   {
    "duration": 12,
    "start_time": "2024-08-30T22:50:12.606Z"
   },
   {
    "duration": 9,
    "start_time": "2024-08-30T22:50:12.621Z"
   },
   {
    "duration": 8,
    "start_time": "2024-08-30T22:50:12.632Z"
   },
   {
    "duration": 31,
    "start_time": "2024-08-30T22:50:12.642Z"
   },
   {
    "duration": 6,
    "start_time": "2024-08-30T22:50:12.676Z"
   },
   {
    "duration": 207,
    "start_time": "2024-08-30T22:50:12.684Z"
   },
   {
    "duration": 8,
    "start_time": "2024-08-30T22:50:12.893Z"
   },
   {
    "duration": 113,
    "start_time": "2024-08-30T22:50:12.905Z"
   },
   {
    "duration": 113,
    "start_time": "2024-08-30T22:50:13.020Z"
   },
   {
    "duration": 40,
    "start_time": "2024-08-30T22:50:13.134Z"
   },
   {
    "duration": 12,
    "start_time": "2024-08-30T22:50:13.176Z"
   },
   {
    "duration": 3,
    "start_time": "2024-08-30T22:50:13.189Z"
   },
   {
    "duration": 18,
    "start_time": "2024-08-30T22:50:13.194Z"
   },
   {
    "duration": 22,
    "start_time": "2024-08-30T22:50:13.215Z"
   },
   {
    "duration": 32,
    "start_time": "2024-08-30T22:50:13.238Z"
   },
   {
    "duration": 3,
    "start_time": "2024-08-30T22:50:13.272Z"
   },
   {
    "duration": 4,
    "start_time": "2024-08-30T22:50:13.276Z"
   },
   {
    "duration": 3,
    "start_time": "2024-08-30T22:50:13.282Z"
   },
   {
    "duration": 810,
    "start_time": "2024-08-30T22:50:13.287Z"
   },
   {
    "duration": 729,
    "start_time": "2024-08-30T22:50:14.099Z"
   },
   {
    "duration": 9,
    "start_time": "2024-08-30T22:50:14.831Z"
   },
   {
    "duration": 8,
    "start_time": "2024-08-30T22:50:14.842Z"
   },
   {
    "duration": 23,
    "start_time": "2024-08-30T22:50:14.852Z"
   },
   {
    "duration": 6,
    "start_time": "2024-08-30T22:50:14.877Z"
   },
   {
    "duration": 6,
    "start_time": "2024-08-30T22:50:14.885Z"
   },
   {
    "duration": 8,
    "start_time": "2024-08-30T22:50:14.896Z"
   },
   {
    "duration": 8,
    "start_time": "2024-08-30T22:50:14.905Z"
   },
   {
    "duration": 19,
    "start_time": "2024-08-30T22:50:14.915Z"
   },
   {
    "duration": 30,
    "start_time": "2024-08-30T22:50:14.970Z"
   },
   {
    "duration": 8,
    "start_time": "2024-08-30T22:50:15.002Z"
   },
   {
    "duration": 21,
    "start_time": "2024-08-30T22:50:15.011Z"
   },
   {
    "duration": 50,
    "start_time": "2024-08-30T22:50:15.033Z"
   },
   {
    "duration": 4,
    "start_time": "2024-08-30T22:50:15.085Z"
   },
   {
    "duration": 4,
    "start_time": "2024-08-30T22:50:15.091Z"
   },
   {
    "duration": 357,
    "start_time": "2024-08-30T22:50:15.096Z"
   },
   {
    "duration": 137,
    "start_time": "2024-08-30T22:50:15.455Z"
   },
   {
    "duration": 201,
    "start_time": "2024-08-30T22:50:15.594Z"
   },
   {
    "duration": 224,
    "start_time": "2024-08-30T22:50:15.797Z"
   },
   {
    "duration": 151,
    "start_time": "2024-08-30T22:50:16.029Z"
   },
   {
    "duration": 1204,
    "start_time": "2024-08-30T22:50:16.182Z"
   },
   {
    "duration": 402,
    "start_time": "2024-08-30T22:50:17.388Z"
   },
   {
    "duration": 656,
    "start_time": "2024-08-30T22:50:17.792Z"
   },
   {
    "duration": 130,
    "start_time": "2024-08-30T22:51:57.690Z"
   },
   {
    "duration": 88,
    "start_time": "2024-08-30T22:52:39.287Z"
   },
   {
    "duration": 113,
    "start_time": "2024-08-30T22:52:43.627Z"
   },
   {
    "duration": 275,
    "start_time": "2024-08-30T22:54:08.853Z"
   },
   {
    "duration": 304,
    "start_time": "2024-08-30T22:54:12.881Z"
   },
   {
    "duration": 6,
    "start_time": "2024-08-31T00:45:47.585Z"
   },
   {
    "duration": 13,
    "start_time": "2024-08-31T00:46:02.777Z"
   },
   {
    "duration": 135,
    "start_time": "2024-08-31T00:46:11.853Z"
   },
   {
    "duration": 202,
    "start_time": "2024-08-31T00:47:30.929Z"
   },
   {
    "duration": 4,
    "start_time": "2024-08-31T00:47:46.132Z"
   },
   {
    "duration": 6,
    "start_time": "2024-08-31T00:47:55.166Z"
   },
   {
    "duration": 905,
    "start_time": "2024-08-31T01:20:20.371Z"
   },
   {
    "duration": 103,
    "start_time": "2024-08-31T01:39:43.769Z"
   }
  ],
  "colab": {
   "provenance": []
  },
  "kernelspec": {
   "display_name": "base",
   "language": "python",
   "name": "python3"
  },
  "language_info": {
   "codemirror_mode": {
    "name": "ipython",
    "version": 3
   },
   "file_extension": ".py",
   "mimetype": "text/x-python",
   "name": "python",
   "nbconvert_exporter": "python",
   "pygments_lexer": "ipython3",
   "version": "3.12.4"
  },
  "toc": {
   "base_numbering": 1,
   "nav_menu": {},
   "number_sections": true,
   "sideBar": true,
   "skip_h1_title": true,
   "title_cell": "Table of Contents",
   "title_sidebar": "Contents",
   "toc_cell": false,
   "toc_position": {},
   "toc_section_display": true,
   "toc_window_display": false
  }
 },
 "nbformat": 4,
 "nbformat_minor": 5
}
